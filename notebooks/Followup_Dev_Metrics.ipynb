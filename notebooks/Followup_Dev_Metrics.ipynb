{
 "cells": [
  {
   "cell_type": "code",
   "execution_count": 1,
   "metadata": {},
   "outputs": [],
   "source": [
    "import spacy\n"
   ]
  },
  {
   "cell_type": "code",
   "execution_count": 2,
   "metadata": {},
   "outputs": [],
   "source": [
    "import spacy\n",
    "import pandas as pd\n"
   ]
  },
  {
   "cell_type": "code",
   "execution_count": 3,
   "metadata": {},
   "outputs": [],
   "source": [
    "cts = pd.read_csv(\"/home/vs428/project/Moore_data/all_moore_cts.csv\", header=None)"
   ]
  },
  {
   "cell_type": "code",
   "execution_count": 4,
   "metadata": {},
   "outputs": [],
   "source": [
    "cts = cts.rename({0:\"KL_ID\", 1:\"Age\", 2:\"person_id\",3: \"CT_Text\", \n",
    "            4:\"Adjudicated_Recommendation\", 5:\"Model_Recommendation\", 6:\"Nodule_model\",\n",
    "           7:\"Measurement_date\", 8:\"CT_type\"}, axis=1)"
   ]
  },
  {
   "cell_type": "code",
   "execution_count": 5,
   "metadata": {},
   "outputs": [
    {
     "data": {
      "text/plain": [
       "True"
      ]
     },
     "execution_count": 5,
     "metadata": {},
     "output_type": "execute_result"
    }
   ],
   "source": [
    "spacy.require_gpu()\n"
   ]
  },
  {
   "cell_type": "code",
   "execution_count": 6,
   "metadata": {},
   "outputs": [
    {
     "name": "stderr",
     "output_type": "stream",
     "text": [
      "/gpfs/milgram/project/rtaylor/vs428/conda_envs/prodigy/lib/python3.9/site-packages/spacy/util.py:865: UserWarning: [W095] Model 'en_pipeline' (0.0.0) was trained with spaCy v3.2 and may not be 100% compatible with the current version (3.4.1). If you see errors or degraded performance, download a newer compatible model or retrain your custom model with the current spaCy version. For more details and available updates, run: python -m spacy validate\n",
      "  warnings.warn(warn_msg)\n"
     ]
    },
    {
     "data": {
      "text/plain": [
       "<spacy.pipeline.dep_parser.DependencyParser at 0x2b9c21aa63c0>"
      ]
     },
     "execution_count": 6,
     "metadata": {},
     "output_type": "execute_result"
    }
   ],
   "source": [
    "nlp = spacy.load(\"/home/vs428/project/Moore_models/task_4_textcat_GOLD/model-best\", exclude=\"tagger,parser,attribute_ruler,lemmatizer,ner\")\n",
    "nlp_orig = spacy.load(\"en_core_web_trf\")\n",
    "nlp.add_pipe(\"parser\", source=nlp_orig, after=\"transformer\")\n",
    "# nlp.add_pipe(\"tagger\", source=nlp_orig, after=\"parser\")\n",
    "# nlp.add_pipe(\"attribute_ruler\", source=nlp_orig, after=\"tagger\")\n",
    "# nlp.add_pipe(\"lemmatizer\", source=nlp_orig, after=\"attribute_ruler\")\n",
    "# nlp.add_pipe(\"ner\", source=nlp_orig, after=\"lemmatizer\")\n"
   ]
  },
  {
   "cell_type": "code",
   "execution_count": 7,
   "metadata": {},
   "outputs": [
    {
     "data": {
      "text/plain": [
       "<spacy.pipeline.sentencizer.Sentencizer at 0x2b9c20e7ed00>"
      ]
     },
     "execution_count": 7,
     "metadata": {},
     "output_type": "execute_result"
    }
   ],
   "source": [
    "config = {\"punct_chars\": None}\n",
    "nlp.add_pipe(\"sentencizer\", config=config)\n"
   ]
  },
  {
   "cell_type": "code",
   "execution_count": 8,
   "metadata": {},
   "outputs": [],
   "source": [
    "nodule_cts = cts[cts['Nodule_model'] == \"Nodule\"]"
   ]
  },
  {
   "cell_type": "code",
   "execution_count": 9,
   "metadata": {},
   "outputs": [
    {
     "data": {
      "text/plain": [
       "((10002, 9), (26546, 9))"
      ]
     },
     "execution_count": 9,
     "metadata": {},
     "output_type": "execute_result"
    }
   ],
   "source": [
    "nodule_cts.shape, cts.shape"
   ]
  },
  {
   "cell_type": "code",
   "execution_count": 10,
   "metadata": {},
   "outputs": [],
   "source": [
    "ct_text = nodule_cts['CT_Text'].tolist()"
   ]
  },
  {
   "cell_type": "code",
   "execution_count": 11,
   "metadata": {},
   "outputs": [],
   "source": [
    "#[0, 5, 10, 15]"
   ]
  },
  {
   "cell_type": "code",
   "execution_count": 12,
   "metadata": {},
   "outputs": [],
   "source": [
    "from spacy.matcher import PhraseMatcher\n",
    "import re\n",
    "from spacy.matcher import Matcher\n"
   ]
  },
  {
   "cell_type": "code",
   "execution_count": 13,
   "metadata": {},
   "outputs": [],
   "source": [
    "def get_previous_sentence_idx(doc, token_index):\n",
    "    if doc[token_index].sent.start - 1 < 0:\n",
    "        return 0\n",
    "    return doc[token_index].sent.start - 1\n",
    "    # return doc[doc[token_index].sent.start - 1].sent\n",
    "\n",
    "def get_next_sentence_idx(doc, token_index):\n",
    "    if doc[token_index].sent.end + 1 >= len(doc):\n",
    "        return len(doc) - 1\n",
    "    return doc[token_index].sent.end + 1\n",
    "    # return doc[doc[token_index].sent.end + 1].sent\n",
    "\n",
    "\n",
    "def get_context_sents(docs, nlp, patterns=None, context_window=2):\n",
    "    '''\n",
    "    docs [spacy Doc form]\n",
    "    '''\n",
    "    if patterns is None:\n",
    "        return docs\n",
    "    \n",
    "    matcher = PhraseMatcher(nlp.vocab)    \n",
    "    patterns_nlp = [nlp.make_doc(text) for text in patterns]    \n",
    "    matcher.add(\"TerminologyList\", patterns_nlp)\n",
    "    \n",
    "    context_sents = []\n",
    "    for idx, doc in enumerate(docs):\n",
    "        if idx % 100 == 0:\n",
    "            print(idx)\n",
    "        matches = matcher(doc)\n",
    "        if matches:\n",
    "            match_id, start, end  = matches[-1]\n",
    "            enclosing_sent = doc[start:end].sent\n",
    "            left_sent_bound = start\n",
    "            right_sent_bound = end\n",
    "\n",
    "            for context_idx in range(context_window):\n",
    "                left_sent_bound = get_previous_sentence_idx(doc, left_sent_bound)\n",
    "                right_sent_bound = get_next_sentence_idx(doc, right_sent_bound)\n",
    "\n",
    "\n",
    "            context_sents.append(doc[left_sent_bound:right_sent_bound].text)\n",
    "        else:\n",
    "            context_sents.append(doc.text)\n",
    "    return context_sents\n"
   ]
  },
  {
   "cell_type": "code",
   "execution_count": null,
   "metadata": {},
   "outputs": [],
   "source": []
  },
  {
   "cell_type": "code",
   "execution_count": 47,
   "metadata": {},
   "outputs": [],
   "source": [
    "nlped_text = nlp.pipe(ct_text)"
   ]
  },
  {
   "cell_type": "code",
   "execution_count": 48,
   "metadata": {
    "scrolled": true,
    "tags": []
   },
   "outputs": [
    {
     "name": "stdout",
     "output_type": "stream",
     "text": [
      "0\n",
      "100\n",
      "200\n",
      "300\n",
      "400\n",
      "500\n",
      "600\n",
      "700\n",
      "800\n",
      "900\n",
      "1000\n",
      "1100\n",
      "1200\n",
      "1300\n",
      "1400\n",
      "1500\n",
      "1600\n",
      "1700\n",
      "1800\n",
      "1900\n",
      "2000\n",
      "2100\n",
      "2200\n",
      "2300\n",
      "2400\n",
      "2500\n",
      "2600\n",
      "2700\n",
      "2800\n",
      "2900\n",
      "3000\n",
      "3100\n",
      "3200\n",
      "3300\n",
      "3400\n",
      "3500\n",
      "3600\n",
      "3700\n",
      "3800\n",
      "3900\n",
      "4000\n",
      "4100\n",
      "4200\n",
      "4300\n",
      "4400\n",
      "4500\n",
      "4600\n",
      "4700\n",
      "4800\n",
      "4900\n",
      "5000\n",
      "5100\n",
      "5200\n",
      "5300\n",
      "5400\n",
      "5500\n",
      "5600\n",
      "5700\n",
      "5800\n",
      "5900\n",
      "6000\n",
      "6100\n",
      "6200\n",
      "6300\n",
      "6400\n",
      "6500\n",
      "6600\n",
      "6700\n",
      "6800\n",
      "6900\n",
      "7000\n",
      "7100\n",
      "7200\n",
      "7300\n",
      "7400\n",
      "7500\n",
      "7600\n",
      "7700\n",
      "7800\n",
      "7900\n",
      "8000\n",
      "8100\n",
      "8200\n",
      "8300\n",
      "8400\n",
      "8500\n",
      "8600\n",
      "8700\n",
      "8800\n",
      "8900\n",
      "9000\n",
      "9100\n",
      "9200\n",
      "9300\n",
      "9400\n",
      "9500\n",
      "9600\n",
      "9700\n",
      "9800\n",
      "9900\n",
      "10000\n"
     ]
    }
   ],
   "source": [
    "contexts = get_context_sents(nlped_text, nlp, [\"follow\",\"recommend\"], context_window=3)"
   ]
  },
  {
   "cell_type": "code",
   "execution_count": null,
   "metadata": {},
   "outputs": [],
   "source": []
  },
  {
   "cell_type": "code",
   "execution_count": 51,
   "metadata": {},
   "outputs": [
    {
     "data": {
      "text/plain": [
       "(10002, 10002)"
      ]
     },
     "execution_count": 51,
     "metadata": {},
     "output_type": "execute_result"
    }
   ],
   "source": [
    "len(ct_text), len(contexts)"
   ]
  },
  {
   "cell_type": "code",
   "execution_count": 49,
   "metadata": {},
   "outputs": [
    {
     "data": {
      "text/html": [
       "<div>\n",
       "<style scoped>\n",
       "    .dataframe tbody tr th:only-of-type {\n",
       "        vertical-align: middle;\n",
       "    }\n",
       "\n",
       "    .dataframe tbody tr th {\n",
       "        vertical-align: top;\n",
       "    }\n",
       "\n",
       "    .dataframe thead th {\n",
       "        text-align: right;\n",
       "    }\n",
       "</style>\n",
       "<table border=\"1\" class=\"dataframe\">\n",
       "  <thead>\n",
       "    <tr style=\"text-align: right;\">\n",
       "      <th></th>\n",
       "      <th>KL_ID</th>\n",
       "      <th>Age</th>\n",
       "      <th>person_id</th>\n",
       "      <th>CT_Text</th>\n",
       "      <th>Adjudicated_Recommendation</th>\n",
       "      <th>Model_Recommendation</th>\n",
       "      <th>Nodule_model</th>\n",
       "      <th>Measurement_date</th>\n",
       "      <th>CT_type</th>\n",
       "    </tr>\n",
       "  </thead>\n",
       "  <tbody>\n",
       "    <tr>\n",
       "      <th>1</th>\n",
       "      <td>KL_12943</td>\n",
       "      <td>58</td>\n",
       "      <td>RD_13507</td>\n",
       "      <td>Reported And Signed By: Amandeep Singh, MD** O...</td>\n",
       "      <td>NO_FOLLOWUP</td>\n",
       "      <td>NO_FOLLOWUP</td>\n",
       "      <td>Nodule</td>\n",
       "      <td>2018-12-01 20:26:00</td>\n",
       "      <td>Custom: IMG3904  CTA CHEST (PE) W IV CONTRAST</td>\n",
       "    </tr>\n",
       "    <tr>\n",
       "      <th>3</th>\n",
       "      <td>KL_10419</td>\n",
       "      <td>73</td>\n",
       "      <td>RD_2420</td>\n",
       "      <td>Reported And Signed By: Balaji Rao, MD** ORIGI...</td>\n",
       "      <td>NO_FOLLOWUP</td>\n",
       "      <td>NO_FOLLOWUP</td>\n",
       "      <td>Nodule</td>\n",
       "      <td>2021-08-18 16:21:00</td>\n",
       "      <td>Custom: IMG3904  CTA CHEST (PE) W IV CONTRAST</td>\n",
       "    </tr>\n",
       "    <tr>\n",
       "      <th>5</th>\n",
       "      <td>KL_14218</td>\n",
       "      <td>69</td>\n",
       "      <td>RD_12971</td>\n",
       "      <td>Reported And Signed By: Balaji Rao, MD** ORIGI...</td>\n",
       "      <td>NO_FOLLOWUP</td>\n",
       "      <td>NO_FOLLOWUP</td>\n",
       "      <td>Nodule</td>\n",
       "      <td>2020-09-14 21:04:00</td>\n",
       "      <td>Custom: IMG3904  CTA CHEST (PE) W IV CONTRAST</td>\n",
       "    </tr>\n",
       "    <tr>\n",
       "      <th>6</th>\n",
       "      <td>KL_17076</td>\n",
       "      <td>54</td>\n",
       "      <td>RD_7157</td>\n",
       "      <td>Reported And Signed By: Balaji Rao, MD********...</td>\n",
       "      <td>HARD_FOLLOWUP</td>\n",
       "      <td>HARD_FOLLOWUP</td>\n",
       "      <td>Nodule</td>\n",
       "      <td>2014-10-09 21:37:00</td>\n",
       "      <td>Custom: IMG3904  CTA CHEST (PE) W IV CONTRAST</td>\n",
       "    </tr>\n",
       "    <tr>\n",
       "      <th>12</th>\n",
       "      <td>KL_22173</td>\n",
       "      <td>38</td>\n",
       "      <td>RD_5863</td>\n",
       "      <td>Reported And Signed By: Jonathan Mezrich, MD**...</td>\n",
       "      <td>NO_FOLLOWUP</td>\n",
       "      <td>NO_FOLLOWUP</td>\n",
       "      <td>Nodule</td>\n",
       "      <td>2020-07-06 08:32:00</td>\n",
       "      <td>Custom: IMG200  CT CHEST WO IV CONTRAST</td>\n",
       "    </tr>\n",
       "    <tr>\n",
       "      <th>...</th>\n",
       "      <td>...</td>\n",
       "      <td>...</td>\n",
       "      <td>...</td>\n",
       "      <td>...</td>\n",
       "      <td>...</td>\n",
       "      <td>...</td>\n",
       "      <td>...</td>\n",
       "      <td>...</td>\n",
       "      <td>...</td>\n",
       "    </tr>\n",
       "    <tr>\n",
       "      <th>26533</th>\n",
       "      <td>KL_5901</td>\n",
       "      <td>48</td>\n",
       "      <td>RD_4582</td>\n",
       "      <td>Yale Radiology and Biomedical Imaging** ORIGIN...</td>\n",
       "      <td>NO_FOLLOWUP</td>\n",
       "      <td>NO_FOLLOWUP</td>\n",
       "      <td>Nodule</td>\n",
       "      <td>2021-10-11 16:35:00</td>\n",
       "      <td>Custom: IMG3904  CTA CHEST (PE) W IV CONTRAST</td>\n",
       "    </tr>\n",
       "    <tr>\n",
       "      <th>26537</th>\n",
       "      <td>KL_10418</td>\n",
       "      <td>54</td>\n",
       "      <td>RD_13408</td>\n",
       "      <td>Yale Radiology and Biomedical Imaging** ORIGIN...</td>\n",
       "      <td>HARD_FOLLOWUP</td>\n",
       "      <td>HARD_FOLLOWUP</td>\n",
       "      <td>Nodule</td>\n",
       "      <td>2021-12-14 13:05:00</td>\n",
       "      <td>Custom: IMG2864  CTA CHEST ABDOMEN W AND/OR WO...</td>\n",
       "    </tr>\n",
       "    <tr>\n",
       "      <th>26540</th>\n",
       "      <td>KL_11204</td>\n",
       "      <td>66</td>\n",
       "      <td>RD_14505</td>\n",
       "      <td>Yale Radiology and Biomedical Imaging** ORIGIN...</td>\n",
       "      <td>NO_FOLLOWUP</td>\n",
       "      <td>NO_FOLLOWUP</td>\n",
       "      <td>Nodule</td>\n",
       "      <td>2021-10-20 19:08:00</td>\n",
       "      <td>Custom: IMG206  CTA CHEST W AND/OR WO IV CONTRAST</td>\n",
       "    </tr>\n",
       "    <tr>\n",
       "      <th>26542</th>\n",
       "      <td>KL_18709</td>\n",
       "      <td>42</td>\n",
       "      <td>RD_1230</td>\n",
       "      <td>Yale Radiology and Biomedical Imaging** ORIGIN...</td>\n",
       "      <td>CONDITIONAL_FOLLOWUP</td>\n",
       "      <td>HARD_FOLLOWUP</td>\n",
       "      <td>Nodule</td>\n",
       "      <td>2021-11-29 15:59:00</td>\n",
       "      <td>Custom: IMG3904  CTA CHEST (PE) W IV CONTRAST</td>\n",
       "    </tr>\n",
       "    <tr>\n",
       "      <th>26545</th>\n",
       "      <td>KL_4579</td>\n",
       "      <td>45</td>\n",
       "      <td>RD_14069</td>\n",
       "      <td>slow flow at root of left carotid  Study: CTA ...</td>\n",
       "      <td>CONDITIONAL_FOLLOWUP</td>\n",
       "      <td>CONDITIONAL_FOLLOWUP</td>\n",
       "      <td>Nodule</td>\n",
       "      <td>2015-12-10 02:56:00</td>\n",
       "      <td>Custom: IMG206  CTA CHEST W AND/OR WO IV CONTRAST</td>\n",
       "    </tr>\n",
       "  </tbody>\n",
       "</table>\n",
       "<p>10002 rows × 9 columns</p>\n",
       "</div>"
      ],
      "text/plain": [
       "          KL_ID Age person_id  \\\n",
       "1      KL_12943  58  RD_13507   \n",
       "3      KL_10419  73   RD_2420   \n",
       "5      KL_14218  69  RD_12971   \n",
       "6      KL_17076  54   RD_7157   \n",
       "12     KL_22173  38   RD_5863   \n",
       "...         ...  ..       ...   \n",
       "26533   KL_5901  48   RD_4582   \n",
       "26537  KL_10418  54  RD_13408   \n",
       "26540  KL_11204  66  RD_14505   \n",
       "26542  KL_18709  42   RD_1230   \n",
       "26545   KL_4579  45  RD_14069   \n",
       "\n",
       "                                                 CT_Text  \\\n",
       "1      Reported And Signed By: Amandeep Singh, MD** O...   \n",
       "3      Reported And Signed By: Balaji Rao, MD** ORIGI...   \n",
       "5      Reported And Signed By: Balaji Rao, MD** ORIGI...   \n",
       "6      Reported And Signed By: Balaji Rao, MD********...   \n",
       "12     Reported And Signed By: Jonathan Mezrich, MD**...   \n",
       "...                                                  ...   \n",
       "26533  Yale Radiology and Biomedical Imaging** ORIGIN...   \n",
       "26537  Yale Radiology and Biomedical Imaging** ORIGIN...   \n",
       "26540  Yale Radiology and Biomedical Imaging** ORIGIN...   \n",
       "26542  Yale Radiology and Biomedical Imaging** ORIGIN...   \n",
       "26545  slow flow at root of left carotid  Study: CTA ...   \n",
       "\n",
       "      Adjudicated_Recommendation  Model_Recommendation Nodule_model  \\\n",
       "1                    NO_FOLLOWUP           NO_FOLLOWUP       Nodule   \n",
       "3                    NO_FOLLOWUP           NO_FOLLOWUP       Nodule   \n",
       "5                    NO_FOLLOWUP           NO_FOLLOWUP       Nodule   \n",
       "6                  HARD_FOLLOWUP         HARD_FOLLOWUP       Nodule   \n",
       "12                   NO_FOLLOWUP           NO_FOLLOWUP       Nodule   \n",
       "...                          ...                   ...          ...   \n",
       "26533                NO_FOLLOWUP           NO_FOLLOWUP       Nodule   \n",
       "26537              HARD_FOLLOWUP         HARD_FOLLOWUP       Nodule   \n",
       "26540                NO_FOLLOWUP           NO_FOLLOWUP       Nodule   \n",
       "26542       CONDITIONAL_FOLLOWUP         HARD_FOLLOWUP       Nodule   \n",
       "26545       CONDITIONAL_FOLLOWUP  CONDITIONAL_FOLLOWUP       Nodule   \n",
       "\n",
       "          Measurement_date                                            CT_type  \n",
       "1      2018-12-01 20:26:00      Custom: IMG3904  CTA CHEST (PE) W IV CONTRAST  \n",
       "3      2021-08-18 16:21:00      Custom: IMG3904  CTA CHEST (PE) W IV CONTRAST  \n",
       "5      2020-09-14 21:04:00      Custom: IMG3904  CTA CHEST (PE) W IV CONTRAST  \n",
       "6      2014-10-09 21:37:00      Custom: IMG3904  CTA CHEST (PE) W IV CONTRAST  \n",
       "12     2020-07-06 08:32:00            Custom: IMG200  CT CHEST WO IV CONTRAST  \n",
       "...                    ...                                                ...  \n",
       "26533  2021-10-11 16:35:00      Custom: IMG3904  CTA CHEST (PE) W IV CONTRAST  \n",
       "26537  2021-12-14 13:05:00  Custom: IMG2864  CTA CHEST ABDOMEN W AND/OR WO...  \n",
       "26540  2021-10-20 19:08:00  Custom: IMG206  CTA CHEST W AND/OR WO IV CONTRAST  \n",
       "26542  2021-11-29 15:59:00      Custom: IMG3904  CTA CHEST (PE) W IV CONTRAST  \n",
       "26545  2015-12-10 02:56:00  Custom: IMG206  CTA CHEST W AND/OR WO IV CONTRAST  \n",
       "\n",
       "[10002 rows x 9 columns]"
      ]
     },
     "execution_count": 49,
     "metadata": {},
     "output_type": "execute_result"
    }
   ],
   "source": [
    "nodule_cts"
   ]
  },
  {
   "cell_type": "code",
   "execution_count": null,
   "metadata": {},
   "outputs": [],
   "source": [
    "# ct_text_cats = []\n",
    "# for text in contexts:\n",
    "#     ct_text_cats.append(nlp(text))"
   ]
  },
  {
   "cell_type": "code",
   "execution_count": 50,
   "metadata": {},
   "outputs": [],
   "source": [
    "# ct_text_cats"
   ]
  },
  {
   "cell_type": "code",
   "execution_count": null,
   "metadata": {},
   "outputs": [],
   "source": [
    "# nodule_cts['CONTEXT_NLP_REC'] = ct_text_cats"
   ]
  },
  {
   "cell_type": "code",
   "execution_count": 76,
   "metadata": {},
   "outputs": [],
   "source": [
    "IDX = 10"
   ]
  },
  {
   "cell_type": "code",
   "execution_count": 84,
   "metadata": {},
   "outputs": [
    {
     "data": {
      "text/plain": [
       "(10002, (10002, 10))"
      ]
     },
     "execution_count": 84,
     "metadata": {},
     "output_type": "execute_result"
    }
   ],
   "source": [
    "len(contexts), nodule_cts.shape"
   ]
  },
  {
   "cell_type": "code",
   "execution_count": 85,
   "metadata": {},
   "outputs": [
    {
     "name": "stderr",
     "output_type": "stream",
     "text": [
      "/tmp/ipykernel_101893/1587333607.py:1: SettingWithCopyWarning: \n",
      "A value is trying to be set on a copy of a slice from a DataFrame.\n",
      "Try using .loc[row_indexer,col_indexer] = value instead\n",
      "\n",
      "See the caveats in the documentation: https://pandas.pydata.org/pandas-docs/stable/user_guide/indexing.html#returning-a-view-versus-a-copy\n",
      "  nodule_cts['CONTEXT_NLP_REC'] = contexts\n"
     ]
    }
   ],
   "source": [
    "nodule_cts['CONTEXT_NLP_REC'] = contexts"
   ]
  },
  {
   "cell_type": "code",
   "execution_count": 89,
   "metadata": {},
   "outputs": [],
   "source": [
    "nodule_cts.to_csv(\"/home/vs428/project/Moore_data/all_moore_cts_contexts.csv\", index=False)"
   ]
  },
  {
   "cell_type": "code",
   "execution_count": 92,
   "metadata": {},
   "outputs": [
    {
     "data": {
      "text/plain": [
       "NO_FOLLOWUP             6968\n",
       "CONDITIONAL_FOLLOWUP    2001\n",
       "HARD_FOLLOWUP           1033\n",
       "Name: Adjudicated_Recommendation, dtype: int64"
      ]
     },
     "execution_count": 92,
     "metadata": {},
     "output_type": "execute_result"
    }
   ],
   "source": [
    "nodule_cts['Adjudicated_Recommendation'].value_counts(dropna=False)\n"
   ]
  },
  {
   "cell_type": "code",
   "execution_count": 14,
   "metadata": {},
   "outputs": [],
   "source": [
    "# from spacy.tokens import DocBin"
   ]
  },
  {
   "cell_type": "code",
   "execution_count": 15,
   "metadata": {},
   "outputs": [],
   "source": [
    "# db = DocBin()\n",
    "# for text, annotations in training_data:\n",
    "#     doc = nlp(text)\n",
    "#     ents = []\n",
    "#     for start, end, label in annotations:\n",
    "#         span = doc.char_span(start, end, label=label)\n",
    "#         ents.append(span)\n",
    "#     doc.ents = ents\n",
    "#     db.add(doc)\n",
    "# db.to_disk(\"./train.spacy\")"
   ]
  },
  {
   "cell_type": "code",
   "execution_count": 16,
   "metadata": {},
   "outputs": [],
   "source": [
    "nodule_cts = pd.read_csv(\"/home/vs428/project/Moore_data/all_moore_cts_contexts.csv\")"
   ]
  },
  {
   "cell_type": "code",
   "execution_count": 18,
   "metadata": {},
   "outputs": [],
   "source": [
    "labels = pd.read_csv(\"/home/vs428/project/Moore_data/moore_ct_labels.csv\", header=None)"
   ]
  },
  {
   "cell_type": "code",
   "execution_count": 20,
   "metadata": {},
   "outputs": [
    {
     "data": {
      "text/plain": [
       "No follow up             25\n",
       "Known malignancy         15\n",
       "Hard follow up           13\n",
       "Conditional follow up     9\n",
       "New malignancy            6\n",
       "Non lung follow up        1\n",
       "Name: 1, dtype: int64"
      ]
     },
     "execution_count": 20,
     "metadata": {},
     "output_type": "execute_result"
    }
   ],
   "source": [
    "labels[1].value_counts()\n"
   ]
  },
  {
   "cell_type": "code",
   "execution_count": 28,
   "metadata": {},
   "outputs": [],
   "source": [
    "import jsonlines\n",
    "from collections import Counter"
   ]
  },
  {
   "cell_type": "code",
   "execution_count": 23,
   "metadata": {},
   "outputs": [],
   "source": [
    "lines = []\n",
    "with jsonlines.open(\"/home/vs428/scratch60/Kevin_backup/prodigy/annotations/ct_images_75_25_500_TASK4_GOLD.jsonl\") as reader:\n",
    "    for line in reader:\n",
    "        lines.append(line)"
   ]
  },
  {
   "cell_type": "code",
   "execution_count": 25,
   "metadata": {},
   "outputs": [
    {
     "name": "stdout",
     "output_type": "stream",
     "text": [
      "501\n"
     ]
    }
   ],
   "source": [
    "print(len(lines))"
   ]
  },
  {
   "cell_type": "code",
   "execution_count": 34,
   "metadata": {},
   "outputs": [
    {
     "data": {
      "text/plain": [
       "Counter({'NO_FOLLOWUP': 274,\n",
       "         'CONDITIONAL_FOLLOWUP': 122,\n",
       "         'HARD_FOLLOWUP': 105})"
      ]
     },
     "execution_count": 34,
     "metadata": {},
     "output_type": "execute_result"
    }
   ],
   "source": [
    "Counter([line['accept'][0] for line in lines])"
   ]
  },
  {
   "cell_type": "code",
   "execution_count": 61,
   "metadata": {
    "scrolled": true,
    "tags": []
   },
   "outputs": [],
   "source": [
    "labeled_texts = [line['text'] for line in lines]"
   ]
  },
  {
   "cell_type": "code",
   "execution_count": 62,
   "metadata": {},
   "outputs": [],
   "source": [
    "nlped_labeled_text = nlp.pipe(labeled_texts)"
   ]
  },
  {
   "cell_type": "code",
   "execution_count": 63,
   "metadata": {},
   "outputs": [
    {
     "name": "stdout",
     "output_type": "stream",
     "text": [
      "0\n",
      "100\n",
      "200\n",
      "300\n",
      "400\n",
      "500\n"
     ]
    }
   ],
   "source": [
    "# get_context_sents(nlped_labeled_text, nlp, patterns=None, context_window=2):\n",
    "contexts = get_context_sents(nlped_labeled_text, nlp, [\"follow\",\"recommend\"], context_window=4)"
   ]
  },
  {
   "cell_type": "code",
   "execution_count": 66,
   "metadata": {},
   "outputs": [],
   "source": [
    "context_lines = lines.copy()"
   ]
  },
  {
   "cell_type": "code",
   "execution_count": 69,
   "metadata": {},
   "outputs": [],
   "source": [
    "for line, context_line in zip(context_lines, contexts):\n",
    "    line['text'] = context_line"
   ]
  },
  {
   "cell_type": "code",
   "execution_count": 73,
   "metadata": {},
   "outputs": [],
   "source": [
    "with jsonlines.open(\"/home/vs428/scratch60/Kevin_backup/prodigy/annotations/ct_images_75_25_500_TASK4_GOLD_contexts.jsonl\", \"w\") as writer:\n",
    "    writer.write_all(context_lines)\n",
    "    # for line in reader:\n",
    "    #     lines.append(line)"
   ]
  },
  {
   "cell_type": "code",
   "execution_count": 74,
   "metadata": {},
   "outputs": [
    {
     "data": {
      "text/plain": [
       "{'text': \"CTA CHEST (PE) W IV CONTRAST  INDICATION: Sudden onset left-sided chest pain starting yesterday evening, history of aortic root and ascending aortic aneurysm  COMPARISON: 3/14/2019, 11/4/2014  TECHNIQUE: CT images of the chest were obtained from the lung bases through the apices after the intravenous administration of 80cc of Omnipaque-350 contrast. Coronal and oblique 3D/MIPS reformats are provided.   FINDINGS: There is no evidence of filling defects in the pulmonary arteries to suspect pulmonary embolism.  These findings were corroborated in the MIP images.   The heart is enlarged. The mid ascending thoracic aorta measures up to 4.7 cm, previously measuring up to 4.6 cm. Left main coronary ectasia/prominent infundibulum is redemonstrated. There is no aneurysm or dissection of the thoracic aorta.   There is a 7 mm perifissural oblong nodule (image 204 series 3) which is stable since the study in 2014, likely representing a node. There is posterior dependent atelectasis. There is no pleural effusion or pneumothorax.  There is no axillary, mediastinal, or hilar lymphadenopathy.   Limited evaluation of the upper abdomen demonstrates indeterminate hypodense lesions in the right kidney, one measuring 3.9 x 2.6 cm (image 62 series 2) and a second lesion measuring 2.1 cm (image 67 series 2). Additionally, there is a cystic lesion in the interpolar region of the left kidney which is not completely included in the field-of-view (image 70 series 2).  There are multiple lucent lesions throughout the thoracic spine, sternum, and ribs, with a representative lesion along the sternum on image 50 series 2 with associated cortical breakthrough. \\n\\nIMPRESSION:   1. No evidence of pulmonary embolism or acute thoracic pathology. [ 2. Redemonstration of lucent lesions throughout the spine, ribs, and sternum consistent with the patient's known history of multiple myeloma, which appear stable since the examination on 3/14/2019  3. Indeterminate renal lesions in the right kidney, including a lesion measuring up to 3.9 cm, are identified and further characterization with multiphase MRI is recommended on an outpatient basis   Report Initiated By:  Andrew Kuhn, MD  A critical alert Blue ED Follow Up message has been communicated to this patient's provider via the Nuance Actionable Findings application on 10/25/2019 7:20 AM, Message ID 3586180.  Reported And Signed By: Syed Jamal Bokhari, MD\",\n",
       " '_input_hash': -1983226661,\n",
       " '_task_hash': -941005989,\n",
       " 'options': [{'id': 'NO_FOLLOWUP', 'text': 'NO_FOLLOWUP'},\n",
       "  {'id': 'HARD_FOLLOWUP', 'text': 'HARD_FOLLOWUP'},\n",
       "  {'id': 'CONDITIONAL_FOLLOWUP', 'text': 'CONDITIONAL_FOLLOWUP'}],\n",
       " '_view_id': 'choice',\n",
       " 'config': {'choice_style': 'single'},\n",
       " 'accept': ['NO_FOLLOWUP'],\n",
       " 'answer': 'accept',\n",
       " '_timestamp': 1657744578,\n",
       " '_annotator_id': 'ct_images_75_25_500_TASK4-rat4',\n",
       " '_session_id': 'ct_images_75_25_500_TASK4-rat4',\n",
       " 'sessions': ['ct_images_75_25_500_TASK4-rat4',\n",
       "  'ct_images_75_25_500_TASK4-rdenkewicz'],\n",
       " 'versions': [{'text': \"CTA CHEST (PE) W IV CONTRAST  INDICATION: Sudden onset left-sided chest pain starting yesterday evening, history of aortic root and ascending aortic aneurysm  COMPARISON: 3/14/2019, 11/4/2014  TECHNIQUE: CT images of the chest were obtained from the lung bases through the apices after the intravenous administration of 80cc of Omnipaque-350 contrast. Coronal and oblique 3D/MIPS reformats are provided.   FINDINGS: There is no evidence of filling defects in the pulmonary arteries to suspect pulmonary embolism.  These findings were corroborated in the MIP images.   The heart is enlarged. The mid ascending thoracic aorta measures up to 4.7 cm, previously measuring up to 4.6 cm. Left main coronary ectasia/prominent infundibulum is redemonstrated. There is no aneurysm or dissection of the thoracic aorta.   There is a 7 mm perifissural oblong nodule (image 204 series 3) which is stable since the study in 2014, likely representing a node. There is posterior dependent atelectasis. There is no pleural effusion or pneumothorax.  There is no axillary, mediastinal, or hilar lymphadenopathy.   Limited evaluation of the upper abdomen demonstrates indeterminate hypodense lesions in the right kidney, one measuring 3.9 x 2.6 cm (image 62 series 2) and a second lesion measuring 2.1 cm (image 67 series 2). Additionally, there is a cystic lesion in the interpolar region of the left kidney which is not completely included in the field-of-view (image 70 series 2).  There are multiple lucent lesions throughout the thoracic spine, sternum, and ribs, with a representative lesion along the sternum on image 50 series 2 with associated cortical breakthrough. \\n\\nIMPRESSION:   1. No evidence of pulmonary embolism or acute thoracic pathology. [ 2. Redemonstration of lucent lesions throughout the spine, ribs, and sternum consistent with the patient's known history of multiple myeloma, which appear stable since the examination on 3/14/2019  3. Indeterminate renal lesions in the right kidney, including a lesion measuring up to 3.9 cm, are identified and further characterization with multiphase MRI is recommended on an outpatient basis   Report Initiated By:  Andrew Kuhn, MD  A critical alert Blue ED Follow Up message has been communicated to this patient's provider via the Nuance Actionable Findings application on 10/25/2019 7:20 AM, Message ID 3586180.  Reported And Signed By: Syed Jamal Bokhari, MD\",\n",
       "   '_input_hash': -1983226661,\n",
       "   '_task_hash': -941005989,\n",
       "   'options': [{'id': 'NO_FOLLOWUP', 'text': 'NO_FOLLOWUP'},\n",
       "    {'id': 'HARD_FOLLOWUP', 'text': 'HARD_FOLLOWUP'},\n",
       "    {'id': 'CONDITIONAL_FOLLOWUP', 'text': 'CONDITIONAL_FOLLOWUP'}],\n",
       "   '_view_id': 'choice',\n",
       "   'config': {'choice_style': 'single'},\n",
       "   'accept': ['NO_FOLLOWUP'],\n",
       "   'answer': 'accept',\n",
       "   '_timestamp': 1657744578,\n",
       "   '_annotator_id': 'ct_images_75_25_500_TASK4-rat4',\n",
       "   '_session_id': 'ct_images_75_25_500_TASK4-rat4',\n",
       "   'sessions': ['ct_images_75_25_500_TASK4-rat4',\n",
       "    'ct_images_75_25_500_TASK4-rdenkewicz'],\n",
       "   'default': True}],\n",
       " 'view_id': 'choice'}"
      ]
     },
     "execution_count": 74,
     "metadata": {},
     "output_type": "execute_result"
    }
   ],
   "source": [
    "context_lines[0]"
   ]
  },
  {
   "cell_type": "code",
   "execution_count": 1,
   "metadata": {},
   "outputs": [],
   "source": [
    "import pandas as pd"
   ]
  },
  {
   "cell_type": "code",
   "execution_count": 2,
   "metadata": {},
   "outputs": [],
   "source": [
    "cts = pd.read_csv(\"/home/vs428/project/Moore_data/all_moore_cts.csv\")"
   ]
  },
  {
   "cell_type": "code",
   "execution_count": 5,
   "metadata": {},
   "outputs": [
    {
     "data": {
      "text/html": [
       "<div>\n",
       "<style scoped>\n",
       "    .dataframe tbody tr th:only-of-type {\n",
       "        vertical-align: middle;\n",
       "    }\n",
       "\n",
       "    .dataframe tbody tr th {\n",
       "        vertical-align: top;\n",
       "    }\n",
       "\n",
       "    .dataframe thead th {\n",
       "        text-align: right;\n",
       "    }\n",
       "</style>\n",
       "<table border=\"1\" class=\"dataframe\">\n",
       "  <thead>\n",
       "    <tr style=\"text-align: right;\">\n",
       "      <th></th>\n",
       "      <th>KL_ID</th>\n",
       "      <th>Age</th>\n",
       "      <th>person_id</th>\n",
       "      <th>CT_Text</th>\n",
       "      <th>Adjudicated_Recommendation</th>\n",
       "      <th>Model_Recommendation</th>\n",
       "      <th>Nodule_model</th>\n",
       "      <th>Measurement_date</th>\n",
       "      <th>CT_type</th>\n",
       "    </tr>\n",
       "  </thead>\n",
       "  <tbody>\n",
       "    <tr>\n",
       "      <th>0</th>\n",
       "      <td>KL_12943</td>\n",
       "      <td>58</td>\n",
       "      <td>RD_13507</td>\n",
       "      <td>Reported And Signed By: Amandeep Singh, MD** O...</td>\n",
       "      <td>NO_FOLLOWUP</td>\n",
       "      <td>NO_FOLLOWUP</td>\n",
       "      <td>Nodule</td>\n",
       "      <td>2018-12-01 20:26:00</td>\n",
       "      <td>Custom: IMG3904  CTA CHEST (PE) W IV CONTRAST</td>\n",
       "    </tr>\n",
       "    <tr>\n",
       "      <th>1</th>\n",
       "      <td>KL_14997</td>\n",
       "      <td>86</td>\n",
       "      <td>RD_10347</td>\n",
       "      <td>Reported And Signed By: Balaji Rao, MD** ORIGI...</td>\n",
       "      <td>NO_FOLLOWUP</td>\n",
       "      <td>NO_FOLLOWUP</td>\n",
       "      <td>No Nodule</td>\n",
       "      <td>2018-11-28 08:41:00</td>\n",
       "      <td>Custom: IMG1428  CT CHEST ABDOMEN PELVIS W IV ...</td>\n",
       "    </tr>\n",
       "    <tr>\n",
       "      <th>2</th>\n",
       "      <td>KL_10419</td>\n",
       "      <td>73</td>\n",
       "      <td>RD_2420</td>\n",
       "      <td>Reported And Signed By: Balaji Rao, MD** ORIGI...</td>\n",
       "      <td>NO_FOLLOWUP</td>\n",
       "      <td>NO_FOLLOWUP</td>\n",
       "      <td>Nodule</td>\n",
       "      <td>2021-08-18 16:21:00</td>\n",
       "      <td>Custom: IMG3904  CTA CHEST (PE) W IV CONTRAST</td>\n",
       "    </tr>\n",
       "    <tr>\n",
       "      <th>3</th>\n",
       "      <td>KL_22683</td>\n",
       "      <td>59</td>\n",
       "      <td>RD_203</td>\n",
       "      <td>Reported And Signed By: Balaji Rao, MD** ORIGI...</td>\n",
       "      <td>NO_FOLLOWUP</td>\n",
       "      <td>NO_FOLLOWUP</td>\n",
       "      <td>No Nodule</td>\n",
       "      <td>2021-04-14 19:55:00</td>\n",
       "      <td>Custom: IMG206  CTA CHEST W AND/OR WO IV CONTRAST</td>\n",
       "    </tr>\n",
       "    <tr>\n",
       "      <th>4</th>\n",
       "      <td>KL_14218</td>\n",
       "      <td>69</td>\n",
       "      <td>RD_12971</td>\n",
       "      <td>Reported And Signed By: Balaji Rao, MD** ORIGI...</td>\n",
       "      <td>NO_FOLLOWUP</td>\n",
       "      <td>NO_FOLLOWUP</td>\n",
       "      <td>Nodule</td>\n",
       "      <td>2020-09-14 21:04:00</td>\n",
       "      <td>Custom: IMG3904  CTA CHEST (PE) W IV CONTRAST</td>\n",
       "    </tr>\n",
       "    <tr>\n",
       "      <th>...</th>\n",
       "      <td>...</td>\n",
       "      <td>...</td>\n",
       "      <td>...</td>\n",
       "      <td>...</td>\n",
       "      <td>...</td>\n",
       "      <td>...</td>\n",
       "      <td>...</td>\n",
       "      <td>...</td>\n",
       "      <td>...</td>\n",
       "    </tr>\n",
       "    <tr>\n",
       "      <th>26540</th>\n",
       "      <td>KL_24924</td>\n",
       "      <td>48</td>\n",
       "      <td>RD_4586</td>\n",
       "      <td>Yale Radiology and Biomedical Imaging** ORIGIN...</td>\n",
       "      <td>NO_FOLLOWUP</td>\n",
       "      <td>NO_FOLLOWUP</td>\n",
       "      <td>No Nodule</td>\n",
       "      <td>2021-10-03 05:03:00</td>\n",
       "      <td>Custom: IMG206  CTA CHEST W AND/OR WO IV CONTRAST</td>\n",
       "    </tr>\n",
       "    <tr>\n",
       "      <th>26541</th>\n",
       "      <td>KL_18709</td>\n",
       "      <td>42</td>\n",
       "      <td>RD_1230</td>\n",
       "      <td>Yale Radiology and Biomedical Imaging** ORIGIN...</td>\n",
       "      <td>CONDITIONAL_FOLLOWUP</td>\n",
       "      <td>HARD_FOLLOWUP</td>\n",
       "      <td>Nodule</td>\n",
       "      <td>2021-11-29 15:59:00</td>\n",
       "      <td>Custom: IMG3904  CTA CHEST (PE) W IV CONTRAST</td>\n",
       "    </tr>\n",
       "    <tr>\n",
       "      <th>26542</th>\n",
       "      <td>KL_532</td>\n",
       "      <td>38</td>\n",
       "      <td>RD_1332</td>\n",
       "      <td>\\ CT CHEST ABDOMEN PELVIS W IV CONTRAST, CT 2D...</td>\n",
       "      <td>NO_FOLLOWUP</td>\n",
       "      <td>NO_FOLLOWUP</td>\n",
       "      <td>No Nodule</td>\n",
       "      <td>2020-05-11 01:22:00</td>\n",
       "      <td>Custom: IMG1428  CT CHEST ABDOMEN PELVIS W IV ...</td>\n",
       "    </tr>\n",
       "    <tr>\n",
       "      <th>26543</th>\n",
       "      <td>KL_6441</td>\n",
       "      <td>32</td>\n",
       "      <td>RD_9508</td>\n",
       "      <td>dd CTA CHEST (PE) W IV CONTRAST  INDICATION: C...</td>\n",
       "      <td>NO_FOLLOWUP</td>\n",
       "      <td>NO_FOLLOWUP</td>\n",
       "      <td>No Nodule</td>\n",
       "      <td>2018-07-19 06:18:00</td>\n",
       "      <td>Custom: IMG3904  CTA CHEST (PE) W IV CONTRAST</td>\n",
       "    </tr>\n",
       "    <tr>\n",
       "      <th>26544</th>\n",
       "      <td>KL_4579</td>\n",
       "      <td>45</td>\n",
       "      <td>RD_14069</td>\n",
       "      <td>slow flow at root of left carotid  Study: CTA ...</td>\n",
       "      <td>CONDITIONAL_FOLLOWUP</td>\n",
       "      <td>CONDITIONAL_FOLLOWUP</td>\n",
       "      <td>Nodule</td>\n",
       "      <td>2015-12-10 02:56:00</td>\n",
       "      <td>Custom: IMG206  CTA CHEST W AND/OR WO IV CONTRAST</td>\n",
       "    </tr>\n",
       "  </tbody>\n",
       "</table>\n",
       "<p>26545 rows × 9 columns</p>\n",
       "</div>"
      ],
      "text/plain": [
       "          KL_ID  Age person_id  \\\n",
       "0      KL_12943   58  RD_13507   \n",
       "1      KL_14997   86  RD_10347   \n",
       "2      KL_10419   73   RD_2420   \n",
       "3      KL_22683   59    RD_203   \n",
       "4      KL_14218   69  RD_12971   \n",
       "...         ...  ...       ...   \n",
       "26540  KL_24924   48   RD_4586   \n",
       "26541  KL_18709   42   RD_1230   \n",
       "26542    KL_532   38   RD_1332   \n",
       "26543   KL_6441   32   RD_9508   \n",
       "26544   KL_4579   45  RD_14069   \n",
       "\n",
       "                                                 CT_Text  \\\n",
       "0      Reported And Signed By: Amandeep Singh, MD** O...   \n",
       "1      Reported And Signed By: Balaji Rao, MD** ORIGI...   \n",
       "2      Reported And Signed By: Balaji Rao, MD** ORIGI...   \n",
       "3      Reported And Signed By: Balaji Rao, MD** ORIGI...   \n",
       "4      Reported And Signed By: Balaji Rao, MD** ORIGI...   \n",
       "...                                                  ...   \n",
       "26540  Yale Radiology and Biomedical Imaging** ORIGIN...   \n",
       "26541  Yale Radiology and Biomedical Imaging** ORIGIN...   \n",
       "26542  \\ CT CHEST ABDOMEN PELVIS W IV CONTRAST, CT 2D...   \n",
       "26543  dd CTA CHEST (PE) W IV CONTRAST  INDICATION: C...   \n",
       "26544  slow flow at root of left carotid  Study: CTA ...   \n",
       "\n",
       "      Adjudicated_Recommendation  Model_Recommendation Nodule_model  \\\n",
       "0                    NO_FOLLOWUP           NO_FOLLOWUP       Nodule   \n",
       "1                    NO_FOLLOWUP           NO_FOLLOWUP    No Nodule   \n",
       "2                    NO_FOLLOWUP           NO_FOLLOWUP       Nodule   \n",
       "3                    NO_FOLLOWUP           NO_FOLLOWUP    No Nodule   \n",
       "4                    NO_FOLLOWUP           NO_FOLLOWUP       Nodule   \n",
       "...                          ...                   ...          ...   \n",
       "26540                NO_FOLLOWUP           NO_FOLLOWUP    No Nodule   \n",
       "26541       CONDITIONAL_FOLLOWUP         HARD_FOLLOWUP       Nodule   \n",
       "26542                NO_FOLLOWUP           NO_FOLLOWUP    No Nodule   \n",
       "26543                NO_FOLLOWUP           NO_FOLLOWUP    No Nodule   \n",
       "26544       CONDITIONAL_FOLLOWUP  CONDITIONAL_FOLLOWUP       Nodule   \n",
       "\n",
       "          Measurement_date                                            CT_type  \n",
       "0      2018-12-01 20:26:00      Custom: IMG3904  CTA CHEST (PE) W IV CONTRAST  \n",
       "1      2018-11-28 08:41:00  Custom: IMG1428  CT CHEST ABDOMEN PELVIS W IV ...  \n",
       "2      2021-08-18 16:21:00      Custom: IMG3904  CTA CHEST (PE) W IV CONTRAST  \n",
       "3      2021-04-14 19:55:00  Custom: IMG206  CTA CHEST W AND/OR WO IV CONTRAST  \n",
       "4      2020-09-14 21:04:00      Custom: IMG3904  CTA CHEST (PE) W IV CONTRAST  \n",
       "...                    ...                                                ...  \n",
       "26540  2021-10-03 05:03:00  Custom: IMG206  CTA CHEST W AND/OR WO IV CONTRAST  \n",
       "26541  2021-11-29 15:59:00      Custom: IMG3904  CTA CHEST (PE) W IV CONTRAST  \n",
       "26542  2020-05-11 01:22:00  Custom: IMG1428  CT CHEST ABDOMEN PELVIS W IV ...  \n",
       "26543  2018-07-19 06:18:00      Custom: IMG3904  CTA CHEST (PE) W IV CONTRAST  \n",
       "26544  2015-12-10 02:56:00  Custom: IMG206  CTA CHEST W AND/OR WO IV CONTRAST  \n",
       "\n",
       "[26545 rows x 9 columns]"
      ]
     },
     "execution_count": 5,
     "metadata": {},
     "output_type": "execute_result"
    }
   ],
   "source": [
    "cts"
   ]
  },
  {
   "cell_type": "markdown",
   "metadata": {},
   "source": [
    "# Inference on Dev Set (Follow up IMPRESSION ONLY)"
   ]
  },
  {
   "cell_type": "code",
   "execution_count": 3,
   "metadata": {},
   "outputs": [],
   "source": [
    "import spacy\n",
    "from spacy.training import Corpus\n",
    "from spacy.tokens import DocBin\n",
    "\n",
    "import pandas as pd"
   ]
  },
  {
   "cell_type": "code",
   "execution_count": 4,
   "metadata": {},
   "outputs": [],
   "source": [
    "\n",
    "# doc_bin = DocBin().from_disk(\"/home/vs428/project/Moore_data/followup_impression_data/dev.spacy\")\n",
    "doc_bin = DocBin().from_disk(\"/home/vs428/project/Moore_data/followup_impression_data_1_11_2023/dev.spacy\")"
   ]
  },
  {
   "cell_type": "code",
   "execution_count": 9,
   "metadata": {},
   "outputs": [],
   "source": [
    "from spacy.language import Language\n",
    "from Weighted_TextCategorizer import TextCategorizer"
   ]
  },
  {
   "cell_type": "code",
   "execution_count": 10,
   "metadata": {},
   "outputs": [
    {
     "ename": "NotImplementedError",
     "evalue": "[E957] Writing directly to `Language.factories` isn't needed anymore in spaCy v3. Instead, you can use the `@Language.factory` decorator to register your custom component factory or `@Language.component` to register a simple stateless function component that just takes a Doc and returns it.",
     "output_type": "error",
     "traceback": [
      "\u001b[0;31m---------------------------------------------------------------------------\u001b[0m",
      "\u001b[0;31mNotImplementedError\u001b[0m                       Traceback (most recent call last)",
      "Cell \u001b[0;32mIn [10], line 1\u001b[0m\n\u001b[0;32m----> 1\u001b[0m \u001b[43mLanguage\u001b[49m\u001b[38;5;241;43m.\u001b[39;49m\u001b[43mfactories\u001b[49m\u001b[43m[\u001b[49m\u001b[38;5;124;43m'\u001b[39;49m\u001b[38;5;124;43mweighted_textcat\u001b[39;49m\u001b[38;5;124;43m'\u001b[39;49m\u001b[43m]\u001b[49m \u001b[38;5;241m=\u001b[39m \u001b[38;5;28;01mlambda\u001b[39;00m nlp, \u001b[38;5;241m*\u001b[39m\u001b[38;5;241m*\u001b[39mcfg: Weighted_TextCategorizer(nlp, \u001b[38;5;241m*\u001b[39m\u001b[38;5;241m*\u001b[39mcfg)\n",
      "File \u001b[0;32m/gpfs/milgram/project/rtaylor/vs428/conda_envs/prodigy/lib/python3.9/site-packages/spacy/util.py:202\u001b[0m, in \u001b[0;36mSimpleFrozenDict.__setitem__\u001b[0;34m(self, key, value)\u001b[0m\n\u001b[1;32m    201\u001b[0m \u001b[38;5;28;01mdef\u001b[39;00m \u001b[38;5;21m__setitem__\u001b[39m(\u001b[38;5;28mself\u001b[39m, key, value):\n\u001b[0;32m--> 202\u001b[0m     \u001b[38;5;28;01mraise\u001b[39;00m \u001b[38;5;167;01mNotImplementedError\u001b[39;00m(\u001b[38;5;28mself\u001b[39m\u001b[38;5;241m.\u001b[39merror)\n",
      "\u001b[0;31mNotImplementedError\u001b[0m: [E957] Writing directly to `Language.factories` isn't needed anymore in spaCy v3. Instead, you can use the `@Language.factory` decorator to register your custom component factory or `@Language.component` to register a simple stateless function component that just takes a Doc and returns it."
     ]
    }
   ],
   "source": [
    "Language.factories['weighted_textcat'] = lambda nlp, **cfg: Weighted_TextCategorizer(nlp, **cfg) "
   ]
  },
  {
   "cell_type": "code",
   "execution_count": 11,
   "metadata": {},
   "outputs": [
    {
     "name": "stdout",
     "output_type": "stream",
     "text": [
      "class weights: [ 1. 75. 24.]\n"
     ]
    },
    {
     "data": {
      "text/plain": [
       "<spacy.pipeline.dep_parser.DependencyParser at 0x2b65d04d3ac0>"
      ]
     },
     "execution_count": 11,
     "metadata": {},
     "output_type": "execute_result"
    }
   ],
   "source": [
    "nlp = spacy.load(\"/home/vs428/Documents/Moore/followup_model/model-best\", exclude=\"tagger,parser,attribute_ruler,lemmatizer,ner\")\n",
    "nlp_orig = spacy.load(\"en_core_web_trf\")\n",
    "nlp.add_pipe(\"parser\", source=nlp_orig, after=\"transformer\")\n",
    "# nlp = spacy.load(\"en-pipeline\")\n",
    "# nlp.add_pipe(\"tagger\", source=nlp_orig, after=\"parser\")\n",
    "# nlp.add_pipe(\"attribute_ruler\", source=nlp_orig, after=\"tagger\")\n",
    "# nlp.add_pipe(\"lemmatizer\", source=nlp_orig, after=\"attribute_ruler\")\n",
    "# nlp.add_pipe(\"ner\", source=nlp_orig, after=\"lemmatizer\")\n"
   ]
  },
  {
   "cell_type": "code",
   "execution_count": 12,
   "metadata": {},
   "outputs": [],
   "source": [
    "docs = list(doc_bin.get_docs(nlp.vocab))"
   ]
  },
  {
   "cell_type": "code",
   "execution_count": 13,
   "metadata": {},
   "outputs": [],
   "source": [
    "for doc in docs:\n",
    "    doc.cats = {}"
   ]
  },
  {
   "cell_type": "code",
   "execution_count": 14,
   "metadata": {
    "scrolled": true,
    "tags": []
   },
   "outputs": [
    {
     "name": "stdout",
     "output_type": "stream",
     "text": [
      "0\n",
      "1\n",
      "2\n",
      "3\n",
      "4\n",
      "5\n",
      "6\n",
      "7\n",
      "8\n",
      "9\n",
      "10\n",
      "11\n",
      "12\n",
      "13\n",
      "14\n",
      "15\n",
      "16\n",
      "17\n",
      "18\n",
      "19\n",
      "20\n",
      "21\n",
      "22\n",
      "23\n",
      "24\n",
      "25\n",
      "26\n",
      "27\n",
      "28\n",
      "29\n",
      "30\n",
      "31\n",
      "32\n",
      "33\n",
      "34\n",
      "35\n",
      "36\n",
      "37\n",
      "38\n",
      "39\n",
      "40\n",
      "41\n",
      "42\n",
      "43\n",
      "44\n",
      "45\n",
      "46\n",
      "47\n",
      "48\n",
      "49\n",
      "50\n",
      "51\n",
      "52\n",
      "53\n",
      "54\n",
      "55\n",
      "56\n",
      "57\n",
      "58\n",
      "59\n",
      "60\n",
      "61\n",
      "62\n",
      "63\n",
      "64\n",
      "65\n",
      "66\n",
      "67\n",
      "68\n",
      "69\n",
      "70\n",
      "71\n",
      "72\n",
      "73\n",
      "74\n",
      "75\n",
      "76\n",
      "77\n",
      "78\n",
      "79\n",
      "80\n",
      "81\n",
      "82\n",
      "83\n",
      "84\n",
      "85\n",
      "86\n",
      "87\n",
      "88\n",
      "89\n",
      "90\n",
      "91\n",
      "92\n",
      "93\n",
      "94\n",
      "95\n",
      "96\n",
      "97\n",
      "98\n",
      "99\n",
      "100\n",
      "101\n",
      "102\n",
      "103\n",
      "104\n",
      "105\n",
      "106\n",
      "107\n",
      "108\n",
      "109\n",
      "110\n",
      "111\n",
      "112\n",
      "113\n",
      "114\n",
      "115\n",
      "116\n",
      "117\n",
      "118\n",
      "119\n",
      "120\n",
      "121\n",
      "122\n",
      "123\n",
      "124\n",
      "125\n",
      "126\n",
      "127\n",
      "128\n",
      "129\n",
      "130\n",
      "131\n",
      "132\n",
      "133\n",
      "134\n",
      "135\n",
      "136\n",
      "137\n",
      "138\n",
      "139\n",
      "140\n",
      "141\n",
      "142\n",
      "143\n",
      "144\n",
      "145\n",
      "146\n",
      "147\n",
      "148\n",
      "149\n",
      "150\n"
     ]
    }
   ],
   "source": [
    "# taken from https://stackoverflow.com/a/44764557/1726404\n",
    "'''\n",
    "This works by using nlp.pipe and putting our records into tuples. We process it as tuples and get the context\n",
    "In our work, the context is just the study id. \n",
    "We get the entity text, label, start and stop characters for each entity\n",
    "we convert that to a json string, we then put the [context,json] together into a list\n",
    "append this list to nlp_out\n",
    "then turn nlp out into a df with 1 col being study id and the other being the nlp out\n",
    "Finally we merge the df with our main data df. Now we have a column with the text\n",
    "'''\n",
    "import json\n",
    "nlp_out = []\n",
    "count = 0\n",
    "for doc in nlp.pipe(docs):\n",
    "    out_ = doc.cats\n",
    "    nlp_out.append(json.dumps(out_, indent = 2))\n",
    "    print(count)\n",
    "    count +=1\n",
    "nlp_df = pd.DataFrame(nlp_out, columns=['NLP_OUT'])"
   ]
  },
  {
   "cell_type": "code",
   "execution_count": 15,
   "metadata": {},
   "outputs": [],
   "source": [
    "\n",
    "x = [doc.text for doc in docs]"
   ]
  },
  {
   "cell_type": "code",
   "execution_count": 16,
   "metadata": {},
   "outputs": [
    {
     "data": {
      "text/html": [
       "<div>\n",
       "<style scoped>\n",
       "    .dataframe tbody tr th:only-of-type {\n",
       "        vertical-align: middle;\n",
       "    }\n",
       "\n",
       "    .dataframe tbody tr th {\n",
       "        vertical-align: top;\n",
       "    }\n",
       "\n",
       "    .dataframe thead th {\n",
       "        text-align: right;\n",
       "    }\n",
       "</style>\n",
       "<table border=\"1\" class=\"dataframe\">\n",
       "  <thead>\n",
       "    <tr style=\"text-align: right;\">\n",
       "      <th></th>\n",
       "      <th>NLP_OUT</th>\n",
       "    </tr>\n",
       "  </thead>\n",
       "  <tbody>\n",
       "    <tr>\n",
       "      <th>0</th>\n",
       "      <td>{\\n  \"NO_FOLLOWUP\": 0.0005270380643196404,\\n  ...</td>\n",
       "    </tr>\n",
       "    <tr>\n",
       "      <th>1</th>\n",
       "      <td>{\\n  \"NO_FOLLOWUP\": 0.9994357228279114,\\n  \"HA...</td>\n",
       "    </tr>\n",
       "    <tr>\n",
       "      <th>2</th>\n",
       "      <td>{\\n  \"NO_FOLLOWUP\": 0.000327683228533715,\\n  \"...</td>\n",
       "    </tr>\n",
       "    <tr>\n",
       "      <th>3</th>\n",
       "      <td>{\\n  \"NO_FOLLOWUP\": 0.9993839263916016,\\n  \"HA...</td>\n",
       "    </tr>\n",
       "    <tr>\n",
       "      <th>4</th>\n",
       "      <td>{\\n  \"NO_FOLLOWUP\": 0.000575861893594265,\\n  \"...</td>\n",
       "    </tr>\n",
       "    <tr>\n",
       "      <th>...</th>\n",
       "      <td>...</td>\n",
       "    </tr>\n",
       "    <tr>\n",
       "      <th>146</th>\n",
       "      <td>{\\n  \"NO_FOLLOWUP\": 0.0005675480351783335,\\n  ...</td>\n",
       "    </tr>\n",
       "    <tr>\n",
       "      <th>147</th>\n",
       "      <td>{\\n  \"NO_FOLLOWUP\": 0.00031567655969411135,\\n ...</td>\n",
       "    </tr>\n",
       "    <tr>\n",
       "      <th>148</th>\n",
       "      <td>{\\n  \"NO_FOLLOWUP\": 0.9994366765022278,\\n  \"HA...</td>\n",
       "    </tr>\n",
       "    <tr>\n",
       "      <th>149</th>\n",
       "      <td>{\\n  \"NO_FOLLOWUP\": 0.0002979820128530264,\\n  ...</td>\n",
       "    </tr>\n",
       "    <tr>\n",
       "      <th>150</th>\n",
       "      <td>{\\n  \"NO_FOLLOWUP\": 0.0003196212637703866,\\n  ...</td>\n",
       "    </tr>\n",
       "  </tbody>\n",
       "</table>\n",
       "<p>151 rows × 1 columns</p>\n",
       "</div>"
      ],
      "text/plain": [
       "                                               NLP_OUT\n",
       "0    {\\n  \"NO_FOLLOWUP\": 0.0005270380643196404,\\n  ...\n",
       "1    {\\n  \"NO_FOLLOWUP\": 0.9994357228279114,\\n  \"HA...\n",
       "2    {\\n  \"NO_FOLLOWUP\": 0.000327683228533715,\\n  \"...\n",
       "3    {\\n  \"NO_FOLLOWUP\": 0.9993839263916016,\\n  \"HA...\n",
       "4    {\\n  \"NO_FOLLOWUP\": 0.000575861893594265,\\n  \"...\n",
       "..                                                 ...\n",
       "146  {\\n  \"NO_FOLLOWUP\": 0.0005675480351783335,\\n  ...\n",
       "147  {\\n  \"NO_FOLLOWUP\": 0.00031567655969411135,\\n ...\n",
       "148  {\\n  \"NO_FOLLOWUP\": 0.9994366765022278,\\n  \"HA...\n",
       "149  {\\n  \"NO_FOLLOWUP\": 0.0002979820128530264,\\n  ...\n",
       "150  {\\n  \"NO_FOLLOWUP\": 0.0003196212637703866,\\n  ...\n",
       "\n",
       "[151 rows x 1 columns]"
      ]
     },
     "execution_count": 16,
     "metadata": {},
     "output_type": "execute_result"
    }
   ],
   "source": [
    "nlp_df"
   ]
  },
  {
   "cell_type": "code",
   "execution_count": 17,
   "metadata": {},
   "outputs": [],
   "source": [
    "# docs_with_anns = nlp.pipe(docs[:5], as_tuples=True, batch_size=50, n_process=1)\n",
    "nlp_df['TEXT'] = x"
   ]
  },
  {
   "cell_type": "code",
   "execution_count": null,
   "metadata": {},
   "outputs": [],
   "source": []
  },
  {
   "cell_type": "code",
   "execution_count": 18,
   "metadata": {},
   "outputs": [],
   "source": [
    "def extract_prodigy_vals(x, col_name):\n",
    "    tmp = eval(x[col_name])\n",
    "    pred = max(tmp, key=tmp.get)\n",
    "    score = tmp[pred]\n",
    "    return pred, score\n",
    "\n"
   ]
  },
  {
   "cell_type": "code",
   "execution_count": null,
   "metadata": {},
   "outputs": [],
   "source": []
  },
  {
   "cell_type": "code",
   "execution_count": 19,
   "metadata": {},
   "outputs": [],
   "source": [
    "testout = nlp_df.apply(extract_prodigy_vals, axis=1, col_name=\"NLP_OUT\", result_type=\"expand\")"
   ]
  },
  {
   "cell_type": "code",
   "execution_count": null,
   "metadata": {},
   "outputs": [],
   "source": []
  },
  {
   "cell_type": "code",
   "execution_count": 20,
   "metadata": {},
   "outputs": [],
   "source": [
    "nlp_df = pd.concat([nlp_df, testout], axis=1)"
   ]
  },
  {
   "cell_type": "code",
   "execution_count": 21,
   "metadata": {},
   "outputs": [],
   "source": [
    "# def get_ids_on_orig_data(data_in, anns, \n",
    "#                          data_text_col_name, ann_text_col_name, data_ID_col, \n",
    "#                          threshold=99, verbose=False):\n",
    "#     '''Given the original set of data and a set of annotations (with text!), return a merged version of \n",
    "#     annotations that have the ID column inserted into the annotations for downstream processing\n",
    "#     '''\n",
    "#     for idx, ann in enumerate(anns):\n",
    "#         if verbose:\n",
    "#             if idx % 10 == 0:\n",
    "#                 print(idx/len(anns))\n",
    "#         ratios = data_in[data_text_col_name].apply(lambda row: fuzz.ratio(ann[ann_text_col_name], row))\n",
    "#         if ratios[ratios > threshold].shape[0] != 1:\n",
    "#             print(ratios[ratios >= threshold])\n",
    "#             print(data_in[ratios >= threshold][data_ID_col])\n",
    "#             raise Exception(\"Uh-oh\")\n",
    "#         # assert(ratios[ratios > threshold].shape[0] == 1)\n",
    "#         if \"meta\" not in ann.keys():\n",
    "#             ann['meta'] = {}\n",
    "\n",
    "#         ann['meta'][data_ID_col] = data_in[ratios >= threshold][data_ID_col]\n",
    "    \n",
    "#     return anns\n"
   ]
  },
  {
   "cell_type": "code",
   "execution_count": 22,
   "metadata": {},
   "outputs": [
    {
     "data": {
      "text/html": [
       "<div>\n",
       "<style scoped>\n",
       "    .dataframe tbody tr th:only-of-type {\n",
       "        vertical-align: middle;\n",
       "    }\n",
       "\n",
       "    .dataframe tbody tr th {\n",
       "        vertical-align: top;\n",
       "    }\n",
       "\n",
       "    .dataframe thead th {\n",
       "        text-align: right;\n",
       "    }\n",
       "</style>\n",
       "<table border=\"1\" class=\"dataframe\">\n",
       "  <thead>\n",
       "    <tr style=\"text-align: right;\">\n",
       "      <th></th>\n",
       "      <th>NLP_OUT</th>\n",
       "      <th>TEXT</th>\n",
       "      <th>0</th>\n",
       "      <th>1</th>\n",
       "    </tr>\n",
       "  </thead>\n",
       "  <tbody>\n",
       "    <tr>\n",
       "      <th>0</th>\n",
       "      <td>{\\n  \"NO_FOLLOWUP\": 0.0005270380643196404,\\n  ...</td>\n",
       "      <td>Non-specific lung nodules which measure 4 mm ...</td>\n",
       "      <td>CONDITIONAL_FOLLOWUP</td>\n",
       "      <td>0.999274</td>\n",
       "    </tr>\n",
       "    <tr>\n",
       "      <th>1</th>\n",
       "      <td>{\\n  \"NO_FOLLOWUP\": 0.9994357228279114,\\n  \"HA...</td>\n",
       "      <td>IMPRESSION:  1. No evidence of pulmonary embol...</td>\n",
       "      <td>NO_FOLLOWUP</td>\n",
       "      <td>0.999436</td>\n",
       "    </tr>\n",
       "    <tr>\n",
       "      <th>2</th>\n",
       "      <td>{\\n  \"NO_FOLLOWUP\": 0.000327683228533715,\\n  \"...</td>\n",
       "      <td>IMPRESSION:   No evidence of pulmonary embolis...</td>\n",
       "      <td>HARD_FOLLOWUP</td>\n",
       "      <td>0.999053</td>\n",
       "    </tr>\n",
       "    <tr>\n",
       "      <th>3</th>\n",
       "      <td>{\\n  \"NO_FOLLOWUP\": 0.9993839263916016,\\n  \"HA...</td>\n",
       "      <td>IMPRESSION: Type A aortic dissection with vess...</td>\n",
       "      <td>NO_FOLLOWUP</td>\n",
       "      <td>0.999384</td>\n",
       "    </tr>\n",
       "    <tr>\n",
       "      <th>4</th>\n",
       "      <td>{\\n  \"NO_FOLLOWUP\": 0.000575861893594265,\\n  \"...</td>\n",
       "      <td>. Evaluation of the more distal pulmonary tree...</td>\n",
       "      <td>CONDITIONAL_FOLLOWUP</td>\n",
       "      <td>0.999252</td>\n",
       "    </tr>\n",
       "    <tr>\n",
       "      <th>...</th>\n",
       "      <td>...</td>\n",
       "      <td>...</td>\n",
       "      <td>...</td>\n",
       "      <td>...</td>\n",
       "    </tr>\n",
       "    <tr>\n",
       "      <th>146</th>\n",
       "      <td>{\\n  \"NO_FOLLOWUP\": 0.0005675480351783335,\\n  ...</td>\n",
       "      <td>CTA CHEST (PE) W IV CONTRAST INDICATION: Pulmo...</td>\n",
       "      <td>CONDITIONAL_FOLLOWUP</td>\n",
       "      <td>0.999255</td>\n",
       "    </tr>\n",
       "    <tr>\n",
       "      <th>147</th>\n",
       "      <td>{\\n  \"NO_FOLLOWUP\": 0.00031567655969411135,\\n ...</td>\n",
       "      <td>Bones and Soft Tissues: No acute fracture or ...</td>\n",
       "      <td>HARD_FOLLOWUP</td>\n",
       "      <td>0.999075</td>\n",
       "    </tr>\n",
       "    <tr>\n",
       "      <th>148</th>\n",
       "      <td>{\\n  \"NO_FOLLOWUP\": 0.9994366765022278,\\n  \"HA...</td>\n",
       "      <td>IMPRESSION:  1. Left lower lobe segmental pulm...</td>\n",
       "      <td>NO_FOLLOWUP</td>\n",
       "      <td>0.999437</td>\n",
       "    </tr>\n",
       "    <tr>\n",
       "      <th>149</th>\n",
       "      <td>{\\n  \"NO_FOLLOWUP\": 0.0002979820128530264,\\n  ...</td>\n",
       "      <td>Impression: 1. No visceral organ injury. No ev...</td>\n",
       "      <td>HARD_FOLLOWUP</td>\n",
       "      <td>0.999134</td>\n",
       "    </tr>\n",
       "    <tr>\n",
       "      <th>150</th>\n",
       "      <td>{\\n  \"NO_FOLLOWUP\": 0.0003196212637703866,\\n  ...</td>\n",
       "      <td>IMPRESSION:  1. No evidence of central pulmona...</td>\n",
       "      <td>HARD_FOLLOWUP</td>\n",
       "      <td>0.999074</td>\n",
       "    </tr>\n",
       "  </tbody>\n",
       "</table>\n",
       "<p>151 rows × 4 columns</p>\n",
       "</div>"
      ],
      "text/plain": [
       "                                               NLP_OUT  \\\n",
       "0    {\\n  \"NO_FOLLOWUP\": 0.0005270380643196404,\\n  ...   \n",
       "1    {\\n  \"NO_FOLLOWUP\": 0.9994357228279114,\\n  \"HA...   \n",
       "2    {\\n  \"NO_FOLLOWUP\": 0.000327683228533715,\\n  \"...   \n",
       "3    {\\n  \"NO_FOLLOWUP\": 0.9993839263916016,\\n  \"HA...   \n",
       "4    {\\n  \"NO_FOLLOWUP\": 0.000575861893594265,\\n  \"...   \n",
       "..                                                 ...   \n",
       "146  {\\n  \"NO_FOLLOWUP\": 0.0005675480351783335,\\n  ...   \n",
       "147  {\\n  \"NO_FOLLOWUP\": 0.00031567655969411135,\\n ...   \n",
       "148  {\\n  \"NO_FOLLOWUP\": 0.9994366765022278,\\n  \"HA...   \n",
       "149  {\\n  \"NO_FOLLOWUP\": 0.0002979820128530264,\\n  ...   \n",
       "150  {\\n  \"NO_FOLLOWUP\": 0.0003196212637703866,\\n  ...   \n",
       "\n",
       "                                                  TEXT                     0  \\\n",
       "0     Non-specific lung nodules which measure 4 mm ...  CONDITIONAL_FOLLOWUP   \n",
       "1    IMPRESSION:  1. No evidence of pulmonary embol...           NO_FOLLOWUP   \n",
       "2    IMPRESSION:   No evidence of pulmonary embolis...         HARD_FOLLOWUP   \n",
       "3    IMPRESSION: Type A aortic dissection with vess...           NO_FOLLOWUP   \n",
       "4    . Evaluation of the more distal pulmonary tree...  CONDITIONAL_FOLLOWUP   \n",
       "..                                                 ...                   ...   \n",
       "146  CTA CHEST (PE) W IV CONTRAST INDICATION: Pulmo...  CONDITIONAL_FOLLOWUP   \n",
       "147   Bones and Soft Tissues: No acute fracture or ...         HARD_FOLLOWUP   \n",
       "148  IMPRESSION:  1. Left lower lobe segmental pulm...           NO_FOLLOWUP   \n",
       "149  Impression: 1. No visceral organ injury. No ev...         HARD_FOLLOWUP   \n",
       "150  IMPRESSION:  1. No evidence of central pulmona...         HARD_FOLLOWUP   \n",
       "\n",
       "            1  \n",
       "0    0.999274  \n",
       "1    0.999436  \n",
       "2    0.999053  \n",
       "3    0.999384  \n",
       "4    0.999252  \n",
       "..        ...  \n",
       "146  0.999255  \n",
       "147  0.999075  \n",
       "148  0.999437  \n",
       "149  0.999134  \n",
       "150  0.999074  \n",
       "\n",
       "[151 rows x 4 columns]"
      ]
     },
     "execution_count": 22,
     "metadata": {},
     "output_type": "execute_result"
    }
   ],
   "source": [
    "nlp_df"
   ]
  },
  {
   "cell_type": "code",
   "execution_count": 23,
   "metadata": {},
   "outputs": [],
   "source": [
    "\n",
    "from fuzzywuzzy import fuzz\n",
    "import jsonlines\n",
    "anns = []\n",
    "with jsonlines.open(\"/home/vs428/project/Moore_data/followup_pipeline_v3_impressions.jsonl\") as reader:\n",
    "    for line in reader:\n",
    "        anns.append(line)"
   ]
  },
  {
   "cell_type": "code",
   "execution_count": null,
   "metadata": {},
   "outputs": [],
   "source": []
  },
  {
   "cell_type": "code",
   "execution_count": 24,
   "metadata": {},
   "outputs": [
    {
     "data": {
      "text/plain": [
       "1101"
      ]
     },
     "execution_count": 24,
     "metadata": {},
     "output_type": "execute_result"
    }
   ],
   "source": [
    "len(anns)"
   ]
  },
  {
   "cell_type": "code",
   "execution_count": 25,
   "metadata": {},
   "outputs": [
    {
     "data": {
      "text/plain": [
       "NLP_OUT    {\\n  \"NO_FOLLOWUP\": 0.0005270380643196404,\\n  ...\n",
       "TEXT        Non-specific lung nodules which measure 4 mm ...\n",
       "0                                       CONDITIONAL_FOLLOWUP\n",
       "1                                                   0.999274\n",
       "Name: 0, dtype: object"
      ]
     },
     "execution_count": 25,
     "metadata": {},
     "output_type": "execute_result"
    }
   ],
   "source": [
    "nlp_df.iloc[0]"
   ]
  },
  {
   "cell_type": "code",
   "execution_count": 26,
   "metadata": {},
   "outputs": [],
   "source": [
    "import ast"
   ]
  },
  {
   "cell_type": "code",
   "execution_count": 27,
   "metadata": {},
   "outputs": [],
   "source": [
    "no_followup = []\n",
    "hard_followup = []\n",
    "cond_followup = []\n",
    "for idx, row in nlp_df.iterrows():\n",
    "    # print(row)\n",
    "    no_followup.append(ast.literal_eval(row['NLP_OUT'])['NO_FOLLOWUP'])\n",
    "    hard_followup.append(ast.literal_eval(row['NLP_OUT'])['HARD_FOLLOWUP'])\n",
    "    cond_followup.append(ast.literal_eval(row['NLP_OUT'])['CONDITIONAL_FOLLOWUP'])\n",
    "    #['NLP_OUT']"
   ]
  },
  {
   "cell_type": "code",
   "execution_count": 28,
   "metadata": {},
   "outputs": [],
   "source": [
    "nlp_df['COND'] = cond_followup\n",
    "nlp_df['HARD'] = hard_followup\n",
    "nlp_df['NO'] = no_followup\n"
   ]
  },
  {
   "cell_type": "code",
   "execution_count": 29,
   "metadata": {},
   "outputs": [],
   "source": [
    "anns_df = pd.DataFrame.from_records(anns)"
   ]
  },
  {
   "cell_type": "code",
   "execution_count": 30,
   "metadata": {},
   "outputs": [
    {
     "data": {
      "text/html": [
       "<div>\n",
       "<style scoped>\n",
       "    .dataframe tbody tr th:only-of-type {\n",
       "        vertical-align: middle;\n",
       "    }\n",
       "\n",
       "    .dataframe tbody tr th {\n",
       "        vertical-align: top;\n",
       "    }\n",
       "\n",
       "    .dataframe thead th {\n",
       "        text-align: right;\n",
       "    }\n",
       "</style>\n",
       "<table border=\"1\" class=\"dataframe\">\n",
       "  <thead>\n",
       "    <tr style=\"text-align: right;\">\n",
       "      <th></th>\n",
       "      <th>text</th>\n",
       "      <th>_input_hash</th>\n",
       "      <th>_task_hash</th>\n",
       "      <th>options</th>\n",
       "      <th>_view_id</th>\n",
       "      <th>config</th>\n",
       "      <th>accept</th>\n",
       "      <th>answer</th>\n",
       "      <th>_timestamp</th>\n",
       "      <th>_annotator_id</th>\n",
       "      <th>_session_id</th>\n",
       "      <th>sessions</th>\n",
       "      <th>view_id</th>\n",
       "    </tr>\n",
       "  </thead>\n",
       "  <tbody>\n",
       "    <tr>\n",
       "      <th>0</th>\n",
       "      <td>IMPRESSION:   1. No evidence of pulmonary embo...</td>\n",
       "      <td>-1983226661</td>\n",
       "      <td>-941005989</td>\n",
       "      <td>[{'id': 'NO_FOLLOWUP', 'text': 'NO_FOLLOWUP'},...</td>\n",
       "      <td>choice</td>\n",
       "      <td>{'choice_style': 'single'}</td>\n",
       "      <td>[NO_FOLLOWUP]</td>\n",
       "      <td>accept</td>\n",
       "      <td>1657744578</td>\n",
       "      <td>ct_images_75_25_500_TASK4-rat4</td>\n",
       "      <td>ct_images_75_25_500_TASK4-rat4</td>\n",
       "      <td>[ct_images_75_25_500_TASK4-rat4, ct_images_75_...</td>\n",
       "      <td>choice</td>\n",
       "    </tr>\n",
       "    <tr>\n",
       "      <th>1</th>\n",
       "      <td>IMPRESSION:  No evidence of pulmonary embolus....</td>\n",
       "      <td>1808797508</td>\n",
       "      <td>-1673251006</td>\n",
       "      <td>[{'id': 'NO_FOLLOWUP', 'text': 'NO_FOLLOWUP'},...</td>\n",
       "      <td>choice</td>\n",
       "      <td>{'choice_style': 'single'}</td>\n",
       "      <td>[NO_FOLLOWUP]</td>\n",
       "      <td>accept</td>\n",
       "      <td>1657744587</td>\n",
       "      <td>ct_images_75_25_500_TASK4-rat4</td>\n",
       "      <td>ct_images_75_25_500_TASK4-rat4</td>\n",
       "      <td>[ct_images_75_25_500_TASK4-rat4, ct_images_75_...</td>\n",
       "      <td>choice</td>\n",
       "    </tr>\n",
       "    <tr>\n",
       "      <th>2</th>\n",
       "      <td>IMPRESSION:  1. Acute non-to-minimally displac...</td>\n",
       "      <td>-630307167</td>\n",
       "      <td>-803402197</td>\n",
       "      <td>[{'id': 'NO_FOLLOWUP', 'text': 'NO_FOLLOWUP'},...</td>\n",
       "      <td>choice</td>\n",
       "      <td>{'choice_style': 'single'}</td>\n",
       "      <td>[NO_FOLLOWUP]</td>\n",
       "      <td>accept</td>\n",
       "      <td>1657744623</td>\n",
       "      <td>ct_images_75_25_500_TASK4-rat4</td>\n",
       "      <td>ct_images_75_25_500_TASK4-rat4</td>\n",
       "      <td>[ct_images_75_25_500_TASK4-rat4, ct_images_75_...</td>\n",
       "      <td>choice</td>\n",
       "    </tr>\n",
       "    <tr>\n",
       "      <th>3</th>\n",
       "      <td>. Likely subacute fracture of spinous process ...</td>\n",
       "      <td>-474162194</td>\n",
       "      <td>1530266395</td>\n",
       "      <td>[{'id': 'NO_FOLLOWUP', 'text': 'NO_FOLLOWUP'},...</td>\n",
       "      <td>choice</td>\n",
       "      <td>{'choice_style': 'single'}</td>\n",
       "      <td>[CONDITIONAL_FOLLOWUP]</td>\n",
       "      <td>accept</td>\n",
       "      <td>1657744634</td>\n",
       "      <td>ct_images_75_25_500_TASK4-rat4</td>\n",
       "      <td>ct_images_75_25_500_TASK4-rat4</td>\n",
       "      <td>[ct_images_75_25_500_TASK4-rat4, ct_images_75_...</td>\n",
       "      <td>choice</td>\n",
       "    </tr>\n",
       "    <tr>\n",
       "      <th>4</th>\n",
       "      <td>IMPRESSION: No evidence of pulmonary embolism....</td>\n",
       "      <td>1095647110</td>\n",
       "      <td>1318298090</td>\n",
       "      <td>[{'id': 'NO_FOLLOWUP', 'text': 'NO_FOLLOWUP'},...</td>\n",
       "      <td>choice</td>\n",
       "      <td>{'choice_style': 'single'}</td>\n",
       "      <td>[NO_FOLLOWUP]</td>\n",
       "      <td>accept</td>\n",
       "      <td>1657744642</td>\n",
       "      <td>ct_images_75_25_500_TASK4-rat4</td>\n",
       "      <td>ct_images_75_25_500_TASK4-rat4</td>\n",
       "      <td>[ct_images_75_25_500_TASK4-rat4, ct_images_75_...</td>\n",
       "      <td>choice</td>\n",
       "    </tr>\n",
       "    <tr>\n",
       "      <th>...</th>\n",
       "      <td>...</td>\n",
       "      <td>...</td>\n",
       "      <td>...</td>\n",
       "      <td>...</td>\n",
       "      <td>...</td>\n",
       "      <td>...</td>\n",
       "      <td>...</td>\n",
       "      <td>...</td>\n",
       "      <td>...</td>\n",
       "      <td>...</td>\n",
       "      <td>...</td>\n",
       "      <td>...</td>\n",
       "      <td>...</td>\n",
       "    </tr>\n",
       "    <tr>\n",
       "      <th>1096</th>\n",
       "      <td>IMPRESSION:  No evidence of pulmonary embolism...</td>\n",
       "      <td>-1203340127</td>\n",
       "      <td>130017192</td>\n",
       "      <td>[{'id': 'NO_FOLLOWUP', 'text': 'NO_FOLLOWUP'},...</td>\n",
       "      <td>choice</td>\n",
       "      <td>{'choice_style': 'single'}</td>\n",
       "      <td>[NO_FOLLOWUP]</td>\n",
       "      <td>accept</td>\n",
       "      <td>1673016987</td>\n",
       "      <td>followup_pipeline_v1-rdenkewicz</td>\n",
       "      <td>followup_pipeline_v1-rdenkewicz</td>\n",
       "      <td>NaN</td>\n",
       "      <td>NaN</td>\n",
       "    </tr>\n",
       "    <tr>\n",
       "      <th>1097</th>\n",
       "      <td>IMPRESSION:  1. No evidence of pulmonary embol...</td>\n",
       "      <td>-1827809163</td>\n",
       "      <td>256471539</td>\n",
       "      <td>[{'id': 'NO_FOLLOWUP', 'text': 'NO_FOLLOWUP'},...</td>\n",
       "      <td>choice</td>\n",
       "      <td>{'choice_style': 'single'}</td>\n",
       "      <td>[]</td>\n",
       "      <td>ignore</td>\n",
       "      <td>1673017025</td>\n",
       "      <td>followup_pipeline_v1-rdenkewicz</td>\n",
       "      <td>followup_pipeline_v1-rdenkewicz</td>\n",
       "      <td>NaN</td>\n",
       "      <td>NaN</td>\n",
       "    </tr>\n",
       "    <tr>\n",
       "      <th>1098</th>\n",
       "      <td>IMPRESSION:  Increase size of a 2.1 x 1.1 cm l...</td>\n",
       "      <td>-1102992877</td>\n",
       "      <td>-809610587</td>\n",
       "      <td>[{'id': 'NO_FOLLOWUP', 'text': 'NO_FOLLOWUP'},...</td>\n",
       "      <td>choice</td>\n",
       "      <td>{'choice_style': 'single'}</td>\n",
       "      <td>[HARD_FOLLOWUP]</td>\n",
       "      <td>accept</td>\n",
       "      <td>1673017047</td>\n",
       "      <td>followup_pipeline_v1-rdenkewicz</td>\n",
       "      <td>followup_pipeline_v1-rdenkewicz</td>\n",
       "      <td>NaN</td>\n",
       "      <td>NaN</td>\n",
       "    </tr>\n",
       "    <tr>\n",
       "      <th>1099</th>\n",
       "      <td>IMPRESSION:  Right apical paramediastinal lesi...</td>\n",
       "      <td>-499169908</td>\n",
       "      <td>446934794</td>\n",
       "      <td>[{'id': 'NO_FOLLOWUP', 'text': 'NO_FOLLOWUP'},...</td>\n",
       "      <td>choice</td>\n",
       "      <td>{'choice_style': 'single'}</td>\n",
       "      <td>[]</td>\n",
       "      <td>ignore</td>\n",
       "      <td>1673017099</td>\n",
       "      <td>followup_pipeline_v1-rdenkewicz</td>\n",
       "      <td>followup_pipeline_v1-rdenkewicz</td>\n",
       "      <td>NaN</td>\n",
       "      <td>NaN</td>\n",
       "    </tr>\n",
       "    <tr>\n",
       "      <th>1100</th>\n",
       "      <td>IMPRESSION: 1.  No evidence of intramural hema...</td>\n",
       "      <td>1559580884</td>\n",
       "      <td>-445563610</td>\n",
       "      <td>[{'id': 'NO_FOLLOWUP', 'text': 'NO_FOLLOWUP'},...</td>\n",
       "      <td>choice</td>\n",
       "      <td>{'choice_style': 'single'}</td>\n",
       "      <td>[HARD_FOLLOWUP]</td>\n",
       "      <td>accept</td>\n",
       "      <td>1673017109</td>\n",
       "      <td>followup_pipeline_v1-rdenkewicz</td>\n",
       "      <td>followup_pipeline_v1-rdenkewicz</td>\n",
       "      <td>NaN</td>\n",
       "      <td>NaN</td>\n",
       "    </tr>\n",
       "  </tbody>\n",
       "</table>\n",
       "<p>1101 rows × 13 columns</p>\n",
       "</div>"
      ],
      "text/plain": [
       "                                                   text  _input_hash  \\\n",
       "0     IMPRESSION:   1. No evidence of pulmonary embo...  -1983226661   \n",
       "1     IMPRESSION:  No evidence of pulmonary embolus....   1808797508   \n",
       "2     IMPRESSION:  1. Acute non-to-minimally displac...   -630307167   \n",
       "3     . Likely subacute fracture of spinous process ...   -474162194   \n",
       "4     IMPRESSION: No evidence of pulmonary embolism....   1095647110   \n",
       "...                                                 ...          ...   \n",
       "1096  IMPRESSION:  No evidence of pulmonary embolism...  -1203340127   \n",
       "1097  IMPRESSION:  1. No evidence of pulmonary embol...  -1827809163   \n",
       "1098  IMPRESSION:  Increase size of a 2.1 x 1.1 cm l...  -1102992877   \n",
       "1099  IMPRESSION:  Right apical paramediastinal lesi...   -499169908   \n",
       "1100  IMPRESSION: 1.  No evidence of intramural hema...   1559580884   \n",
       "\n",
       "      _task_hash                                            options _view_id  \\\n",
       "0     -941005989  [{'id': 'NO_FOLLOWUP', 'text': 'NO_FOLLOWUP'},...   choice   \n",
       "1    -1673251006  [{'id': 'NO_FOLLOWUP', 'text': 'NO_FOLLOWUP'},...   choice   \n",
       "2     -803402197  [{'id': 'NO_FOLLOWUP', 'text': 'NO_FOLLOWUP'},...   choice   \n",
       "3     1530266395  [{'id': 'NO_FOLLOWUP', 'text': 'NO_FOLLOWUP'},...   choice   \n",
       "4     1318298090  [{'id': 'NO_FOLLOWUP', 'text': 'NO_FOLLOWUP'},...   choice   \n",
       "...          ...                                                ...      ...   \n",
       "1096   130017192  [{'id': 'NO_FOLLOWUP', 'text': 'NO_FOLLOWUP'},...   choice   \n",
       "1097   256471539  [{'id': 'NO_FOLLOWUP', 'text': 'NO_FOLLOWUP'},...   choice   \n",
       "1098  -809610587  [{'id': 'NO_FOLLOWUP', 'text': 'NO_FOLLOWUP'},...   choice   \n",
       "1099   446934794  [{'id': 'NO_FOLLOWUP', 'text': 'NO_FOLLOWUP'},...   choice   \n",
       "1100  -445563610  [{'id': 'NO_FOLLOWUP', 'text': 'NO_FOLLOWUP'},...   choice   \n",
       "\n",
       "                          config                  accept  answer  _timestamp  \\\n",
       "0     {'choice_style': 'single'}           [NO_FOLLOWUP]  accept  1657744578   \n",
       "1     {'choice_style': 'single'}           [NO_FOLLOWUP]  accept  1657744587   \n",
       "2     {'choice_style': 'single'}           [NO_FOLLOWUP]  accept  1657744623   \n",
       "3     {'choice_style': 'single'}  [CONDITIONAL_FOLLOWUP]  accept  1657744634   \n",
       "4     {'choice_style': 'single'}           [NO_FOLLOWUP]  accept  1657744642   \n",
       "...                          ...                     ...     ...         ...   \n",
       "1096  {'choice_style': 'single'}           [NO_FOLLOWUP]  accept  1673016987   \n",
       "1097  {'choice_style': 'single'}                      []  ignore  1673017025   \n",
       "1098  {'choice_style': 'single'}         [HARD_FOLLOWUP]  accept  1673017047   \n",
       "1099  {'choice_style': 'single'}                      []  ignore  1673017099   \n",
       "1100  {'choice_style': 'single'}         [HARD_FOLLOWUP]  accept  1673017109   \n",
       "\n",
       "                        _annotator_id                      _session_id  \\\n",
       "0      ct_images_75_25_500_TASK4-rat4   ct_images_75_25_500_TASK4-rat4   \n",
       "1      ct_images_75_25_500_TASK4-rat4   ct_images_75_25_500_TASK4-rat4   \n",
       "2      ct_images_75_25_500_TASK4-rat4   ct_images_75_25_500_TASK4-rat4   \n",
       "3      ct_images_75_25_500_TASK4-rat4   ct_images_75_25_500_TASK4-rat4   \n",
       "4      ct_images_75_25_500_TASK4-rat4   ct_images_75_25_500_TASK4-rat4   \n",
       "...                               ...                              ...   \n",
       "1096  followup_pipeline_v1-rdenkewicz  followup_pipeline_v1-rdenkewicz   \n",
       "1097  followup_pipeline_v1-rdenkewicz  followup_pipeline_v1-rdenkewicz   \n",
       "1098  followup_pipeline_v1-rdenkewicz  followup_pipeline_v1-rdenkewicz   \n",
       "1099  followup_pipeline_v1-rdenkewicz  followup_pipeline_v1-rdenkewicz   \n",
       "1100  followup_pipeline_v1-rdenkewicz  followup_pipeline_v1-rdenkewicz   \n",
       "\n",
       "                                               sessions view_id  \n",
       "0     [ct_images_75_25_500_TASK4-rat4, ct_images_75_...  choice  \n",
       "1     [ct_images_75_25_500_TASK4-rat4, ct_images_75_...  choice  \n",
       "2     [ct_images_75_25_500_TASK4-rat4, ct_images_75_...  choice  \n",
       "3     [ct_images_75_25_500_TASK4-rat4, ct_images_75_...  choice  \n",
       "4     [ct_images_75_25_500_TASK4-rat4, ct_images_75_...  choice  \n",
       "...                                                 ...     ...  \n",
       "1096                                                NaN     NaN  \n",
       "1097                                                NaN     NaN  \n",
       "1098                                                NaN     NaN  \n",
       "1099                                                NaN     NaN  \n",
       "1100                                                NaN     NaN  \n",
       "\n",
       "[1101 rows x 13 columns]"
      ]
     },
     "execution_count": 30,
     "metadata": {},
     "output_type": "execute_result"
    }
   ],
   "source": [
    "anns_df"
   ]
  },
  {
   "cell_type": "code",
   "execution_count": null,
   "metadata": {},
   "outputs": [],
   "source": []
  },
  {
   "cell_type": "code",
   "execution_count": 31,
   "metadata": {
    "scrolled": true,
    "tags": []
   },
   "outputs": [],
   "source": [
    "data_text_col_name = \"TEXT\"\n",
    "ann_text_col_name = \"text\"\n",
    "threshold = 99\n",
    "# id_output = []\n",
    "gold_ann = []\n",
    "# data_ID_col\n",
    "for idx, nlp_row in nlp_df.iterrows():\n",
    "    ratios = anns_df[ann_text_col_name].apply(lambda row: fuzz.ratio(nlp_row['TEXT'], row))\n",
    "    # print(anns_df.iloc[ratios.idxmax()])\n",
    "    gold_ann.append(anns_df.iloc[ratios.idxmax()]['accept'])\n",
    "    # ann['meta'][data_ID_col] = nlp_df[ratios >= threshold][data_ID_col]\n",
    "# for idx, ann in enumerate(anns):\n",
    "#     ratios = nlp_df[data_text_col_name].apply(lambda row: fuzz.ratio(ann[ann_text_col_name], row))\n",
    "#     print(len(ratios))\n",
    "#     if \"meta\" not in ann.keys():\n",
    "#         ann['meta'] = {}\n",
    "#     for ratio in ratios.iterrows():\n",
    "        \n",
    "    # ann['meta'][data_ID_col] = nlp_df[ratios >= threshold][data_ID_col]\n",
    "    "
   ]
  },
  {
   "cell_type": "code",
   "execution_count": 32,
   "metadata": {},
   "outputs": [],
   "source": [
    "nlp_df['gold_ann'] = gold_ann"
   ]
  },
  {
   "cell_type": "code",
   "execution_count": 33,
   "metadata": {},
   "outputs": [
    {
     "data": {
      "text/plain": [
       "0      [CONDITIONAL_FOLLOWUP]\n",
       "1               [NO_FOLLOWUP]\n",
       "2             [HARD_FOLLOWUP]\n",
       "3               [NO_FOLLOWUP]\n",
       "4      [CONDITIONAL_FOLLOWUP]\n",
       "                ...          \n",
       "146    [CONDITIONAL_FOLLOWUP]\n",
       "147           [HARD_FOLLOWUP]\n",
       "148             [NO_FOLLOWUP]\n",
       "149           [HARD_FOLLOWUP]\n",
       "150           [HARD_FOLLOWUP]\n",
       "Name: gold_ann, Length: 151, dtype: object"
      ]
     },
     "execution_count": 33,
     "metadata": {},
     "output_type": "execute_result"
    }
   ],
   "source": [
    "nlp_df['gold_ann']"
   ]
  },
  {
   "cell_type": "code",
   "execution_count": 34,
   "metadata": {},
   "outputs": [],
   "source": [
    "nlp_df['y_true'] = nlp_df.apply(lambda row: row['gold_ann'][0], axis=1)"
   ]
  },
  {
   "cell_type": "code",
   "execution_count": 35,
   "metadata": {},
   "outputs": [],
   "source": [
    "nlp_df = nlp_df.rename({0:\"y_pred\", 1:\"y_prob\"}, axis=1)"
   ]
  },
  {
   "cell_type": "code",
   "execution_count": 36,
   "metadata": {},
   "outputs": [],
   "source": [
    "import matplotlib.pyplot as plt\n",
    "from sklearn.metrics import DetCurveDisplay, RocCurveDisplay, PrecisionRecallDisplay, ConfusionMatrixDisplay"
   ]
  },
  {
   "cell_type": "code",
   "execution_count": null,
   "metadata": {},
   "outputs": [],
   "source": []
  },
  {
   "cell_type": "code",
   "execution_count": 37,
   "metadata": {},
   "outputs": [],
   "source": [
    "# fig, [ax_roc, ax_det, ax_pr] = plt.subplots(1, 3, figsize=(20, 5))\n",
    "\n",
    "# RocCurveDisplay.from_predictions(nlp_df['y_true'], nlp_df['y_prob'], ax=ax_roc,)# name=name)\n",
    "# DetCurveDisplay.from_predictions(nlp_df['y_true'], nlp_df['y_prob'], ax=ax_det)#, name=name)\n",
    "# PrecisionRecallDisplay.from_predictions(nlp_df['y_true'], nlp_df['y_prob'], ax=ax_pr)\n"
   ]
  },
  {
   "cell_type": "code",
   "execution_count": 38,
   "metadata": {},
   "outputs": [],
   "source": [
    "def plot_multiclass_pr_from_preds(y_test, y_pred, \n",
    "                        title=\"PR Curve\", labels=None, figsize=(8, 6)):\n",
    "\n",
    "    # structures\n",
    "    precision = dict()\n",
    "    recall = dict()\n",
    "\n",
    "    n_classes = y_pred.shape[1]\n",
    "    assert y_pred.shape[1] >= np.max(y_test)\n",
    "\n",
    "    # calculate dummies once\n",
    "    y_test_dummies = pd.get_dummies(y_test, drop_first=False)\n",
    "    y_test_dummies_vals = y_test_dummies.values\n",
    "    \n",
    "    average_precision = average_precision_score(y_test_dummies_vals, y_pred, average=None)\n",
    "    \n",
    "    for i in range(n_classes):\n",
    "        precision[i], recall[i], _ = precision_recall_curve(y_test_dummies_vals[:, i], y_pred[:, i])\n",
    "        # print(precision[i][-50:], recall[i][-50:])\n",
    "        \n",
    "    # pr for each class\n",
    "    fig, ax = plt.subplots(figsize=figsize)\n",
    "    ax.plot([0, 1], [0.5, 0.5], 'k--')\n",
    "    ax.set_xlim([0.0, 1.05])\n",
    "    ax.set_ylim([0.5, 1.05])\n",
    "    ax.set_xlabel('Recall')\n",
    "    ax.set_ylabel('Precision')\n",
    "    ax.set_title(title)\n",
    "\n",
    "    if labels:\n",
    "        for i, label in zip(range(n_classes), labels):\n",
    "            ax.plot(precision[i], recall[i], label=f'PR curve (AP = {average_precision[i]:.2f}) for {label}')\n",
    "    else:\n",
    "        for i in range(n_classes):\n",
    "            ax.plot(precision[i], recall[i], label=f'PR curve (AP = {average_precision[i]:.2f}) for label {i}')\n",
    "        \n",
    "    ax.legend(loc=\"best\")\n",
    "    ax.grid(alpha=.4)\n",
    "    sns.despine()\n",
    "    plt.show()\n",
    "\n",
    "def plot_multiclass_roc_from_preds(y_test, y_pred,\n",
    "                        title=\"ROC Curve\", labels=None, figsize=(8, 6)):\n",
    "\n",
    "    # structures\n",
    "    fpr = dict()\n",
    "    tpr = dict()\n",
    "    roc_auc = dict()\n",
    "    \n",
    "    n_classes = 3#y_pred.shape[1]\n",
    "    # assert y_pred.shape[1] >= np.max(y_test)\n",
    "    \n",
    "    # calculate dummies once\n",
    "    y_test_dummies = pd.get_dummies(y_test, drop_first=False)\n",
    "    y_test_dummies_vals = y_test_dummies.values\n",
    "    for i in range(n_classes):\n",
    "        fpr[i], tpr[i], _ = roc_curve(y_test_dummies_vals[:, i], y_pred[:, i])\n",
    "        roc_auc[i] = auc(fpr[i], tpr[i])\n",
    "\n",
    "    # roc for each class\n",
    "    fig, ax = plt.subplots(figsize=figsize)\n",
    "    ax.plot([0, 1], [0, 1], 'k--')\n",
    "    ax.set_xlim([0.0, 1.0])\n",
    "    ax.set_ylim([0.0, 1.05])\n",
    "    ax.set_xlabel('False Positive Rate')\n",
    "    ax.set_ylabel('True Positive Rate')\n",
    "    ax.set_title(title)\n",
    "    if labels:\n",
    "        for i, label in zip(range(n_classes), labels):\n",
    "            ax.plot(fpr[i], tpr[i], label=f'ROC curve (area = {roc_auc[i]:.2f}) for {label}')\n",
    "    else:\n",
    "        for i in range(n_classes):\n",
    "            ax.plot(fpr[i], tpr[i], label=f'ROC curve (area = {roc_auc[i]:.2f}) for label {i}')\n",
    "        \n",
    "    ax.legend(loc=\"best\")\n",
    "    ax.grid(alpha=.4)\n",
    "    # sns.despine()\n",
    "    plt.show()\n"
   ]
  },
  {
   "cell_type": "code",
   "execution_count": null,
   "metadata": {},
   "outputs": [],
   "source": []
  },
  {
   "cell_type": "code",
   "execution_count": 39,
   "metadata": {},
   "outputs": [
    {
     "data": {
      "text/html": [
       "<div>\n",
       "<style scoped>\n",
       "    .dataframe tbody tr th:only-of-type {\n",
       "        vertical-align: middle;\n",
       "    }\n",
       "\n",
       "    .dataframe tbody tr th {\n",
       "        vertical-align: top;\n",
       "    }\n",
       "\n",
       "    .dataframe thead th {\n",
       "        text-align: right;\n",
       "    }\n",
       "</style>\n",
       "<table border=\"1\" class=\"dataframe\">\n",
       "  <thead>\n",
       "    <tr style=\"text-align: right;\">\n",
       "      <th></th>\n",
       "      <th>CONDITIONAL_FOLLOWUP</th>\n",
       "      <th>HARD_FOLLOWUP</th>\n",
       "      <th>NO_FOLLOWUP</th>\n",
       "    </tr>\n",
       "  </thead>\n",
       "  <tbody>\n",
       "    <tr>\n",
       "      <th>0</th>\n",
       "      <td>1</td>\n",
       "      <td>0</td>\n",
       "      <td>0</td>\n",
       "    </tr>\n",
       "    <tr>\n",
       "      <th>1</th>\n",
       "      <td>0</td>\n",
       "      <td>0</td>\n",
       "      <td>1</td>\n",
       "    </tr>\n",
       "    <tr>\n",
       "      <th>2</th>\n",
       "      <td>0</td>\n",
       "      <td>1</td>\n",
       "      <td>0</td>\n",
       "    </tr>\n",
       "    <tr>\n",
       "      <th>3</th>\n",
       "      <td>0</td>\n",
       "      <td>0</td>\n",
       "      <td>1</td>\n",
       "    </tr>\n",
       "    <tr>\n",
       "      <th>4</th>\n",
       "      <td>1</td>\n",
       "      <td>0</td>\n",
       "      <td>0</td>\n",
       "    </tr>\n",
       "    <tr>\n",
       "      <th>...</th>\n",
       "      <td>...</td>\n",
       "      <td>...</td>\n",
       "      <td>...</td>\n",
       "    </tr>\n",
       "    <tr>\n",
       "      <th>146</th>\n",
       "      <td>1</td>\n",
       "      <td>0</td>\n",
       "      <td>0</td>\n",
       "    </tr>\n",
       "    <tr>\n",
       "      <th>147</th>\n",
       "      <td>0</td>\n",
       "      <td>1</td>\n",
       "      <td>0</td>\n",
       "    </tr>\n",
       "    <tr>\n",
       "      <th>148</th>\n",
       "      <td>0</td>\n",
       "      <td>0</td>\n",
       "      <td>1</td>\n",
       "    </tr>\n",
       "    <tr>\n",
       "      <th>149</th>\n",
       "      <td>0</td>\n",
       "      <td>1</td>\n",
       "      <td>0</td>\n",
       "    </tr>\n",
       "    <tr>\n",
       "      <th>150</th>\n",
       "      <td>0</td>\n",
       "      <td>1</td>\n",
       "      <td>0</td>\n",
       "    </tr>\n",
       "  </tbody>\n",
       "</table>\n",
       "<p>151 rows × 3 columns</p>\n",
       "</div>"
      ],
      "text/plain": [
       "     CONDITIONAL_FOLLOWUP  HARD_FOLLOWUP  NO_FOLLOWUP\n",
       "0                       1              0            0\n",
       "1                       0              0            1\n",
       "2                       0              1            0\n",
       "3                       0              0            1\n",
       "4                       1              0            0\n",
       "..                    ...            ...          ...\n",
       "146                     1              0            0\n",
       "147                     0              1            0\n",
       "148                     0              0            1\n",
       "149                     0              1            0\n",
       "150                     0              1            0\n",
       "\n",
       "[151 rows x 3 columns]"
      ]
     },
     "execution_count": 39,
     "metadata": {},
     "output_type": "execute_result"
    }
   ],
   "source": [
    "pd.get_dummies(nlp_df['y_true'], drop_first=False)"
   ]
  },
  {
   "cell_type": "code",
   "execution_count": 40,
   "metadata": {},
   "outputs": [],
   "source": [
    "import sklearn\n",
    "# import seaborn as sns; sns.set_style(\"ticks\")\n",
    "from sklearn.metrics import roc_curve, auc, precision_recall_curve, average_precision_score, brier_score_loss\n",
    "from sklearn.calibration import calibration_curve, CalibrationDisplay\n"
   ]
  },
  {
   "cell_type": "code",
   "execution_count": null,
   "metadata": {},
   "outputs": [],
   "source": []
  },
  {
   "cell_type": "code",
   "execution_count": 41,
   "metadata": {},
   "outputs": [
    {
     "data": {
      "image/png": "[encoded data removed]",
      "text/plain": [
       "<Figure size 800x600 with 1 Axes>"
      ]
     },
     "metadata": {},
     "output_type": "display_data"
    }
   ],
   "source": [
    "plot_multiclass_roc_from_preds(nlp_df['y_true'], nlp_df[['COND','HARD' ,'NO']].values, labels=[\"CONDITIONAL\", \"HARD\", \"NO\"])\n",
    "\n"
   ]
  },
  {
   "cell_type": "code",
   "execution_count": 42,
   "metadata": {},
   "outputs": [],
   "source": [
    "import numpy as np\n",
    "nlp_df['label_simple'] = np.where((nlp_df['y_true'] == \"CONDITIONAL_FOLLOWUP\") | (nlp_df['y_true'] == \"HARD_FOLLOWUP\"), \"FOLLOW_UP\", \"NO_FOLLOWUP\")\n",
    "nlp_df['ypred_simple'] = np.where((nlp_df['y_pred'] == \"CONDITIONAL_FOLLOWUP\") | (nlp_df['y_pred'] == \"HARD_FOLLOWUP\"), \"FOLLOW_UP\", \"NO_FOLLOWUP\")\n"
   ]
  },
  {
   "cell_type": "code",
   "execution_count": 43,
   "metadata": {},
   "outputs": [
    {
     "data": {
      "text/plain": [
       "Text(0, 0.5, 'True Follow-Up Label (from Ryan)')"
      ]
     },
     "execution_count": 43,
     "metadata": {},
     "output_type": "execute_result"
    },
    {
     "data": {
      "image/png": "[encoded data removed]",
      "text/plain": [
       "<Figure size 800x800 with 2 Axes>"
      ]
     },
     "metadata": {},
     "output_type": "display_data"
    }
   ],
   "source": [
    "fig, ax = plt.subplots(figsize = (8,8))\n",
    "ax.set_title(\"Yale Model Confusion Matrix\", fontsize=16, fontweight=\"bold\")\n",
    "\n",
    "ConfusionMatrixDisplay.from_predictions(nlp_df['y_true'], nlp_df['y_pred'], ax=ax)\n",
    "\n",
    "ax.set_xlabel(\"Yale Model Predictions\", fontsize=13)\n",
    "ax.set_ylabel(\"True Follow-Up Label (from Ryan)\", fontsize=13)"
   ]
  },
  {
   "cell_type": "code",
   "execution_count": 44,
   "metadata": {},
   "outputs": [
    {
     "data": {
      "text/plain": [
       "Text(0, 0.5, 'True Follow-Up Label (from Ryan)')"
      ]
     },
     "execution_count": 44,
     "metadata": {},
     "output_type": "execute_result"
    },
    {
     "data": {
      "image/png": "[encoded data removed]",
      "text/plain": [
       "<Figure size 800x800 with 2 Axes>"
      ]
     },
     "metadata": {},
     "output_type": "display_data"
    }
   ],
   "source": [
    "fig, ax = plt.subplots(figsize = (8,8))\n",
    "ax.set_title(\"Yale Model Confusion Matrix\", fontsize=16, fontweight=\"bold\")\n",
    "\n",
    "ConfusionMatrixDisplay.from_predictions(nlp_df['label_simple'], nlp_df['ypred_simple'], ax=ax)\n",
    "\n",
    "ax.set_xlabel(\"Yale Model Predictions\", fontsize=13)\n",
    "ax.set_ylabel(\"True Follow-Up Label (from Ryan)\", fontsize=13)"
   ]
  },
  {
   "cell_type": "code",
   "execution_count": 45,
   "metadata": {},
   "outputs": [],
   "source": [
    "# nlp_df.to_csv(\"/home/vs428/Documents/Moore/cancer_spacy_data/misclassified_cts_impression.csv\", index=False)"
   ]
  },
  {
   "cell_type": "code",
   "execution_count": null,
   "metadata": {},
   "outputs": [],
   "source": []
  }
 ],
 "metadata": {
  "kernelspec": {
   "display_name": "Python 3",
   "language": "python",
   "name": "python3"
  },
  "language_info": {
   "codemirror_mode": {
    "name": "ipython",
    "version": 3
   },
   "file_extension": ".py",
   "mimetype": "text/x-python",
   "name": "python",
   "nbconvert_exporter": "python",
   "pygments_lexer": "ipython3",
   "version": "3.9.13"
  }
 },
 "nbformat": 4,
 "nbformat_minor": 4
}
