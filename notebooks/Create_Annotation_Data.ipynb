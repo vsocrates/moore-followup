{
 "cells": [
  {
   "cell_type": "code",
   "execution_count": 2,
   "id": "0198def3-aa16-4efd-9cfc-9dfc5f72406d",
   "metadata": {},
   "outputs": [],
   "source": [
    "import pandas as pd\n",
    "import jsonlines"
   ]
  },
  {
   "cell_type": "markdown",
   "id": "f71b102d-412c-40a3-b2f0-51e815538c0d",
   "metadata": {
    "tags": []
   },
   "source": [
    "# This is for the Cancer Exclusion NER Correct Task"
   ]
  },
  {
   "cell_type": "code",
   "execution_count": 5,
   "id": "d5d0bdef-71cc-47d0-bc2c-d5ec64b9ce5b",
   "metadata": {},
   "outputs": [],
   "source": [
    "cts = pd.read_csv(\"/home/vs428/project/Moore_data/all_moore_cts.csv\")"
   ]
  },
  {
   "cell_type": "code",
   "execution_count": 3,
   "id": "483b34da-3ecb-461d-8cb3-9dd947cc45e7",
   "metadata": {},
   "outputs": [],
   "source": [
    "data = pd.read_csv(\"/home/vs428/project/Moore_models/nlp_cancer_samp.csv\")"
   ]
  },
  {
   "cell_type": "code",
   "execution_count": null,
   "id": "44b3233a-f624-4a8a-9911-eabac67e4f61",
   "metadata": {},
   "outputs": [],
   "source": []
  },
  {
   "cell_type": "code",
   "execution_count": 20,
   "id": "6c051d63-c7ac-4ae8-ba02-9cab287fd389",
   "metadata": {},
   "outputs": [],
   "source": [
    "cts[~cts['KL_ID'].isin(data['Unique study ID KL'])].sample(1000).to_csv(\"/home/vs428/project/Moore_models/nlp_cancer_excl_nercorrect.csv\", index=False)"
   ]
  },
  {
   "cell_type": "markdown",
   "id": "d5d22919-6465-4594-aaa3-4b6eda7a1e3e",
   "metadata": {},
   "source": [
    "# This is for the Followup textcat Correct task"
   ]
  },
  {
   "cell_type": "code",
   "execution_count": 5,
   "id": "faa77f19-cf7f-4948-b577-ab1892207f03",
   "metadata": {},
   "outputs": [],
   "source": [
    "import sklearn"
   ]
  },
  {
   "cell_type": "code",
   "execution_count": 2,
   "id": "65b202dd-0946-4ebb-93f8-dad976130d18",
   "metadata": {},
   "outputs": [],
   "source": [
    "data = pd.read_csv(\"/home/vs428/project/Moore_models/Task_4_textcat_input.csv\")"
   ]
  },
  {
   "cell_type": "code",
   "execution_count": 3,
   "id": "8b704342-a84f-42b5-8b70-8567004712b0",
   "metadata": {},
   "outputs": [],
   "source": [
    "all_notes = pd.read_csv(\"/home/vs428/project/Moore_data/all_moore_cts_cancer_excl_preds.csv\")"
   ]
  },
  {
   "cell_type": "code",
   "execution_count": null,
   "id": "338e2074-5062-4709-b701-7b949ef43b34",
   "metadata": {},
   "outputs": [],
   "source": []
  },
  {
   "cell_type": "code",
   "execution_count": 14,
   "id": "19cbbef6-430d-4259-b8a8-9f21598c8d33",
   "metadata": {},
   "outputs": [
    {
     "name": "stdout",
     "output_type": "stream",
     "text": [
      "No Nodule    16543\n",
      "Nodule       10002\n",
      "Name: Nodule_model, dtype: int64\n",
      "False    26255\n",
      "True       290\n",
      "Name: Cancer_on_CT_NLP_rec, dtype: int64\n"
     ]
    }
   ],
   "source": [
    "print(all_notes['Nodule_model'].value_counts())\n",
    "print(all_notes[\"Cancer_on_CT_NLP_rec\"].value_counts())\n",
    "\n",
    "follow_up_pipeline_notes = all_notes[(all_notes['Nodule_model'] == \"Nodule\") & \n",
    "         (~all_notes[\"Cancer_on_CT_NLP_rec\"])]\n"
   ]
  },
  {
   "cell_type": "code",
   "execution_count": null,
   "id": "f8a871a1-8f2e-424c-9fc0-029501143050",
   "metadata": {},
   "outputs": [],
   "source": []
  },
  {
   "cell_type": "code",
   "execution_count": 22,
   "id": "684455c0-0367-4aaa-bda1-1345573597fd",
   "metadata": {},
   "outputs": [],
   "source": [
    "follow_up_pipeline_notes_filter_anns = follow_up_pipeline_notes[~follow_up_pipeline_notes['KL_ID'].isin(data['study_id'].unique())].sample(1000)\n"
   ]
  },
  {
   "cell_type": "code",
   "execution_count": 24,
   "id": "ae58766a-dd7d-47d2-96dd-0ce954a0aa31",
   "metadata": {},
   "outputs": [
    {
     "data": {
      "text/html": [
       "<div>\n",
       "<style scoped>\n",
       "    .dataframe tbody tr th:only-of-type {\n",
       "        vertical-align: middle;\n",
       "    }\n",
       "\n",
       "    .dataframe tbody tr th {\n",
       "        vertical-align: top;\n",
       "    }\n",
       "\n",
       "    .dataframe thead th {\n",
       "        text-align: right;\n",
       "    }\n",
       "</style>\n",
       "<table border=\"1\" class=\"dataframe\">\n",
       "  <thead>\n",
       "    <tr style=\"text-align: right;\">\n",
       "      <th></th>\n",
       "      <th>KL_ID</th>\n",
       "      <th>Age</th>\n",
       "      <th>person_id</th>\n",
       "      <th>CT_Text</th>\n",
       "      <th>Adjudicated_Recommendation</th>\n",
       "      <th>Model_Recommendation</th>\n",
       "      <th>Nodule_model</th>\n",
       "      <th>Measurement_date</th>\n",
       "      <th>CT_type</th>\n",
       "      <th>Cancer_on_CT_NLP_score</th>\n",
       "      <th>Cancer_on_CT_NLP_rec</th>\n",
       "    </tr>\n",
       "  </thead>\n",
       "  <tbody>\n",
       "    <tr>\n",
       "      <th>26224</th>\n",
       "      <td>KL_10047</td>\n",
       "      <td>81</td>\n",
       "      <td>RD_14005</td>\n",
       "      <td>Study: CTA CHEST ABDOMEN W AND/OR WO IV CONTRA...</td>\n",
       "      <td>NO_FOLLOWUP</td>\n",
       "      <td>HARD_FOLLOWUP</td>\n",
       "      <td>Nodule</td>\n",
       "      <td>2015-12-09 03:11:00</td>\n",
       "      <td>Custom: IMG2864  CTA CHEST ABDOMEN W AND/OR WO...</td>\n",
       "      <td>0.003100</td>\n",
       "      <td>False</td>\n",
       "    </tr>\n",
       "    <tr>\n",
       "      <th>3011</th>\n",
       "      <td>KL_828</td>\n",
       "      <td>40</td>\n",
       "      <td>RD_522</td>\n",
       "      <td>CT CHEST ABDOMEN PELVIS W IV CONTRAST, CT 2D R...</td>\n",
       "      <td>HARD_FOLLOWUP</td>\n",
       "      <td>HARD_FOLLOWUP</td>\n",
       "      <td>Nodule</td>\n",
       "      <td>2017-12-17 10:13:00</td>\n",
       "      <td>Custom: IMG1428  CT CHEST ABDOMEN PELVIS W IV ...</td>\n",
       "      <td>0.003074</td>\n",
       "      <td>False</td>\n",
       "    </tr>\n",
       "    <tr>\n",
       "      <th>6102</th>\n",
       "      <td>KL_3115</td>\n",
       "      <td>32</td>\n",
       "      <td>RD_7667</td>\n",
       "      <td>CT CHEST, ABDOMEN, AND PELVIS WITH INTRAVENOUS...</td>\n",
       "      <td>NO_FOLLOWUP</td>\n",
       "      <td>NO_FOLLOWUP</td>\n",
       "      <td>Nodule</td>\n",
       "      <td>2017-07-04 16:09:00</td>\n",
       "      <td>Custom: IMG1428  CT CHEST ABDOMEN PELVIS W IV ...</td>\n",
       "      <td>0.003098</td>\n",
       "      <td>False</td>\n",
       "    </tr>\n",
       "    <tr>\n",
       "      <th>2199</th>\n",
       "      <td>KL_954</td>\n",
       "      <td>34</td>\n",
       "      <td>RD_4122</td>\n",
       "      <td>CT CHEST ABDOMEN PELVIS W IV CONTRAST  INDICAT...</td>\n",
       "      <td>CONDITIONAL_FOLLOWUP</td>\n",
       "      <td>CONDITIONAL_FOLLOWUP</td>\n",
       "      <td>Nodule</td>\n",
       "      <td>2019-04-21 10:31:00</td>\n",
       "      <td>Custom: IMG1428  CT CHEST ABDOMEN PELVIS W IV ...</td>\n",
       "      <td>0.003064</td>\n",
       "      <td>False</td>\n",
       "    </tr>\n",
       "    <tr>\n",
       "      <th>6937</th>\n",
       "      <td>KL_15792</td>\n",
       "      <td>56</td>\n",
       "      <td>RD_8841</td>\n",
       "      <td>CT PULMONARY ANGIOGRAM   INDICATION: Cough, ta...</td>\n",
       "      <td>NO_FOLLOWUP</td>\n",
       "      <td>NO_FOLLOWUP</td>\n",
       "      <td>Nodule</td>\n",
       "      <td>2017-02-03 20:51:00</td>\n",
       "      <td>Custom: IMG3904  CTA CHEST (PE) W IV CONTRAST</td>\n",
       "      <td>0.003065</td>\n",
       "      <td>False</td>\n",
       "    </tr>\n",
       "    <tr>\n",
       "      <th>...</th>\n",
       "      <td>...</td>\n",
       "      <td>...</td>\n",
       "      <td>...</td>\n",
       "      <td>...</td>\n",
       "      <td>...</td>\n",
       "      <td>...</td>\n",
       "      <td>...</td>\n",
       "      <td>...</td>\n",
       "      <td>...</td>\n",
       "      <td>...</td>\n",
       "      <td>...</td>\n",
       "    </tr>\n",
       "    <tr>\n",
       "      <th>18162</th>\n",
       "      <td>KL_19715</td>\n",
       "      <td>81</td>\n",
       "      <td>RD_8906</td>\n",
       "      <td>CTA CHEST WITH CONTRAST, PULMONARY EMBOLISM PR...</td>\n",
       "      <td>NO_FOLLOWUP</td>\n",
       "      <td>NO_FOLLOWUP</td>\n",
       "      <td>Nodule</td>\n",
       "      <td>2015-12-27 19:34:00</td>\n",
       "      <td>Custom: IMG3904  CTA CHEST (PE) W IV CONTRAST</td>\n",
       "      <td>0.003064</td>\n",
       "      <td>False</td>\n",
       "    </tr>\n",
       "    <tr>\n",
       "      <th>8805</th>\n",
       "      <td>KL_4227</td>\n",
       "      <td>56</td>\n",
       "      <td>RD_10796</td>\n",
       "      <td>CTA CHEST (PE) W IV CONTRAST  INDICATION:  his...</td>\n",
       "      <td>NO_FOLLOWUP</td>\n",
       "      <td>NO_FOLLOWUP</td>\n",
       "      <td>Nodule</td>\n",
       "      <td>2020-05-13 00:40:00</td>\n",
       "      <td>Custom: IMG3904  CTA CHEST (PE) W IV CONTRAST</td>\n",
       "      <td>0.003040</td>\n",
       "      <td>False</td>\n",
       "    </tr>\n",
       "    <tr>\n",
       "      <th>14321</th>\n",
       "      <td>KL_6238</td>\n",
       "      <td>57</td>\n",
       "      <td>RD_4044</td>\n",
       "      <td>CTA CHEST (PE) W IV CONTRAST INDICATION: Pulmo...</td>\n",
       "      <td>NO_FOLLOWUP</td>\n",
       "      <td>NO_FOLLOWUP</td>\n",
       "      <td>Nodule</td>\n",
       "      <td>2021-11-11 18:49:00</td>\n",
       "      <td>Custom: IMG3904  CTA CHEST (PE) W IV CONTRAST</td>\n",
       "      <td>0.003088</td>\n",
       "      <td>False</td>\n",
       "    </tr>\n",
       "    <tr>\n",
       "      <th>307</th>\n",
       "      <td>KL_9900</td>\n",
       "      <td>37</td>\n",
       "      <td>RD_16456</td>\n",
       "      <td>CLINICAL INFORMATION: CP or SOB, high pretest ...</td>\n",
       "      <td>NO_FOLLOWUP</td>\n",
       "      <td>NO_FOLLOWUP</td>\n",
       "      <td>Nodule</td>\n",
       "      <td>2018-07-22 15:43:00</td>\n",
       "      <td>Custom: IMG3904  CTA CHEST (PE) W IV CONTRAST</td>\n",
       "      <td>0.003080</td>\n",
       "      <td>False</td>\n",
       "    </tr>\n",
       "    <tr>\n",
       "      <th>650</th>\n",
       "      <td>KL_26413</td>\n",
       "      <td>51</td>\n",
       "      <td>RD_6664</td>\n",
       "      <td>CT ANGIOGRAM OF THE CHEST.  INDICATION: 51-yea...</td>\n",
       "      <td>CONDITIONAL_FOLLOWUP</td>\n",
       "      <td>HARD_FOLLOWUP</td>\n",
       "      <td>Nodule</td>\n",
       "      <td>2014-02-01 12:48:00</td>\n",
       "      <td>Custom: IMG3904  CTA CHEST (PE) W IV CONTRAST</td>\n",
       "      <td>0.003124</td>\n",
       "      <td>False</td>\n",
       "    </tr>\n",
       "  </tbody>\n",
       "</table>\n",
       "<p>1000 rows × 11 columns</p>\n",
       "</div>"
      ],
      "text/plain": [
       "          KL_ID  Age person_id  \\\n",
       "26224  KL_10047   81  RD_14005   \n",
       "3011     KL_828   40    RD_522   \n",
       "6102    KL_3115   32   RD_7667   \n",
       "2199     KL_954   34   RD_4122   \n",
       "6937   KL_15792   56   RD_8841   \n",
       "...         ...  ...       ...   \n",
       "18162  KL_19715   81   RD_8906   \n",
       "8805    KL_4227   56  RD_10796   \n",
       "14321   KL_6238   57   RD_4044   \n",
       "307     KL_9900   37  RD_16456   \n",
       "650    KL_26413   51   RD_6664   \n",
       "\n",
       "                                                 CT_Text  \\\n",
       "26224  Study: CTA CHEST ABDOMEN W AND/OR WO IV CONTRA...   \n",
       "3011   CT CHEST ABDOMEN PELVIS W IV CONTRAST, CT 2D R...   \n",
       "6102   CT CHEST, ABDOMEN, AND PELVIS WITH INTRAVENOUS...   \n",
       "2199   CT CHEST ABDOMEN PELVIS W IV CONTRAST  INDICAT...   \n",
       "6937   CT PULMONARY ANGIOGRAM   INDICATION: Cough, ta...   \n",
       "...                                                  ...   \n",
       "18162  CTA CHEST WITH CONTRAST, PULMONARY EMBOLISM PR...   \n",
       "8805   CTA CHEST (PE) W IV CONTRAST  INDICATION:  his...   \n",
       "14321  CTA CHEST (PE) W IV CONTRAST INDICATION: Pulmo...   \n",
       "307    CLINICAL INFORMATION: CP or SOB, high pretest ...   \n",
       "650    CT ANGIOGRAM OF THE CHEST.  INDICATION: 51-yea...   \n",
       "\n",
       "      Adjudicated_Recommendation  Model_Recommendation Nodule_model  \\\n",
       "26224                NO_FOLLOWUP         HARD_FOLLOWUP       Nodule   \n",
       "3011               HARD_FOLLOWUP         HARD_FOLLOWUP       Nodule   \n",
       "6102                 NO_FOLLOWUP           NO_FOLLOWUP       Nodule   \n",
       "2199        CONDITIONAL_FOLLOWUP  CONDITIONAL_FOLLOWUP       Nodule   \n",
       "6937                 NO_FOLLOWUP           NO_FOLLOWUP       Nodule   \n",
       "...                          ...                   ...          ...   \n",
       "18162                NO_FOLLOWUP           NO_FOLLOWUP       Nodule   \n",
       "8805                 NO_FOLLOWUP           NO_FOLLOWUP       Nodule   \n",
       "14321                NO_FOLLOWUP           NO_FOLLOWUP       Nodule   \n",
       "307                  NO_FOLLOWUP           NO_FOLLOWUP       Nodule   \n",
       "650         CONDITIONAL_FOLLOWUP         HARD_FOLLOWUP       Nodule   \n",
       "\n",
       "          Measurement_date                                            CT_type  \\\n",
       "26224  2015-12-09 03:11:00  Custom: IMG2864  CTA CHEST ABDOMEN W AND/OR WO...   \n",
       "3011   2017-12-17 10:13:00  Custom: IMG1428  CT CHEST ABDOMEN PELVIS W IV ...   \n",
       "6102   2017-07-04 16:09:00  Custom: IMG1428  CT CHEST ABDOMEN PELVIS W IV ...   \n",
       "2199   2019-04-21 10:31:00  Custom: IMG1428  CT CHEST ABDOMEN PELVIS W IV ...   \n",
       "6937   2017-02-03 20:51:00      Custom: IMG3904  CTA CHEST (PE) W IV CONTRAST   \n",
       "...                    ...                                                ...   \n",
       "18162  2015-12-27 19:34:00      Custom: IMG3904  CTA CHEST (PE) W IV CONTRAST   \n",
       "8805   2020-05-13 00:40:00      Custom: IMG3904  CTA CHEST (PE) W IV CONTRAST   \n",
       "14321  2021-11-11 18:49:00      Custom: IMG3904  CTA CHEST (PE) W IV CONTRAST   \n",
       "307    2018-07-22 15:43:00      Custom: IMG3904  CTA CHEST (PE) W IV CONTRAST   \n",
       "650    2014-02-01 12:48:00      Custom: IMG3904  CTA CHEST (PE) W IV CONTRAST   \n",
       "\n",
       "       Cancer_on_CT_NLP_score  Cancer_on_CT_NLP_rec  \n",
       "26224                0.003100                 False  \n",
       "3011                 0.003074                 False  \n",
       "6102                 0.003098                 False  \n",
       "2199                 0.003064                 False  \n",
       "6937                 0.003065                 False  \n",
       "...                       ...                   ...  \n",
       "18162                0.003064                 False  \n",
       "8805                 0.003040                 False  \n",
       "14321                0.003088                 False  \n",
       "307                  0.003080                 False  \n",
       "650                  0.003124                 False  \n",
       "\n",
       "[1000 rows x 11 columns]"
      ]
     },
     "execution_count": 24,
     "metadata": {},
     "output_type": "execute_result"
    }
   ],
   "source": [
    "follow_up_pipeline_notes_filter_anns"
   ]
  },
  {
   "cell_type": "code",
   "execution_count": null,
   "id": "791cd257-462d-413c-a839-72226559ca61",
   "metadata": {},
   "outputs": [],
   "source": []
  },
  {
   "cell_type": "code",
   "execution_count": 23,
   "id": "1e142da2-a71c-41f0-a65d-c47cf956dd15",
   "metadata": {},
   "outputs": [
    {
     "data": {
      "text/plain": [
       "Index(['KL_ID', 'Age', 'person_id', 'CT_Text', 'Adjudicated_Recommendation',\n",
       "       'Model_Recommendation', 'Nodule_model', 'Measurement_date', 'CT_type',\n",
       "       'Cancer_on_CT_NLP_score', 'Cancer_on_CT_NLP_rec'],\n",
       "      dtype='object')"
      ]
     },
     "execution_count": 23,
     "metadata": {},
     "output_type": "execute_result"
    }
   ],
   "source": [
    "follow_up_pipeline_notes_filter_anns.columns"
   ]
  },
  {
   "cell_type": "code",
   "execution_count": 35,
   "id": "238d3fc5-5c28-4ae9-8efa-a6b51d958606",
   "metadata": {},
   "outputs": [],
   "source": [
    "follow_up_pipeline_notes_filter_anns[['KL_ID', \"person_id\", \"CT_Text\", \"Measurement_date\", \n",
    "                                      \"Nodule_model\", \"Cancer_on_CT_NLP_rec\"]].sample(frac=1).rename({\"CT_Text\":\"text\"}, axis=1).to_csv(\"/home/vs428/project/Moore_data/all_moore_cts_followup_ann_v2.csv\", index=False)\n",
    "\n"
   ]
  },
  {
   "cell_type": "markdown",
   "id": "5a5a7874-74cb-438b-8cb4-5ce8a92111ab",
   "metadata": {},
   "source": [
    "# Create Joint Training Data for Cancer Exclusion from Annotations + Reviewed"
   ]
  },
  {
   "cell_type": "code",
   "execution_count": 2,
   "id": "97137253-dd5e-49a7-8eb1-cea85368a1fc",
   "metadata": {},
   "outputs": [],
   "source": [
    "import jsonlines\n",
    "from collections import Counter"
   ]
  },
  {
   "cell_type": "code",
   "execution_count": 3,
   "id": "3b4e6078-5f28-4a38-bafc-0d2316a06c78",
   "metadata": {},
   "outputs": [],
   "source": [
    "def merge_ner_manual_correct(ner_manual_data, ner_correct_data):\n",
    "    '''Merge jsonl files from prodigy's ner.manual and ner.correct. All we're doing is checking input hashes and choosing \n",
    "    the ner.correct one if it exists, otherwise dropping it. Not sure if prodigy has a function for this or not (db.merge seems different)\n",
    "    '''\n",
    "    \n",
    "    merged = []\n",
    "    # print(ner_correct_data[0].keys())\n",
    "    # print(ner_correct_data[0][\"_input_hash\"])\n",
    "    ner_correct_hashes = {data[\"_input_hash\"]:data for data in ner_correct_data}\n",
    "    print(len(ner_correct_hashes.keys()))\n",
    "    print(len(ner_correct_data))\n",
    "    assert len(ner_correct_hashes.keys()) == len(ner_correct_data), \"Not unique hashes?\"\n",
    "    \n",
    "    for ner_man_data in ner_manual_data:\n",
    "        if ner_man_data['_input_hash'] in ner_correct_hashes.keys():\n",
    "            merged.append(ner_correct_hashes[ner_man_data['_input_hash']])\n",
    "        else:\n",
    "            merged.append(ner_man_data)\n",
    "    \n",
    "    return merged\n",
    "    "
   ]
  },
  {
   "cell_type": "code",
   "execution_count": 4,
   "id": "ea81417a-361b-4897-babd-2040c114c72e",
   "metadata": {},
   "outputs": [],
   "source": [
    "data = []\n",
    "with jsonlines.open(\"/home/vs428/project/Moore_data/moore_cancer_exclusion_v2.jsonl\") as reader:\n",
    "    for line in reader:\n",
    "        data.append(line)\n",
    "    \n",
    "reviewed_data = []\n",
    "with jsonlines.open(\"/home/vs428/project/Moore_data/moore_cancer_exclusion_REVIEW_v2.jsonl\") as reader:\n",
    "    for line in reader:\n",
    "        reviewed_data.append(line)\n",
    "    \n",
    "        \n",
    "        "
   ]
  },
  {
   "cell_type": "code",
   "execution_count": 5,
   "id": "813051f2-e2ef-422c-9145-a6d7abb97c95",
   "metadata": {},
   "outputs": [],
   "source": [
    "# drop rows if they contains vs428 (I annotated them for some reason?)\n",
    "data = [x for x in data if \"vs428\" not in x[\"_session_id\"]]\n",
    "reviewed_data = [x for x in reviewed_data if \"vs428\" not in x[\"_session_id\"]]"
   ]
  },
  {
   "cell_type": "code",
   "execution_count": null,
   "id": "7aba34d7-074b-43ff-83ce-bcd42460e844",
   "metadata": {},
   "outputs": [],
   "source": []
  },
  {
   "cell_type": "code",
   "execution_count": 6,
   "id": "f29fa6c7-1a43-4f7f-bbd0-f60846c78d51",
   "metadata": {
    "scrolled": true,
    "tags": []
   },
   "outputs": [
    {
     "name": "stdout",
     "output_type": "stream",
     "text": [
      "477\n",
      "477\n"
     ]
    }
   ],
   "source": [
    "# out = merge_ner_manual_correct([data[0]], [reviewed_data[0]])\n",
    "out = merge_ner_manual_correct(data, reviewed_data)"
   ]
  },
  {
   "cell_type": "code",
   "execution_count": 9,
   "id": "f74549f7-d8b1-4bd7-b9ed-d67e1dee8bdf",
   "metadata": {},
   "outputs": [],
   "source": [
    "with jsonlines.open(\"/home/vs428/project/Moore_data/moore_cancer_exclusion_MERGED_v2.jsonl\", \"w\") as writer:\n",
    "    writer.write_all(out)"
   ]
  },
  {
   "cell_type": "markdown",
   "id": "51f92a2e-5123-43d9-bf4b-ed7cc74cdfc7",
   "metadata": {
    "tags": []
   },
   "source": [
    "# Other"
   ]
  },
  {
   "cell_type": "code",
   "execution_count": 19,
   "id": "774f17bc-933e-4ac0-933d-62785d11d26b",
   "metadata": {},
   "outputs": [],
   "source": [
    "# anns = []\n",
    "# import jsonlines\n",
    "# with jsonlines.open(\"/home/vs428/project/Moore_data/followup_pipeline_v1.jsonl\") as reader:\n",
    "#     for x in reader:\n",
    "#         anns.append(x)\n",
    "\n",
    "# def get_skipped_anns(data):\n",
    "#     '''inputs a jsonl file and extracts all the annotations that were skipped\n",
    "#     '''\n",
    "#     return [ann for ann in data if ann['answer'] == \"ignore\"]        \n",
    "\n",
    "# z = get_skipped_anns(anns)\n",
    "\n",
    "# with open(\"/home/vs428/project/Moore_data/followup_pipeline_v1_skipped_ct_fn.txt\", \"w\") as f:\n",
    "#     for ann in z:\n",
    "#         f.write(ann['text'])\n",
    "#         f.write(\"\\n\\n\")"
   ]
  },
  {
   "cell_type": "markdown",
   "id": "b3b16477-31c2-4a2e-a7b0-93a0213878fb",
   "metadata": {},
   "source": [
    "# Create Training Data (Impression Only)"
   ]
  },
  {
   "cell_type": "code",
   "execution_count": 43,
   "id": "e3f225e2-db63-48f4-a658-09a3334da063",
   "metadata": {
    "scrolled": true,
    "tags": []
   },
   "outputs": [],
   "source": [
    "import pandas as pd"
   ]
  },
  {
   "cell_type": "code",
   "execution_count": 44,
   "id": "bdba4d9a-6d76-47b6-8557-2a4e750ac42b",
   "metadata": {},
   "outputs": [],
   "source": [
    "data = pd.read_csv(\"/home/vs428/project/current cancer flags 6_23_2022.csv\")"
   ]
  },
  {
   "cell_type": "code",
   "execution_count": 45,
   "id": "65683aa6-8eb3-4dc1-84e8-37d60bc16df8",
   "metadata": {},
   "outputs": [],
   "source": [
    "all_raw_text = pd.read_csv(\"/home/vs428/project/ct_ed.tsv\", sep=\"\\t\")"
   ]
  },
  {
   "cell_type": "code",
   "execution_count": 46,
   "id": "82c00527-b3ad-4919-822c-5d387626f502",
   "metadata": {},
   "outputs": [
    {
     "data": {
      "text/plain": [
       "Index(['Unnamed: 0', 'person_id', 'location_id', 'birth_datetime', 'age_years',\n",
       "       'gender', 'ethnicity', 'race', 'visit_start_datetime',\n",
       "       'visit_end_datetime', 'visit_occurrence_id', 'value_source_value',\n",
       "       'measurement_datetime', 'measurement_source_value', 'study_id', 'zip',\n",
       "       'plan_source_value', 'phenotype_start_date', 'phenotype_end_date',\n",
       "       'payer_plan_period_start_date', 'study_hash', 'dist',\n",
       "       'insurance_category', 'person_ids_study', 'PAT_ENC_CSN_ID', 'MRN_ID',\n",
       "       'NLP_OUT', 'future_cancer', 'prior_cancer', 'future_cancer_names',\n",
       "       'prior_cancer_names'],\n",
       "      dtype='object')"
      ]
     },
     "execution_count": 46,
     "metadata": {},
     "output_type": "execute_result"
    }
   ],
   "source": [
    "data.columns"
   ]
  },
  {
   "cell_type": "code",
   "execution_count": 47,
   "id": "087a4c30-e790-4e30-bb07-e38bc23fb17b",
   "metadata": {},
   "outputs": [
    {
     "data": {
      "text/plain": [
       "Index(['PAT_ENC_CSN_ID', 'PAT_MRN_ID', 'visit_occurrence_id', 'person_id',\n",
       "       'OrderingEncounterKey', 'OrderType', 'Narrative', 'Impression',\n",
       "       'OrderingInstant', 'Name', 'Code'],\n",
       "      dtype='object')"
      ]
     },
     "execution_count": 47,
     "metadata": {},
     "output_type": "execute_result"
    }
   ],
   "source": [
    "all_raw_text.columns"
   ]
  },
  {
   "cell_type": "code",
   "execution_count": 48,
   "id": "71d9b235-4955-4c02-903a-8f3a8d708c61",
   "metadata": {},
   "outputs": [
    {
     "data": {
      "text/plain": [
       "((26545, 31), (77466, 11))"
      ]
     },
     "execution_count": 48,
     "metadata": {},
     "output_type": "execute_result"
    }
   ],
   "source": [
    "data.shape, all_raw_text.shape"
   ]
  },
  {
   "cell_type": "code",
   "execution_count": 49,
   "id": "0d32d607-9806-4687-9182-af2b07004904",
   "metadata": {},
   "outputs": [],
   "source": [
    "data['measurement_datetime'] = pd.to_datetime(data['measurement_datetime'])\n",
    "all_raw_text[\"OrderingInstant\"] = pd.to_datetime(all_raw_text[\"OrderingInstant\"])"
   ]
  },
  {
   "cell_type": "code",
   "execution_count": 50,
   "id": "1a5498b2-d787-4588-b6c9-9a992df2f382",
   "metadata": {},
   "outputs": [],
   "source": [
    "data['measurement_hour'] = data['measurement_datetime'].dt.hour\n",
    "all_raw_text[\"Orderinghour\"] = all_raw_text[\"OrderingInstant\"].dt.hour"
   ]
  },
  {
   "cell_type": "code",
   "execution_count": 52,
   "id": "6ea4218c-ed57-4c66-a853-678507755f77",
   "metadata": {},
   "outputs": [
    {
     "data": {
      "text/plain": [
       "Index(['PAT_ENC_CSN_ID', 'PAT_MRN_ID', 'visit_occurrence_id', 'person_id',\n",
       "       'OrderingEncounterKey', 'OrderType', 'Narrative', 'Impression',\n",
       "       'OrderingInstant', 'Name', 'Code', 'Orderinghour'],\n",
       "      dtype='object')"
      ]
     },
     "execution_count": 52,
     "metadata": {},
     "output_type": "execute_result"
    }
   ],
   "source": [
    "all_raw_text.columns"
   ]
  },
  {
   "cell_type": "code",
   "execution_count": 74,
   "id": "db29a18d-7e8b-40ed-9578-5b3e16ac06d6",
   "metadata": {},
   "outputs": [],
   "source": [
    "merged  = data.merge(all_raw_text[['PAT_ENC_CSN_ID', 'OrderingInstant', \"Orderinghour\", 'Narrative', 'Impression']],\n",
    "           left_on=[\"PAT_ENC_CSN_ID\"],#, \"measurement_hour\"],\n",
    "           right_on=[\"PAT_ENC_CSN_ID\"],#, \"Orderinghour\"],\n",
    "           how=\"left\",\n",
    "           indicator=True)"
   ]
  },
  {
   "cell_type": "markdown",
   "id": "6dda271e-d574-45e7-90f2-d3a64f8c3cc4",
   "metadata": {},
   "source": [
    "#### merged['_merge'].value_counts()"
   ]
  },
  {
   "cell_type": "code",
   "execution_count": 61,
   "id": "cc17daa2-a0f3-42d1-a51c-558a537597e8",
   "metadata": {},
   "outputs": [],
   "source": [
    "# set(data['PAT_ENC_CSN_ID'].unique()) - set(all_raw_text['PAT_ENC_CSN_ID'].unique())"
   ]
  },
  {
   "cell_type": "code",
   "execution_count": 66,
   "id": "8c1741b0-2314-44c2-bc2f-a19d762b4470",
   "metadata": {},
   "outputs": [
    {
     "data": {
      "text/html": [
       "<div>\n",
       "<style scoped>\n",
       "    .dataframe tbody tr th:only-of-type {\n",
       "        vertical-align: middle;\n",
       "    }\n",
       "\n",
       "    .dataframe tbody tr th {\n",
       "        vertical-align: top;\n",
       "    }\n",
       "\n",
       "    .dataframe thead th {\n",
       "        text-align: right;\n",
       "    }\n",
       "</style>\n",
       "<table border=\"1\" class=\"dataframe\">\n",
       "  <thead>\n",
       "    <tr style=\"text-align: right;\">\n",
       "      <th></th>\n",
       "      <th>Unnamed: 0</th>\n",
       "      <th>person_id</th>\n",
       "      <th>location_id</th>\n",
       "      <th>birth_datetime</th>\n",
       "      <th>age_years</th>\n",
       "      <th>gender</th>\n",
       "      <th>ethnicity</th>\n",
       "      <th>race</th>\n",
       "      <th>visit_start_datetime</th>\n",
       "      <th>visit_end_datetime</th>\n",
       "      <th>...</th>\n",
       "      <th>insurance_category</th>\n",
       "      <th>person_ids_study</th>\n",
       "      <th>PAT_ENC_CSN_ID</th>\n",
       "      <th>MRN_ID</th>\n",
       "      <th>NLP_OUT</th>\n",
       "      <th>future_cancer</th>\n",
       "      <th>prior_cancer</th>\n",
       "      <th>future_cancer_names</th>\n",
       "      <th>prior_cancer_names</th>\n",
       "      <th>measurement_hour</th>\n",
       "    </tr>\n",
       "  </thead>\n",
       "  <tbody>\n",
       "    <tr>\n",
       "      <th>7331</th>\n",
       "      <td>7331</td>\n",
       "      <td>13987903</td>\n",
       "      <td>ca438e4d2a9af1d3195bcb9cc61cc092cf6011d1d3f41e...</td>\n",
       "      <td>1/25/58</td>\n",
       "      <td>59</td>\n",
       "      <td>FEMALE</td>\n",
       "      <td>Not Hispanic or Latino</td>\n",
       "      <td>White</td>\n",
       "      <td>3/30/17 22:56</td>\n",
       "      <td>4/6/17 12:47</td>\n",
       "      <td>...</td>\n",
       "      <td>Commercial</td>\n",
       "      <td>RD_8298</td>\n",
       "      <td>148520964.0</td>\n",
       "      <td>MR1034275</td>\n",
       "      <td>{\\n  \"0\": {\\n    \"word\": \"pleura\",\\n    \"label...</td>\n",
       "      <td>True</td>\n",
       "      <td>True</td>\n",
       "      <td>['Malignant neoplasm of main bronchus', 'Malig...</td>\n",
       "      <td>['History of malignant neoplasm of bronchus', ...</td>\n",
       "      <td>9</td>\n",
       "    </tr>\n",
       "  </tbody>\n",
       "</table>\n",
       "<p>1 rows × 32 columns</p>\n",
       "</div>"
      ],
      "text/plain": [
       "      Unnamed: 0  person_id  \\\n",
       "7331        7331   13987903   \n",
       "\n",
       "                                            location_id birth_datetime  \\\n",
       "7331  ca438e4d2a9af1d3195bcb9cc61cc092cf6011d1d3f41e...        1/25/58   \n",
       "\n",
       "      age_years  gender               ethnicity   race visit_start_datetime  \\\n",
       "7331         59  FEMALE  Not Hispanic or Latino  White        3/30/17 22:56   \n",
       "\n",
       "     visit_end_datetime  ...  insurance_category person_ids_study  \\\n",
       "7331       4/6/17 12:47  ...          Commercial          RD_8298   \n",
       "\n",
       "     PAT_ENC_CSN_ID     MRN_ID  \\\n",
       "7331    148520964.0  MR1034275   \n",
       "\n",
       "                                                NLP_OUT future_cancer  \\\n",
       "7331  {\\n  \"0\": {\\n    \"word\": \"pleura\",\\n    \"label...          True   \n",
       "\n",
       "     prior_cancer                                future_cancer_names  \\\n",
       "7331         True  ['Malignant neoplasm of main bronchus', 'Malig...   \n",
       "\n",
       "                                     prior_cancer_names measurement_hour  \n",
       "7331  ['History of malignant neoplasm of bronchus', ...                9  \n",
       "\n",
       "[1 rows x 32 columns]"
      ]
     },
     "execution_count": 66,
     "metadata": {},
     "output_type": "execute_result"
    }
   ],
   "source": [
    "data[data['PAT_ENC_CSN_ID'] == 148520964.0]\n",
    "# all_raw_text[all_raw_text['PAT_ENC_CSN_ID'] == 148520964]"
   ]
  },
  {
   "cell_type": "code",
   "execution_count": 54,
   "id": "71fba0b1-39a0-42d7-bab2-b04c3d9041b1",
   "metadata": {},
   "outputs": [
    {
     "data": {
      "text/plain": [
       "181246545.0    6\n",
       "203494512.0    6\n",
       "161514536.0    5\n",
       "95782058.0     5\n",
       "202362471.0    5\n",
       "              ..\n",
       "225400642.0    1\n",
       "247733970.0    1\n",
       "210011020.0    1\n",
       "229247197.0    1\n",
       "124199208.0    1\n",
       "Name: PAT_ENC_CSN_ID, Length: 26052, dtype: int64"
      ]
     },
     "execution_count": 54,
     "metadata": {},
     "output_type": "execute_result"
    }
   ],
   "source": [
    "data['PAT_ENC_CSN_ID'].value_counts()"
   ]
  },
  {
   "cell_type": "code",
   "execution_count": 55,
   "id": "1f2c5bf4-a78e-495f-88b1-2530bd5e7167",
   "metadata": {},
   "outputs": [
    {
     "data": {
      "text/plain": [
       "(4414, 36)"
      ]
     },
     "execution_count": 55,
     "metadata": {},
     "output_type": "execute_result"
    }
   ],
   "source": [
    "merged.shape"
   ]
  },
  {
   "cell_type": "code",
   "execution_count": 56,
   "id": "417f0b83-6f33-4b1d-92d3-08a4915ba113",
   "metadata": {},
   "outputs": [
    {
     "data": {
      "text/plain": [
       "161514536.0    3\n",
       "163671797.0    2\n",
       "126161129.0    2\n",
       "244519838.0    2\n",
       "267125813.0    2\n",
       "              ..\n",
       "169531057.0    1\n",
       "109885769.0    1\n",
       "245156107.0    1\n",
       "208036612.0    1\n",
       "138064351.0    1\n",
       "Name: PAT_ENC_CSN_ID, Length: 4401, dtype: int64"
      ]
     },
     "execution_count": 56,
     "metadata": {},
     "output_type": "execute_result"
    }
   ],
   "source": [
    "merged['PAT_ENC_CSN_ID'].value_counts()"
   ]
  },
  {
   "cell_type": "markdown",
   "id": "10ef4e28-b9b7-4ffa-b2d6-761ebbf6ef75",
   "metadata": {},
   "source": [
    "# Create Training Data (Impression Only) - From Other Data"
   ]
  },
  {
   "cell_type": "code",
   "execution_count": 7,
   "id": "d5a7c1a3-3536-491e-af55-0c5aec179af8",
   "metadata": {},
   "outputs": [],
   "source": [
    "anns = []\n",
    "with jsonlines.open(\"/home/vs428/project/Moore_data/followup_pipeline_v2.jsonl\") as reader:\n",
    "    for line in reader:\n",
    "        anns.append(line)"
   ]
  },
  {
   "cell_type": "code",
   "execution_count": 8,
   "id": "78958885-00d6-48cf-bb64-b5c984028a15",
   "metadata": {},
   "outputs": [
    {
     "data": {
      "text/plain": [
       "'D'"
      ]
     },
     "execution_count": 8,
     "metadata": {},
     "output_type": "execute_result"
    }
   ],
   "source": [
    "anns[0]['text'][-1:]"
   ]
  },
  {
   "cell_type": "code",
   "execution_count": 9,
   "id": "c9e21d47-d906-4601-875c-f43ba345a882",
   "metadata": {},
   "outputs": [
    {
     "name": "stdout",
     "output_type": "stream",
     "text": [
      ". Likely subacute fracture of spinous process of T11. 4.  Moderately severe upper lobe predominant centrilobular emphysema. Indeterminate solid pulmonary nodule measuring less than 6 mm. In a low-risk patient with a solid nodule <6 mm, recommend no follow-up. In a high-risk patient, CT at 12 months is optional with stronger consideration if there is suspicious nodule morphology and/or upper lobe location. 5.  Bilateral axillary lymphadenopathy of unclear etiology, consider correlation with mammogram and/or dedicated ultrasound.  The above findings were discussed with Dr. Verghese at 8:00 PM on 3/1/2019  Reported By:  Sarvenaz Pourjabbar, MD  Reported And Signed By: Krithica Kaliannan,\n"
     ]
    }
   ],
   "source": [
    "print(anns[3]['text'])"
   ]
  },
  {
   "cell_type": "code",
   "execution_count": 12,
   "id": "8cbf8521-b8c2-4020-b8da-083a11724b92",
   "metadata": {},
   "outputs": [],
   "source": [
    "impressions = []\n",
    "for ann in anns:\n",
    "    try:\n",
    "        impression = ann\n",
    "        if re.search(r\"IMPRESSION:|Impression:\", ann['text']):\n",
    "            idx_start = re.search(r\"IMPRESSION:|Impression:\", ann['text']).start()\n",
    "        else:\n",
    "            idx_start = 0\n",
    "        impression['text'] = ann['text'][idx_start:]\n",
    "        impressions.append(impression)\n",
    "        \n",
    "    except ValueError:\n",
    "        impressions.append(ann)\n",
    "        "
   ]
  },
  {
   "cell_type": "code",
   "execution_count": 13,
   "id": "da4401c2-9f9a-4e7d-8f3d-beb5e7453bdd",
   "metadata": {},
   "outputs": [],
   "source": [
    "for imp in impressions:\n",
    "    if \"versions\" in imp:\n",
    "        imp.pop(\"versions\")"
   ]
  },
  {
   "cell_type": "code",
   "execution_count": 14,
   "id": "3445ab86-3f05-4828-9c41-609d6a0c83ca",
   "metadata": {},
   "outputs": [
    {
     "data": {
      "text/plain": [
       "1001"
      ]
     },
     "execution_count": 14,
     "metadata": {},
     "output_type": "execute_result"
    }
   ],
   "source": [
    "len(impressions)"
   ]
  },
  {
   "cell_type": "code",
   "execution_count": 16,
   "id": "032885e1-e04e-481c-bd2b-52b86700b5a4",
   "metadata": {
    "scrolled": true,
    "tags": []
   },
   "outputs": [
    {
     "data": {
      "text/plain": [
       "[{'text': \"IMPRESSION:   1. No evidence of pulmonary embolism or acute thoracic pathology. [ 2. Redemonstration of lucent lesions throughout the spine, ribs, and sternum consistent with the patient's known history of multiple myeloma, which appear stable since the examination on 3/14/2019  3. Indeterminate renal lesions in the right kidney, including a lesion measuring up to 3.9 cm, are identified and further characterization with multiphase MRI is recommended on an outpatient basis   Report Initiated By:  Andrew Kuhn, MD  A critical alert Blue ED Follow Up message has been communicated to this patient's provider via the Nuance Actionable Findings application on 10/25/2019 7:20 AM, Message ID 3586180.  Reported And Signed By: Syed Jamal Bokhari, MD\",\n",
       "  '_input_hash': -1983226661,\n",
       "  '_task_hash': -941005989,\n",
       "  'options': [{'id': 'NO_FOLLOWUP', 'text': 'NO_FOLLOWUP'},\n",
       "   {'id': 'HARD_FOLLOWUP', 'text': 'HARD_FOLLOWUP'},\n",
       "   {'id': 'CONDITIONAL_FOLLOWUP', 'text': 'CONDITIONAL_FOLLOWUP'}],\n",
       "  '_view_id': 'choice',\n",
       "  'config': {'choice_style': 'single'},\n",
       "  'accept': ['NO_FOLLOWUP'],\n",
       "  'answer': 'accept',\n",
       "  '_timestamp': 1657744578,\n",
       "  '_annotator_id': 'ct_images_75_25_500_TASK4-rat4',\n",
       "  '_session_id': 'ct_images_75_25_500_TASK4-rat4',\n",
       "  'sessions': ['ct_images_75_25_500_TASK4-rat4',\n",
       "   'ct_images_75_25_500_TASK4-rdenkewicz'],\n",
       "  'view_id': 'choice'},\n",
       " {'text': 'IMPRESSION:  No evidence of pulmonary embolus.  Minimal nodularity in the lingula that may represent a small airway disease.  Reported And Signed By: Margarita Revzin, MD',\n",
       "  '_input_hash': 1808797508,\n",
       "  '_task_hash': -1673251006,\n",
       "  'options': [{'id': 'NO_FOLLOWUP', 'text': 'NO_FOLLOWUP'},\n",
       "   {'id': 'HARD_FOLLOWUP', 'text': 'HARD_FOLLOWUP'},\n",
       "   {'id': 'CONDITIONAL_FOLLOWUP', 'text': 'CONDITIONAL_FOLLOWUP'}],\n",
       "  '_view_id': 'choice',\n",
       "  'accept': ['NO_FOLLOWUP'],\n",
       "  'config': {'choice_style': 'single'},\n",
       "  'answer': 'accept',\n",
       "  '_timestamp': 1657744587,\n",
       "  '_annotator_id': 'ct_images_75_25_500_TASK4-rat4',\n",
       "  '_session_id': 'ct_images_75_25_500_TASK4-rat4',\n",
       "  'sessions': ['ct_images_75_25_500_TASK4-rat4',\n",
       "   'ct_images_75_25_500_TASK4-rdenkewicz'],\n",
       "  'view_id': 'choice'},\n",
       " {'text': 'IMPRESSION:  1. Acute non-to-minimally displaced lateral fractures of left ribs 4 through 7 with associated small intramuscular hematoma. Otherwise, no traumatic injury to the chest, abdomen pelvis.  2. Other chronic findings as described.   These findings were communicated to Dr. Dashevsky in the ED on 11/29/2017 at 2:57 AM.  Reported By:  Michal Nowak, MD  Reported And Signed By: Balaji Rao, MD',\n",
       "  '_input_hash': -630307167,\n",
       "  '_task_hash': -803402197,\n",
       "  'options': [{'id': 'NO_FOLLOWUP', 'text': 'NO_FOLLOWUP'},\n",
       "   {'id': 'HARD_FOLLOWUP', 'text': 'HARD_FOLLOWUP'},\n",
       "   {'id': 'CONDITIONAL_FOLLOWUP', 'text': 'CONDITIONAL_FOLLOWUP'}],\n",
       "  '_view_id': 'choice',\n",
       "  'accept': ['NO_FOLLOWUP'],\n",
       "  'config': {'choice_style': 'single'},\n",
       "  'answer': 'accept',\n",
       "  '_timestamp': 1657744623,\n",
       "  '_annotator_id': 'ct_images_75_25_500_TASK4-rat4',\n",
       "  '_session_id': 'ct_images_75_25_500_TASK4-rat4',\n",
       "  'sessions': ['ct_images_75_25_500_TASK4-rat4',\n",
       "   'ct_images_75_25_500_TASK4-rdenkewicz'],\n",
       "  'view_id': 'choice'},\n",
       " {'text': '. Likely subacute fracture of spinous process of T11. 4.  Moderately severe upper lobe predominant centrilobular emphysema. Indeterminate solid pulmonary nodule measuring less than 6 mm. In a low-risk patient with a solid nodule <6 mm, recommend no follow-up. In a high-risk patient, CT at 12 months is optional with stronger consideration if there is suspicious nodule morphology and/or upper lobe location. 5.  Bilateral axillary lymphadenopathy of unclear etiology, consider correlation with mammogram and/or dedicated ultrasound.  The above findings were discussed with Dr. Verghese at 8:00 PM on 3/1/2019  Reported By:  Sarvenaz Pourjabbar, MD  Reported And Signed By: Krithica Kaliannan,',\n",
       "  '_input_hash': -474162194,\n",
       "  '_task_hash': 1530266395,\n",
       "  'options': [{'id': 'NO_FOLLOWUP', 'text': 'NO_FOLLOWUP'},\n",
       "   {'id': 'HARD_FOLLOWUP', 'text': 'HARD_FOLLOWUP'},\n",
       "   {'id': 'CONDITIONAL_FOLLOWUP', 'text': 'CONDITIONAL_FOLLOWUP'}],\n",
       "  '_view_id': 'choice',\n",
       "  'accept': ['CONDITIONAL_FOLLOWUP'],\n",
       "  'config': {'choice_style': 'single'},\n",
       "  'answer': 'accept',\n",
       "  '_timestamp': 1657744634,\n",
       "  '_annotator_id': 'ct_images_75_25_500_TASK4-rat4',\n",
       "  '_session_id': 'ct_images_75_25_500_TASK4-rat4',\n",
       "  'sessions': ['ct_images_75_25_500_TASK4-rat4',\n",
       "   'ct_images_75_25_500_TASK4-rdenkewicz'],\n",
       "  'view_id': 'choice'},\n",
       " {'text': 'IMPRESSION: No evidence of pulmonary embolism. Mild progression of extensive pleural metastases throughout the right hemithorax.  Reported And Signed By: Michael Spektor, MD',\n",
       "  '_input_hash': 1095647110,\n",
       "  '_task_hash': 1318298090,\n",
       "  'options': [{'id': 'NO_FOLLOWUP', 'text': 'NO_FOLLOWUP'},\n",
       "   {'id': 'HARD_FOLLOWUP', 'text': 'HARD_FOLLOWUP'},\n",
       "   {'id': 'CONDITIONAL_FOLLOWUP', 'text': 'CONDITIONAL_FOLLOWUP'}],\n",
       "  '_view_id': 'choice',\n",
       "  'accept': ['NO_FOLLOWUP'],\n",
       "  'config': {'choice_style': 'single'},\n",
       "  'answer': 'accept',\n",
       "  '_timestamp': 1657744642,\n",
       "  '_annotator_id': 'ct_images_75_25_500_TASK4-rat4',\n",
       "  '_session_id': 'ct_images_75_25_500_TASK4-rat4',\n",
       "  'sessions': ['ct_images_75_25_500_TASK4-rat4',\n",
       "   'ct_images_75_25_500_TASK4-rdenkewicz'],\n",
       "  'view_id': 'choice'},\n",
       " {'text': 'Impression: 1. No evidence of acute pulmonary embolism. 2. Enlarged pulmonary artery and its branches consistent with pulmonary hypertension. 3. Several pulmonary nodules, at least one of which is new (3mm). Follow-up is recommended in 12 months to document stability.     Reported And Signed By: Margarita Revzin, MD',\n",
       "  '_input_hash': 967365267,\n",
       "  '_task_hash': 335470472,\n",
       "  'options': [{'id': 'NO_FOLLOWUP', 'text': 'NO_FOLLOWUP'},\n",
       "   {'id': 'HARD_FOLLOWUP', 'text': 'HARD_FOLLOWUP'},\n",
       "   {'id': 'CONDITIONAL_FOLLOWUP', 'text': 'CONDITIONAL_FOLLOWUP'}],\n",
       "  '_view_id': 'choice',\n",
       "  'accept': ['HARD_FOLLOWUP'],\n",
       "  'config': {'choice_style': 'single'},\n",
       "  'answer': 'accept',\n",
       "  '_timestamp': 1657744654,\n",
       "  '_annotator_id': 'ct_images_75_25_500_TASK4-rat4',\n",
       "  '_session_id': 'ct_images_75_25_500_TASK4-rat4',\n",
       "  'sessions': ['ct_images_75_25_500_TASK4-rat4',\n",
       "   'ct_images_75_25_500_TASK4-rdenkewicz'],\n",
       "  'view_id': 'choice'},\n",
       " {'text': 'CT CHEST WO IV CONTRAST Date: 10/17/2019  INDICATION: Neoplasm: chest, lung, treatment monitor or follow-up.   COMPARISON: None available  TECHNIQUE:  A volumetric CT acquisition of the chest was obtained from the thoracic inlet to the upper abdomen without administration of intravenous contrast. Coronal and sagittal reformatted images were also provided.  ',\n",
       "  '_input_hash': -1352359519,\n",
       "  '_task_hash': -530717674,\n",
       "  'options': [{'id': 'NO_FOLLOWUP', 'text': 'NO_FOLLOWUP'},\n",
       "   {'id': 'HARD_FOLLOWUP', 'text': 'HARD_FOLLOWUP'},\n",
       "   {'id': 'CONDITIONAL_FOLLOWUP', 'text': 'CONDITIONAL_FOLLOWUP'}],\n",
       "  '_view_id': 'choice',\n",
       "  'accept': ['NO_FOLLOWUP'],\n",
       "  'config': {'choice_style': 'single'},\n",
       "  'answer': 'accept',\n",
       "  '_timestamp': 1657744671,\n",
       "  '_annotator_id': 'ct_images_75_25_500_TASK4-rat4',\n",
       "  '_session_id': 'ct_images_75_25_500_TASK4-rat4',\n",
       "  'sessions': ['ct_images_75_25_500_TASK4-rat4',\n",
       "   'ct_images_75_25_500_TASK4-rdenkewicz'],\n",
       "  'view_id': 'choice'},\n",
       " {'text': 'IMPRESSION:  No evidence of pulmonary embolism or acute thoracic pathology.  Reported And Signed By: Susan Marlatt, MD',\n",
       "  '_input_hash': -1278830051,\n",
       "  '_task_hash': 553574566,\n",
       "  'options': [{'id': 'NO_FOLLOWUP', 'text': 'NO_FOLLOWUP'},\n",
       "   {'id': 'HARD_FOLLOWUP', 'text': 'HARD_FOLLOWUP'},\n",
       "   {'id': 'CONDITIONAL_FOLLOWUP', 'text': 'CONDITIONAL_FOLLOWUP'}],\n",
       "  '_view_id': 'choice',\n",
       "  'accept': ['NO_FOLLOWUP'],\n",
       "  'config': {'choice_style': 'single'},\n",
       "  'answer': 'accept',\n",
       "  '_timestamp': 1657744681,\n",
       "  '_annotator_id': 'ct_images_75_25_500_TASK4-rat4',\n",
       "  '_session_id': 'ct_images_75_25_500_TASK4-rat4',\n",
       "  'sessions': ['ct_images_75_25_500_TASK4-rat4',\n",
       "   'ct_images_75_25_500_TASK4-rdenkewicz'],\n",
       "  'view_id': 'choice'},\n",
       " {'text': 'IMPRESSION:   1. No evidence of acute traumatic injury to the chest, abdomen, or pelvis. 2. No evidence of acute traumatic injury to the thoracic or lumbar spine. 3. Extensive hepatic steatosis and mild pyloroduodenal edema suggesting gastroduodenitis and/or peptic ulcer disease.  Reported By:  Azeem Wasay, DO  Reported And Signed By: Syed Jamal Bokhari, MD',\n",
       "  '_input_hash': -964763597,\n",
       "  '_task_hash': -923726089,\n",
       "  'options': [{'id': 'NO_FOLLOWUP', 'text': 'NO_FOLLOWUP'},\n",
       "   {'id': 'HARD_FOLLOWUP', 'text': 'HARD_FOLLOWUP'},\n",
       "   {'id': 'CONDITIONAL_FOLLOWUP', 'text': 'CONDITIONAL_FOLLOWUP'}],\n",
       "  '_view_id': 'choice',\n",
       "  'accept': ['NO_FOLLOWUP'],\n",
       "  'config': {'choice_style': 'single'},\n",
       "  'answer': 'accept',\n",
       "  '_timestamp': 1657744728,\n",
       "  '_annotator_id': 'ct_images_75_25_500_TASK4-rat4',\n",
       "  '_session_id': 'ct_images_75_25_500_TASK4-rat4',\n",
       "  'sessions': ['ct_images_75_25_500_TASK4-rat4',\n",
       "   'ct_images_75_25_500_TASK4-rdenkewicz'],\n",
       "  'view_id': 'choice'},\n",
       " {'text': 'IMPRESSION:  1. Soft tissue contusions. Otherwise no acute traumatic injury to the chest, abdomen or pelvis. 2. Nonspecific pulmonary nodules measuring 5 mm. In a low-risk patient with a solid nodule <6 mm, recommend no follow-up. In a high-risk patient, CT at 12 months is optional with stronger consideration if there is suspicious nodule morphology and/or upper lobe location.  Report Initiated By:  Benjamin Jang, MD  ',\n",
       "  '_input_hash': 852400764,\n",
       "  '_task_hash': 1706248780,\n",
       "  'options': [{'id': 'NO_FOLLOWUP', 'text': 'NO_FOLLOWUP'},\n",
       "   {'id': 'HARD_FOLLOWUP', 'text': 'HARD_FOLLOWUP'},\n",
       "   {'id': 'CONDITIONAL_FOLLOWUP', 'text': 'CONDITIONAL_FOLLOWUP'}],\n",
       "  '_view_id': 'choice',\n",
       "  'accept': ['CONDITIONAL_FOLLOWUP'],\n",
       "  'config': {'choice_style': 'single'},\n",
       "  'answer': 'accept',\n",
       "  '_timestamp': 1657744769,\n",
       "  '_annotator_id': 'ct_images_75_25_500_TASK4-rat4',\n",
       "  '_session_id': 'ct_images_75_25_500_TASK4-rat4',\n",
       "  'sessions': ['ct_images_75_25_500_TASK4-rat4',\n",
       "   'ct_images_75_25_500_TASK4-rdenkewicz'],\n",
       "  'view_id': 'choice'}]"
      ]
     },
     "execution_count": 16,
     "metadata": {},
     "output_type": "execute_result"
    }
   ],
   "source": [
    "impressions[:10]"
   ]
  },
  {
   "cell_type": "code",
   "execution_count": 17,
   "id": "0659120f-22b3-4af3-9937-78a5e8ab66a8",
   "metadata": {},
   "outputs": [],
   "source": [
    "with jsonlines.open(\"/home/vs428/project/Moore_data/followup_pipeline_v2_impressions.jsonl\", \"w\") as writer:\n",
    "    writer.write_all(impressions)"
   ]
  },
  {
   "cell_type": "markdown",
   "id": "39e3bb44-5754-4426-8afd-793fad10fe9b",
   "metadata": {},
   "source": [
    "# Merge in Training Data (Impression Only) - From Other Data - New 100 as of 1/11/2023"
   ]
  },
  {
   "cell_type": "code",
   "execution_count": 2,
   "id": "e22782a2-9886-40c2-87ec-941ff4abe7ad",
   "metadata": {},
   "outputs": [],
   "source": [
    "import jsonlines\n",
    "import re"
   ]
  },
  {
   "cell_type": "code",
   "execution_count": 41,
   "id": "2a7cca88-c34c-4968-b149-41592a6ffb63",
   "metadata": {},
   "outputs": [],
   "source": [
    "anns = []\n",
    "with jsonlines.open(\"/home/vs428/project/Moore_data/followup_pipeline_v2.jsonl\") as reader:\n",
    "    for line in reader:\n",
    "        anns.append(line)"
   ]
  },
  {
   "cell_type": "code",
   "execution_count": 42,
   "id": "5ef72aec-451f-4c18-88c1-1ad7d74f0387",
   "metadata": {},
   "outputs": [
    {
     "data": {
      "text/plain": [
       "1001"
      ]
     },
     "execution_count": 42,
     "metadata": {},
     "output_type": "execute_result"
    }
   ],
   "source": [
    "len(anns)"
   ]
  },
  {
   "cell_type": "code",
   "execution_count": 43,
   "id": "72c484be-0353-4adc-8c8e-2db97d6a2566",
   "metadata": {},
   "outputs": [],
   "source": [
    "newanns = []\n",
    "with jsonlines.open(\"/home/vs428/project/Moore_data/followup_pipeline_v2_600-rdenkewicz.jsonl\") as reader:\n",
    "    for line in reader:\n",
    "        newanns.append(line)"
   ]
  },
  {
   "cell_type": "code",
   "execution_count": 44,
   "id": "ca2e44a3-1a32-41a8-9f50-e0c0916cea2c",
   "metadata": {},
   "outputs": [
    {
     "data": {
      "text/plain": [
       "600"
      ]
     },
     "execution_count": 44,
     "metadata": {},
     "output_type": "execute_result"
    }
   ],
   "source": [
    "len(newanns)"
   ]
  },
  {
   "cell_type": "code",
   "execution_count": 54,
   "id": "a90ceeb0-2c44-43fa-9d82-f13c4265e4a9",
   "metadata": {},
   "outputs": [],
   "source": [
    "from collections import Counter\n",
    "counter = Counter()\n",
    "ryan_old = []\n",
    "for ann in anns:\n",
    "    if ann['_annotator_id'].startswith('ct_images_75_25_500_TASK4'):\n",
    "        # this is the initial set of 500 original ones adjudicated by Chris or someone?\n",
    "        counter['ct_images_75_25_500_TASK4'] += 1\n",
    "    elif ann['_annotator_id'].startswith(\"followup_pipeline_v1-rdenkewicz\"):\n",
    "        # this is the set of 500 more that just Ryan did\n",
    "        counter['followup_pipeline_v1-rdenkewicz'] += 1        \n",
    "        ryan_old.append(ann)\n",
    "    else:\n",
    "        print(ann['_annotator_id'])"
   ]
  },
  {
   "cell_type": "code",
   "execution_count": 55,
   "id": "4090a42f-cfe1-49ce-9cda-f603604465c7",
   "metadata": {},
   "outputs": [
    {
     "data": {
      "text/plain": [
       "Counter({'ct_images_75_25_500_TASK4': 501,\n",
       "         'followup_pipeline_v1-rdenkewicz': 500})"
      ]
     },
     "execution_count": 55,
     "metadata": {},
     "output_type": "execute_result"
    }
   ],
   "source": [
    "counter"
   ]
  },
  {
   "cell_type": "code",
   "execution_count": 56,
   "id": "6341a84c-13e5-49b9-a1ca-66c8e54d2708",
   "metadata": {},
   "outputs": [
    {
     "data": {
      "text/plain": [
       "Counter({'followup_pipeline_v1-rdenkewicz': 600})"
      ]
     },
     "execution_count": 56,
     "metadata": {},
     "output_type": "execute_result"
    }
   ],
   "source": [
    "# we're checking the same thing for the new set that Ryan annotated (extra 100)\n",
    "# so we have 500 from before + 100 new ones\n",
    "from collections import Counter\n",
    "counter2 = Counter()\n",
    "for ann in newanns:\n",
    "    if ann['_annotator_id'].startswith('ct_images_75_25_500_TASK4'):\n",
    "        counter2['ct_images_75_25_500_TASK4'] += 1\n",
    "    elif ann['_annotator_id'].startswith(\"followup_pipeline_v1-rdenkewicz\"):\n",
    "        counter2['followup_pipeline_v1-rdenkewicz'] += 1        \n",
    "    else:\n",
    "        print(ann['_annotator_id'])\n",
    "counter2"
   ]
  },
  {
   "cell_type": "code",
   "execution_count": 57,
   "id": "0247faaa-9a5a-42c8-9f30-9c90689e2a96",
   "metadata": {},
   "outputs": [],
   "source": [
    "# this is the set of ryan's old 500 annotation hashes\n",
    "old_ryan_hashes = set([ann['_input_hash'] for ann in others])"
   ]
  },
  {
   "cell_type": "code",
   "execution_count": 73,
   "id": "5f7ed9d2-6542-4f4c-ac97-87a18013f34d",
   "metadata": {},
   "outputs": [
    {
     "data": {
      "text/plain": [
       "600"
      ]
     },
     "execution_count": 73,
     "metadata": {},
     "output_type": "execute_result"
    }
   ],
   "source": [
    "len(set([ann['_input_hash'] for ann in newanns]))"
   ]
  },
  {
   "cell_type": "code",
   "execution_count": 60,
   "id": "a43ab7bf-7c8e-4d3c-8b63-98bddfefcd5b",
   "metadata": {},
   "outputs": [],
   "source": [
    "counter3 = Counter()\n",
    "for ann in newanns:\n",
    "    if ann['_input_hash'] in old_ryan_hashes and ann['_annotator_id'].startswith(\"followup_pipeline_v1-rdenkewicz\"):\n",
    "        counter3['yes']  += 1\n",
    "    else:\n",
    "        counter3['no']  += 1"
   ]
  },
  {
   "cell_type": "code",
   "execution_count": 61,
   "id": "514e84f7-a851-4cf2-8751-29cce2f65ce8",
   "metadata": {},
   "outputs": [
    {
     "data": {
      "text/plain": [
       "Counter({'yes': 500, 'no': 100})"
      ]
     },
     "execution_count": 61,
     "metadata": {},
     "output_type": "execute_result"
    }
   ],
   "source": [
    "# we confirm that we have 500 old ones and 100 new ones\n",
    "counter3"
   ]
  },
  {
   "cell_type": "code",
   "execution_count": 63,
   "id": "17a5d940-7d00-4746-a50d-2e8017488c34",
   "metadata": {},
   "outputs": [],
   "source": [
    "# we merge in the 100 new ones here with the 1000 that already exist to get 1101\n",
    "new_ryan_anns = []\n",
    "for ann in newanns:\n",
    "    if ann['_input_hash'] not in old_ryan_hashes:\n",
    "        new_ryan_anns.append(ann)"
   ]
  },
  {
   "cell_type": "code",
   "execution_count": 65,
   "id": "4d5d5413-60d4-463a-924f-6412da524851",
   "metadata": {},
   "outputs": [],
   "source": [
    "merged_anns = anns + new_ryan_anns"
   ]
  },
  {
   "cell_type": "code",
   "execution_count": 72,
   "id": "4cc152a1-8601-4e45-92bd-42d258c07155",
   "metadata": {},
   "outputs": [
    {
     "data": {
      "text/plain": [
       "(1001, 100)"
      ]
     },
     "execution_count": 72,
     "metadata": {},
     "output_type": "execute_result"
    }
   ],
   "source": [
    "len(anns) , len(new_ryan_anns)\n",
    "# 1001 + 100"
   ]
  },
  {
   "cell_type": "code",
   "execution_count": 69,
   "id": "af1490d8-671a-4749-a701-fe05d250e38e",
   "metadata": {},
   "outputs": [
    {
     "data": {
      "text/plain": [
       "1099"
      ]
     },
     "execution_count": 69,
     "metadata": {},
     "output_type": "execute_result"
    }
   ],
   "source": [
    "len(set([ann['_input_hash'] for ann in merged_anns]))"
   ]
  },
  {
   "cell_type": "code",
   "execution_count": 74,
   "id": "aea18d0f-9270-4d94-a23b-98e09010ab8a",
   "metadata": {},
   "outputs": [
    {
     "ename": "AssertionError",
     "evalue": "",
     "output_type": "error",
     "traceback": [
      "\u001b[0;31m---------------------------------------------------------------------------\u001b[0m",
      "\u001b[0;31mAssertionError\u001b[0m                            Traceback (most recent call last)",
      "Cell \u001b[0;32mIn [74], line 3\u001b[0m\n\u001b[1;32m      1\u001b[0m \u001b[38;5;28mlen\u001b[39m(merged_anns)\n\u001b[1;32m      2\u001b[0m \u001b[38;5;66;03m# we lose two here for some reason but who cares\u001b[39;00m\n\u001b[0;32m----> 3\u001b[0m \u001b[38;5;28;01massert\u001b[39;00m \u001b[38;5;28mlen\u001b[39m(\u001b[38;5;28mset\u001b[39m([ann[\u001b[38;5;124m'\u001b[39m\u001b[38;5;124m_input_hash\u001b[39m\u001b[38;5;124m'\u001b[39m] \u001b[38;5;28;01mfor\u001b[39;00m ann \u001b[38;5;129;01min\u001b[39;00m merged_anns])) \u001b[38;5;241m==\u001b[39m \u001b[38;5;241m1101\u001b[39m\n",
      "\u001b[0;31mAssertionError\u001b[0m: "
     ]
    }
   ],
   "source": [
    "len(merged_anns)\n",
    "# we lose two here for some reason but who cares\n",
    "assert len(set([ann['_input_hash'] for ann in merged_anns])) == 1101"
   ]
  },
  {
   "cell_type": "code",
   "execution_count": 76,
   "id": "d105da7a-589c-42bf-844e-399304646b96",
   "metadata": {},
   "outputs": [],
   "source": [
    "with jsonlines.open(\"/home/vs428/project/Moore_data/followup_pipeline_v3.jsonl\", \"w\") as writer:\n",
    "    writer.write_all(merged_anns)"
   ]
  },
  {
   "cell_type": "code",
   "execution_count": 77,
   "id": "32ecde95-67ec-4f97-a03a-2867ee45b9c8",
   "metadata": {},
   "outputs": [],
   "source": [
    "# Convert this into IMPRESSIONS only\n",
    "\n",
    "impressions = []\n",
    "for ann in merged_anns:\n",
    "    try:\n",
    "        impression = ann\n",
    "        if re.search(r\"IMPRESSION:|Impression:\", ann['text']):\n",
    "            idx_start = re.search(r\"IMPRESSION:|Impression:\", ann['text']).start()\n",
    "        else:\n",
    "            idx_start = 0\n",
    "        impression['text'] = ann['text'][idx_start:]\n",
    "        impressions.append(impression)\n",
    "        \n",
    "    except ValueError:\n",
    "        impressions.append(ann)\n",
    "        "
   ]
  },
  {
   "cell_type": "code",
   "execution_count": 78,
   "id": "86711169-67ca-41f6-966d-744454b06494",
   "metadata": {},
   "outputs": [],
   "source": [
    "for imp in impressions:\n",
    "    if \"versions\" in imp:\n",
    "        imp.pop(\"versions\")"
   ]
  },
  {
   "cell_type": "code",
   "execution_count": 79,
   "id": "41618158-9f18-43aa-ba7d-d7f485c037a6",
   "metadata": {},
   "outputs": [
    {
     "data": {
      "text/plain": [
       "1101"
      ]
     },
     "execution_count": 79,
     "metadata": {},
     "output_type": "execute_result"
    }
   ],
   "source": [
    "len(impressions)"
   ]
  },
  {
   "cell_type": "code",
   "execution_count": 80,
   "id": "f85202c7-d83c-47e8-a33d-1a5b5fddc4c0",
   "metadata": {},
   "outputs": [],
   "source": [
    "with jsonlines.open(\"/home/vs428/project/Moore_data/followup_pipeline_v3_impressions.jsonl\", \"w\") as writer:\n",
    "    writer.write_all(impressions)"
   ]
  },
  {
   "cell_type": "code",
   "execution_count": 81,
   "id": "b70b4e24-5459-4969-956c-55c1d40cd2ae",
   "metadata": {},
   "outputs": [],
   "source": [
    "# now we run data-to-spacy from prodigy\n",
    "# python -m spacy init fill-config base_followup_weighted_config.cfg followup_weighted_config.cfg --code  ./Weighted_TextCategorizer.py\n"
   ]
  },
  {
   "cell_type": "code",
   "execution_count": 89,
   "id": "9b671e22-c43b-446b-8040-aa2a8752458e",
   "metadata": {},
   "outputs": [],
   "source": [
    "# let's check the docbins we created"
   ]
  },
  {
   "cell_type": "code",
   "execution_count": 82,
   "id": "9e0e6219-7157-4076-96f0-7a53287a511e",
   "metadata": {},
   "outputs": [],
   "source": [
    "import pandas as pd\n",
    "import spacy\n",
    "from spacy.tokens import DocBin"
   ]
  },
  {
   "cell_type": "code",
   "execution_count": 86,
   "id": "1508b5f1-3de2-42e4-984b-e9c6b0d754c0",
   "metadata": {},
   "outputs": [],
   "source": [
    "docbin = DocBin().from_disk(\"/home/vs428/project/Moore_data/followup_impression_data_1_11_2023/train.spacy\")\n",
    "dev_docbin = DocBin().from_disk(\"/home/vs428/project/Moore_data/followup_impression_data_1_11_2023/dev.spacy\")"
   ]
  },
  {
   "cell_type": "code",
   "execution_count": 88,
   "id": "c4429829-292e-404d-9557-a31b8b33e432",
   "metadata": {},
   "outputs": [
    {
     "data": {
      "text/plain": [
       "(856, 151, 1007)"
      ]
     },
     "execution_count": 88,
     "metadata": {},
     "output_type": "execute_result"
    }
   ],
   "source": [
    "# we only have 1007 because of all the ones that were dropped\n",
    "len(docbin), len(dev_docbin), len(docbin) + len(dev_docbin)"
   ]
  },
  {
   "cell_type": "code",
   "execution_count": 3,
   "id": "c3c82408-9b93-443c-9510-53e1583c1a37",
   "metadata": {},
   "outputs": [],
   "source": [
    "anns = []\n",
    "with jsonlines.open(\"/home/vs428/project/Moore_data/followup_pipeline_v3_impressions.jsonl\") as reader:\n",
    "    for line in reader:\n",
    "        anns.append(line)"
   ]
  },
  {
   "cell_type": "code",
   "execution_count": 10,
   "id": "9cb8efc3-d228-467f-9650-f3499d35c00c",
   "metadata": {
    "tags": []
   },
   "outputs": [
    {
     "data": {
      "text/plain": [
       "Counter({'NO_FOLLOWUP': 600,\n",
       "         'CONDITIONAL_FOLLOWUP': 222,\n",
       "         'HARD_FOLLOWUP': 189})"
      ]
     },
     "execution_count": 10,
     "metadata": {},
     "output_type": "execute_result"
    }
   ],
   "source": [
    "from collections import Counter\n",
    "Counter([ann['accept'][0] for ann in anns if ann['accept']])"
   ]
  },
  {
   "cell_type": "markdown",
   "id": "c545e6d1-9bf5-42d4-a753-5cce8e041e6c",
   "metadata": {},
   "source": [
    "# Convert DocBin into CSV"
   ]
  },
  {
   "cell_type": "code",
   "execution_count": 82,
   "id": "0e5a84ef-add0-4af6-a2f9-29fd18873537",
   "metadata": {},
   "outputs": [],
   "source": [
    "import pandas as pd\n",
    "import spacy\n",
    "from spacy.tokens import DocBin"
   ]
  },
  {
   "cell_type": "code",
   "execution_count": 25,
   "id": "b29d29d8-a561-4c80-ac07-8d8edda58580",
   "metadata": {},
   "outputs": [],
   "source": [
    "docbin = DocBin().from_disk(\"/home/vs428/project/Moore_data/followup_impression_data/dev.spacy\")\n"
   ]
  },
  {
   "cell_type": "code",
   "execution_count": null,
   "id": "1b7e0878-1b4a-43c7-ad15-c968751b9df3",
   "metadata": {},
   "outputs": [],
   "source": [
    "nlp = spacy.load(\"en_core_web_trf\")"
   ]
  },
  {
   "cell_type": "code",
   "execution_count": 57,
   "id": "b0ca6378-8829-48d2-9d9b-4bdda30b51d8",
   "metadata": {},
   "outputs": [],
   "source": [
    "docs = docbin.get_docs(nlp.vocab)"
   ]
  },
  {
   "cell_type": "code",
   "execution_count": 58,
   "id": "13db573d-ab2c-4466-9c39-c786226ab3c9",
   "metadata": {},
   "outputs": [],
   "source": [
    "docs_list = []\n",
    "for doc in docs:\n",
    "    docs_list.append({\n",
    "        \"text\": doc.text,\n",
    "        \"label\": max(doc.cats, key=doc.cats.get)\n",
    "    })"
   ]
  },
  {
   "cell_type": "code",
   "execution_count": 59,
   "id": "59724603-acdd-42f5-b89c-5bf9b2f91933",
   "metadata": {},
   "outputs": [
    {
     "data": {
      "text/plain": [
       "(138, 138)"
      ]
     },
     "execution_count": 59,
     "metadata": {},
     "output_type": "execute_result"
    }
   ],
   "source": [
    "len(df_docs), len(docbin)"
   ]
  },
  {
   "cell_type": "code",
   "execution_count": 60,
   "id": "2ec7d7f7-eacd-4781-a772-1c41fc03d3fa",
   "metadata": {},
   "outputs": [],
   "source": [
    "df_docs = pd.DataFrame.from_records(docs_list)"
   ]
  },
  {
   "cell_type": "code",
   "execution_count": 74,
   "id": "c49886e5-1824-48aa-9b97-a3208c13b90b",
   "metadata": {},
   "outputs": [],
   "source": [
    "df_docs.to_csv(\"/home/vs428/project/Moore_data/followup_impression_data/dev.csv\")"
   ]
  },
  {
   "cell_type": "code",
   "execution_count": 71,
   "id": "01182804-91e6-4c81-b3d4-889e7b3f7e6c",
   "metadata": {},
   "outputs": [
    {
     "name": "stderr",
     "output_type": "stream",
     "text": [
      "/tmp/ipykernel_137134/2760701896.py:1: FutureWarning: iteritems is deprecated and will be removed in a future version. Use .items instead.\n",
      "  iscout_input = [str(idx) + \" ~\" + row + \"\\n\" for idx, row in df_docs['text'].iteritems()]\n"
     ]
    }
   ],
   "source": [
    "iscout_input = [str(idx) + \" ~\" + row + \"\\n\" for idx, row in df_docs['text'].iteritems()]"
   ]
  },
  {
   "cell_type": "code",
   "execution_count": 73,
   "id": "cbc6536e-0392-4c1d-aa48-75cf66cfd9ab",
   "metadata": {},
   "outputs": [],
   "source": [
    "with open(\"/home/vs428/Documents/Moore/iScout/iscout_ct_impressions_only.txt\", \"w\") as f:\n",
    "    for x in iscout_input:\n",
    "        f.write(x)"
   ]
  }
 ],
 "metadata": {
  "kernelspec": {
   "display_name": "Python 3",
   "language": "python",
   "name": "python3"
  },
  "language_info": {
   "codemirror_mode": {
    "name": "ipython",
    "version": 3
   },
   "file_extension": ".py",
   "mimetype": "text/x-python",
   "name": "python",
   "nbconvert_exporter": "python",
   "pygments_lexer": "ipython3",
   "version": "3.9.13"
  }
 },
 "nbformat": 4,
 "nbformat_minor": 5
}
