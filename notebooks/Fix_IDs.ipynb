{
 "cells": [
  {
   "cell_type": "code",
   "execution_count": 1,
   "id": "8c8f2d82-3e4b-46b1-8db4-f1e96b6d3aa6",
   "metadata": {},
   "outputs": [],
   "source": [
    "import pandas as pd\n",
    "import jsonlines"
   ]
  },
  {
   "cell_type": "code",
   "execution_count": 2,
   "id": "4f932ec3-f765-4d7c-b437-32df89758811",
   "metadata": {},
   "outputs": [],
   "source": [
    "pt_data = pd.read_csv(\"/home/vs428/project/Moore_data/CT_26545.csv\",\n",
    "                      names=[\"KL_ID\", \"text\", \"date_of_birth\", \"MRN\", \"visit_occurence_ID\"])\n",
    "all_pt_data = pd.read_csv(\"/home/vs428/project/Moore_data/CT_93966.csv\",\n",
    "                         names=[\"patient_ID\", \"MRN\", \"ENC_CSN_ID\", \"RD_ID\", \"KL_ID\", \"text\"])"
   ]
  },
  {
   "cell_type": "code",
   "execution_count": null,
   "id": "eb6da451-dd54-4a83-8c83-cc3faca866bb",
   "metadata": {},
   "outputs": [],
   "source": []
  },
  {
   "cell_type": "code",
   "execution_count": 7,
   "id": "1729c287-417b-4d90-b6b9-f218c5138309",
   "metadata": {},
   "outputs": [],
   "source": [
    "pt_data['date_of_birth'] = pt_data['date_of_birth'].astype(\"datetime64[ns]\")"
   ]
  },
  {
   "cell_type": "markdown",
   "id": "5bff05df-53ad-4718-8406-7e381a1ec44b",
   "metadata": {},
   "source": [
    "# Initial Metrics"
   ]
  },
  {
   "cell_type": "markdown",
   "id": "e2b134b1-2c22-4e47-b264-d0c939018b08",
   "metadata": {},
   "source": [
    "## For ED Patient Data"
   ]
  },
  {
   "cell_type": "markdown",
   "id": "cedb8165-b281-472e-bb58-87cb1247052a",
   "metadata": {},
   "source": [
    "This dataset is a list of patients (is it complete?) from 2014-2021 "
   ]
  },
  {
   "cell_type": "code",
   "execution_count": 3,
   "id": "13412855-126b-45eb-8c15-3fa577ab1a2c",
   "metadata": {},
   "outputs": [
    {
     "name": "stdout",
     "output_type": "stream",
     "text": [
      "# of rows:  26545\n",
      "# of unique KL_IDs:  26545\n",
      "# of unique patients by MRN:  17166\n",
      "# of unique patients by Visit ID:  26055\n",
      "# of Visits with more than one CT:  391\n",
      "Proportion of Visits with more than one CT:  0.015006716561120707\n"
     ]
    }
   ],
   "source": [
    "print(\"# of rows: \", pt_data.shape[0])\n",
    "print(\"# of unique KL_IDs: \", pt_data['KL_ID'].nunique())\n",
    "\n",
    "assert pt_data['KL_ID'].nunique() == pt_data.shape[0]\n",
    "\n",
    "print(\"# of unique patients by MRN: \", pt_data['MRN'].nunique())\n",
    "print(\"# of unique patients by Visit ID: \", pt_data['visit_occurence_ID'].nunique())\n",
    "\n",
    "print(\"# of Visits with more than one CT: \", (pt_data.groupby(\"visit_occurence_ID\").size() > 1).sum())\n",
    "print(\"Proportion of Visits with more than one CT: \", (pt_data.groupby(\"visit_occurence_ID\").size() > 1).sum()/pt_data.groupby(\"visit_occurence_ID\").ngroups)\n",
    "\n"
   ]
  },
  {
   "cell_type": "markdown",
   "id": "0f04c9f2-0398-4fdc-8dba-ea75b49b9f18",
   "metadata": {},
   "source": [
    "## For All Patient Data"
   ]
  },
  {
   "cell_type": "markdown",
   "id": "412351fb-59a8-426f-8f07-18ca4abe09c6",
   "metadata": {},
   "source": [
    "This dataset is all the CT reports for the patient cohort within the earlier file across the whole health system, not just ED. "
   ]
  },
  {
   "cell_type": "code",
   "execution_count": 65,
   "id": "5024e1ff-7da2-4c38-ac89-ef701f6c4469",
   "metadata": {},
   "outputs": [
    {
     "name": "stdout",
     "output_type": "stream",
     "text": [
      "# of rows:  93966\n",
      "# of unique KL_IDs:  25589\n",
      "# of unique patients by MRN:  16324\n",
      "# of unique patients by Encounter ID:  34626\n",
      "\n",
      "-------------------------------------------------------\n",
      "\n",
      "# of patients that exist in this dataset that aren't in the original dataset:  0\n",
      "# of Patients w/out KL_ID:  0\n",
      "# of patients that overlap with all patient data by text:  0\n"
     ]
    }
   ],
   "source": [
    "print(\"# of rows: \", all_pt_data.shape[0])\n",
    "print(\"# of unique KL_IDs: \", all_pt_data['KL_ID'].nunique())\n",
    "print(\"# of unique patients by MRN: \", all_pt_data['MRN'].nunique())\n",
    "print(\"# of unique patients by Encounter ID: \", all_pt_data['ENC_CSN_ID'].nunique())\n",
    "print(\"\\n-------------------------------------------------------\\n\")\n",
    "print(\"# of patients that exist in this dataset that aren't in the original dataset: \", (~all_pt_data['MRN'].isin(pt_data['MRN'])).sum())\n",
    "# sanity check on above\n",
    "assert (~all_pt_data['MRN'].isin(pt_data['MRN'])).sum() == 0\n",
    "\n",
    "print(\"# of Patients w/out KL_ID: \", all_pt_data['KL_ID'].isna().sum())\n",
    "print(\"# of patients that overlap with all patient data by text: \", pt_data['text'].isin(all_pt_data['text']).sum())\n"
   ]
  },
  {
   "cell_type": "markdown",
   "id": "71d98b3b-2f17-4010-b7ae-5efde84a4b3b",
   "metadata": {},
   "source": [
    "### Exemplar Selection Showing Lack of Match Between Datasets"
   ]
  },
  {
   "cell_type": "code",
   "execution_count": 38,
   "id": "5d95d597-d50c-46f3-93dd-ab038a885352",
   "metadata": {},
   "outputs": [
    {
     "data": {
      "text/html": [
       "<div>\n",
       "<style scoped>\n",
       "    .dataframe tbody tr th:only-of-type {\n",
       "        vertical-align: middle;\n",
       "    }\n",
       "\n",
       "    .dataframe tbody tr th {\n",
       "        vertical-align: top;\n",
       "    }\n",
       "\n",
       "    .dataframe thead th {\n",
       "        text-align: right;\n",
       "    }\n",
       "</style>\n",
       "<table border=\"1\" class=\"dataframe\">\n",
       "  <thead>\n",
       "    <tr style=\"text-align: right;\">\n",
       "      <th></th>\n",
       "      <th>KL_ID</th>\n",
       "      <th>text</th>\n",
       "      <th>date_of_birth</th>\n",
       "      <th>MRN</th>\n",
       "      <th>visit_occurence_ID</th>\n",
       "    </tr>\n",
       "  </thead>\n",
       "  <tbody>\n",
       "    <tr>\n",
       "      <th>0</th>\n",
       "      <td>KL_12943</td>\n",
       "      <td>Reported And Signed By: Amandeep Singh, MD** O...</td>\n",
       "      <td>2060-10-20</td>\n",
       "      <td>MR1515627</td>\n",
       "      <td>118291311</td>\n",
       "    </tr>\n",
       "  </tbody>\n",
       "</table>\n",
       "</div>"
      ],
      "text/plain": [
       "      KL_ID                                               text date_of_birth  \\\n",
       "0  KL_12943  Reported And Signed By: Amandeep Singh, MD** O...    2060-10-20   \n",
       "\n",
       "         MRN  visit_occurence_ID  \n",
       "0  MR1515627           118291311  "
      ]
     },
     "execution_count": 38,
     "metadata": {},
     "output_type": "execute_result"
    }
   ],
   "source": [
    "pt_data[(pt_data['MRN'] == \"MR1515627\") & (pt_data['KL_ID'] == \"KL_12943\")]"
   ]
  },
  {
   "cell_type": "code",
   "execution_count": 67,
   "id": "cd8dd15e-5a6f-482e-b7c4-3c2a9af8a08b",
   "metadata": {},
   "outputs": [
    {
     "data": {
      "text/html": [
       "<div>\n",
       "<style scoped>\n",
       "    .dataframe tbody tr th:only-of-type {\n",
       "        vertical-align: middle;\n",
       "    }\n",
       "\n",
       "    .dataframe tbody tr th {\n",
       "        vertical-align: top;\n",
       "    }\n",
       "\n",
       "    .dataframe thead th {\n",
       "        text-align: right;\n",
       "    }\n",
       "</style>\n",
       "<table border=\"1\" class=\"dataframe\">\n",
       "  <thead>\n",
       "    <tr style=\"text-align: right;\">\n",
       "      <th></th>\n",
       "      <th>patient_ID</th>\n",
       "      <th>MRN</th>\n",
       "      <th>ENC_CSN_ID</th>\n",
       "      <th>RD_ID</th>\n",
       "      <th>KL_ID</th>\n",
       "      <th>text</th>\n",
       "    </tr>\n",
       "  </thead>\n",
       "  <tbody>\n",
       "    <tr>\n",
       "      <th>0</th>\n",
       "      <td>39171732</td>\n",
       "      <td>MR1515627</td>\n",
       "      <td>183181823</td>\n",
       "      <td>RD_13507</td>\n",
       "      <td>KL_12943</td>\n",
       "      <td>NaN</td>\n",
       "    </tr>\n",
       "    <tr>\n",
       "      <th>1</th>\n",
       "      <td>39171732</td>\n",
       "      <td>MR1515627</td>\n",
       "      <td>183288981</td>\n",
       "      <td>RD_13507</td>\n",
       "      <td>KL_12943</td>\n",
       "      <td>CTA CHEST (PE) W IV CONTRAST  INDICATION: CP o...</td>\n",
       "    </tr>\n",
       "  </tbody>\n",
       "</table>\n",
       "</div>"
      ],
      "text/plain": [
       "   patient_ID        MRN  ENC_CSN_ID     RD_ID     KL_ID  \\\n",
       "0    39171732  MR1515627   183181823  RD_13507  KL_12943   \n",
       "1    39171732  MR1515627   183288981  RD_13507  KL_12943   \n",
       "\n",
       "                                                text  \n",
       "0                                                NaN  \n",
       "1  CTA CHEST (PE) W IV CONTRAST  INDICATION: CP o...  "
      ]
     },
     "execution_count": 67,
     "metadata": {},
     "output_type": "execute_result"
    }
   ],
   "source": [
    "all_pt_data[(all_pt_data['MRN'] == \"MR1515627\") & (all_pt_data['KL_ID'] == \"KL_12943\")]\n",
    "# all_pt_data[(all_pt_data['MRN'] == \"MR1515627\")]"
   ]
  },
  {
   "cell_type": "code",
   "execution_count": 52,
   "id": "4e2150eb-89ec-4efa-8a59-66f5ce346283",
   "metadata": {},
   "outputs": [
    {
     "data": {
      "text/plain": [
       "'Reported And Signed By: Amandeep Singh, MD** ORIGINAL REPORT **  CTA CHEST (PE) W IV CONTRAST   INDICATION: Known pulmonary embolism, on the Lovenox, increased work of breathing and altered mental status.  COMPARISON: CT chest 11/12/2018.  TECHNIQUE: CT images of the chest were obtained from the lung bases through the apices after the intravenous administration of 80cc of Omnipaque-350 contrast. Multiplanar MIPs are provided.   FINDINGS:  There is adequate opacification of the pulmonary arterial tree without evidence of pulmonary embolus. The previously seen subsegmental emboli in the right upper lobe not visualized. The aorta and main pulmonary artery are normal in caliber.  The tracheobronchial tree is patent. No suspicious pulmonary nodule is seen. Scattered punctate calcified granulomas are noted. There is no pneumothorax or pleural effusion.  There is no mediastinal, axillary or hilar adenopathy. No aggressive osseous lesion is identified.  IMPRESSION:   No pulmonary embolism.  Reported And Signed By: Amandeep Singh, MD'"
      ]
     },
     "execution_count": 52,
     "metadata": {},
     "output_type": "execute_result"
    }
   ],
   "source": [
    "pt_data[(pt_data['MRN'] == \"MR1515627\") \n",
    "        & (pt_data['KL_ID'] == \"KL_12943\")].squeeze()['text']"
   ]
  },
  {
   "cell_type": "code",
   "execution_count": 57,
   "id": "654467ff-da72-4642-9cab-8e8209eaffe1",
   "metadata": {},
   "outputs": [
    {
     "data": {
      "text/plain": [
       "'CTA CHEST (PE) W IV CONTRAST  INDICATION: CP or SOB  COMPARISON: CTA of the chest dated 12/1/2018.  TECHNIQUE: CT images of the chest were obtained from the lung bases through the apices after the intravenous administration of 80cc of Omnipaque-350 contrast. Multiplanar MIPs are provided.    FINDINGS: There is no evidence of filling defects in the pulmonary arteries to suspect pulmonary embolism.  These findings were corroborated in the MIP images. The central pulmonary arteries are normal in caliber.  The heart is normal in size; specifically, the right ventricle is normal. There is no evidence of pericardial effusion. There is no aneurysm or dissection of the thoracic aorta.   There is no pulmonary consolidation either atelectasis.. There is no pleural effusion or pneumothorax.  There is no axillary, mediastinal, or hilar lymphadenopathy.   Limited evaluation of the upper abdomen demonstrates diffuse hepatic steatosis..  No aggressive osseous lesions are seen. '"
      ]
     },
     "execution_count": 57,
     "metadata": {},
     "output_type": "execute_result"
    }
   ],
   "source": [
    "all_pt_data[(all_pt_data['MRN'] == \"MR1515627\") & \n",
    "           (~all_pt_data['text'].isna())\n",
    "           & (all_pt_data['KL_ID'] == \"KL_12943\")].squeeze()['text']"
   ]
  },
  {
   "cell_type": "code",
   "execution_count": 29,
   "id": "f455bf1c-e403-4daa-83f4-a804bb9ff0bf",
   "metadata": {},
   "outputs": [
    {
     "data": {
      "text/html": [
       "<div>\n",
       "<style scoped>\n",
       "    .dataframe tbody tr th:only-of-type {\n",
       "        vertical-align: middle;\n",
       "    }\n",
       "\n",
       "    .dataframe tbody tr th {\n",
       "        vertical-align: top;\n",
       "    }\n",
       "\n",
       "    .dataframe thead th {\n",
       "        text-align: right;\n",
       "    }\n",
       "</style>\n",
       "<table border=\"1\" class=\"dataframe\">\n",
       "  <thead>\n",
       "    <tr style=\"text-align: right;\">\n",
       "      <th></th>\n",
       "      <th>patient_ID</th>\n",
       "      <th>MRN</th>\n",
       "      <th>ENC_CSN_ID</th>\n",
       "      <th>RD_ID</th>\n",
       "      <th>KL_ID</th>\n",
       "      <th>text</th>\n",
       "    </tr>\n",
       "  </thead>\n",
       "  <tbody>\n",
       "    <tr>\n",
       "      <th>0</th>\n",
       "      <td>39171732</td>\n",
       "      <td>MR1515627</td>\n",
       "      <td>183181823</td>\n",
       "      <td>RD_13507</td>\n",
       "      <td>KL_12943</td>\n",
       "      <td>NaN</td>\n",
       "    </tr>\n",
       "    <tr>\n",
       "      <th>1</th>\n",
       "      <td>39171732</td>\n",
       "      <td>MR1515627</td>\n",
       "      <td>183288981</td>\n",
       "      <td>RD_13507</td>\n",
       "      <td>KL_12943</td>\n",
       "      <td>CTA CHEST (PE) W IV CONTRAST  INDICATION: CP o...</td>\n",
       "    </tr>\n",
       "    <tr>\n",
       "      <th>2</th>\n",
       "      <td>39171732</td>\n",
       "      <td>MR1515627</td>\n",
       "      <td>183181823</td>\n",
       "      <td>RD_13507</td>\n",
       "      <td>KL_20625</td>\n",
       "      <td>NaN</td>\n",
       "    </tr>\n",
       "    <tr>\n",
       "      <th>3</th>\n",
       "      <td>39171732</td>\n",
       "      <td>MR1515627</td>\n",
       "      <td>183288981</td>\n",
       "      <td>RD_13507</td>\n",
       "      <td>KL_20625</td>\n",
       "      <td>CTA CHEST (PE) W IV CONTRAST  INDICATION: CP o...</td>\n",
       "    </tr>\n",
       "    <tr>\n",
       "      <th>4</th>\n",
       "      <td>29530916</td>\n",
       "      <td>MR6010698</td>\n",
       "      <td>182917563</td>\n",
       "      <td>RD_10347</td>\n",
       "      <td>KL_14997</td>\n",
       "      <td>NaN</td>\n",
       "    </tr>\n",
       "    <tr>\n",
       "      <th>...</th>\n",
       "      <td>...</td>\n",
       "      <td>...</td>\n",
       "      <td>...</td>\n",
       "      <td>...</td>\n",
       "      <td>...</td>\n",
       "      <td>...</td>\n",
       "    </tr>\n",
       "    <tr>\n",
       "      <th>93961</th>\n",
       "      <td>13483478</td>\n",
       "      <td>MR2519855</td>\n",
       "      <td>266564050</td>\n",
       "      <td>RD_5644</td>\n",
       "      <td>KL_9751</td>\n",
       "      <td>Yale Radiology and Biomedical Imaging** ORIGIN...</td>\n",
       "    </tr>\n",
       "    <tr>\n",
       "      <th>93962</th>\n",
       "      <td>44392700</td>\n",
       "      <td>MR5721053</td>\n",
       "      <td>268196656</td>\n",
       "      <td>RD_16598</td>\n",
       "      <td>KL_18849</td>\n",
       "      <td>Yale Radiology and Biomedical Imaging** ORIGIN...</td>\n",
       "    </tr>\n",
       "    <tr>\n",
       "      <th>93963</th>\n",
       "      <td>13134339</td>\n",
       "      <td>MR2538725</td>\n",
       "      <td>265763539</td>\n",
       "      <td>RD_4586</td>\n",
       "      <td>KL_24924</td>\n",
       "      <td>Yale Radiology and Biomedical Imaging** ORIGIN...</td>\n",
       "    </tr>\n",
       "    <tr>\n",
       "      <th>93964</th>\n",
       "      <td>10719287</td>\n",
       "      <td>MR2279041</td>\n",
       "      <td>218245067</td>\n",
       "      <td>RD_1332</td>\n",
       "      <td>KL_532</td>\n",
       "      <td>\\ CT CHEST ABDOMEN PELVIS W IV CONTRAST, CT 2D...</td>\n",
       "    </tr>\n",
       "    <tr>\n",
       "      <th>93965</th>\n",
       "      <td>19659793</td>\n",
       "      <td>MR5717254</td>\n",
       "      <td>175038319</td>\n",
       "      <td>RD_9508</td>\n",
       "      <td>KL_6441</td>\n",
       "      <td>dd CTA CHEST (PE) W IV CONTRAST  INDICATION: C...</td>\n",
       "    </tr>\n",
       "  </tbody>\n",
       "</table>\n",
       "<p>93966 rows × 6 columns</p>\n",
       "</div>"
      ],
      "text/plain": [
       "       patient_ID        MRN  ENC_CSN_ID     RD_ID     KL_ID  \\\n",
       "0        39171732  MR1515627   183181823  RD_13507  KL_12943   \n",
       "1        39171732  MR1515627   183288981  RD_13507  KL_12943   \n",
       "2        39171732  MR1515627   183181823  RD_13507  KL_20625   \n",
       "3        39171732  MR1515627   183288981  RD_13507  KL_20625   \n",
       "4        29530916  MR6010698   182917563  RD_10347  KL_14997   \n",
       "...           ...        ...         ...       ...       ...   \n",
       "93961    13483478  MR2519855   266564050   RD_5644   KL_9751   \n",
       "93962    44392700  MR5721053   268196656  RD_16598  KL_18849   \n",
       "93963    13134339  MR2538725   265763539   RD_4586  KL_24924   \n",
       "93964    10719287  MR2279041   218245067   RD_1332    KL_532   \n",
       "93965    19659793  MR5717254   175038319   RD_9508   KL_6441   \n",
       "\n",
       "                                                    text  \n",
       "0                                                    NaN  \n",
       "1      CTA CHEST (PE) W IV CONTRAST  INDICATION: CP o...  \n",
       "2                                                    NaN  \n",
       "3      CTA CHEST (PE) W IV CONTRAST  INDICATION: CP o...  \n",
       "4                                                    NaN  \n",
       "...                                                  ...  \n",
       "93961  Yale Radiology and Biomedical Imaging** ORIGIN...  \n",
       "93962  Yale Radiology and Biomedical Imaging** ORIGIN...  \n",
       "93963  Yale Radiology and Biomedical Imaging** ORIGIN...  \n",
       "93964  \\ CT CHEST ABDOMEN PELVIS W IV CONTRAST, CT 2D...  \n",
       "93965  dd CTA CHEST (PE) W IV CONTRAST  INDICATION: C...  \n",
       "\n",
       "[93966 rows x 6 columns]"
      ]
     },
     "execution_count": 29,
     "metadata": {},
     "output_type": "execute_result"
    }
   ],
   "source": [
    "all_pt_data"
   ]
  },
  {
   "cell_type": "code",
   "execution_count": 82,
   "id": "82bee3d1-3fbd-44de-a0dd-2db58fb9d600",
   "metadata": {},
   "outputs": [
    {
     "data": {
      "text/html": [
       "<div>\n",
       "<style scoped>\n",
       "    .dataframe tbody tr th:only-of-type {\n",
       "        vertical-align: middle;\n",
       "    }\n",
       "\n",
       "    .dataframe tbody tr th {\n",
       "        vertical-align: top;\n",
       "    }\n",
       "\n",
       "    .dataframe thead th {\n",
       "        text-align: right;\n",
       "    }\n",
       "</style>\n",
       "<table border=\"1\" class=\"dataframe\">\n",
       "  <thead>\n",
       "    <tr style=\"text-align: right;\">\n",
       "      <th></th>\n",
       "      <th>patient_ID</th>\n",
       "      <th>MRN</th>\n",
       "      <th>ENC_CSN_ID</th>\n",
       "      <th>RD_ID</th>\n",
       "      <th>KL_ID</th>\n",
       "      <th>text</th>\n",
       "    </tr>\n",
       "  </thead>\n",
       "  <tbody>\n",
       "  </tbody>\n",
       "</table>\n",
       "</div>"
      ],
      "text/plain": [
       "Empty DataFrame\n",
       "Columns: [patient_ID, MRN, ENC_CSN_ID, RD_ID, KL_ID, text]\n",
       "Index: []"
      ]
     },
     "execution_count": 82,
     "metadata": {},
     "output_type": "execute_result"
    }
   ],
   "source": [
    "all_pt_data[all_pt_data['text'].str.contains(r\"suspicious pulmonary nodule is seen. Scattered punctate calcified\",\n",
    "                                            na=False)]"
   ]
  },
  {
   "cell_type": "code",
   "execution_count": null,
   "id": "43ca6ddf-cb44-4e1e-a467-457301c507d7",
   "metadata": {},
   "outputs": [],
   "source": []
  }
 ],
 "metadata": {
  "kernelspec": {
   "display_name": "Python 3",
   "language": "python",
   "name": "python3"
  },
  "language_info": {
   "codemirror_mode": {
    "name": "ipython",
    "version": 3
   },
   "file_extension": ".py",
   "mimetype": "text/x-python",
   "name": "python",
   "nbconvert_exporter": "python",
   "pygments_lexer": "ipython3",
   "version": "3.9.13"
  }
 },
 "nbformat": 4,
 "nbformat_minor": 5
}
