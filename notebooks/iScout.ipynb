{
 "cells": [
  {
   "cell_type": "code",
   "execution_count": 32,
   "id": "5fde6163-1474-494c-9b10-e08cd5770ec9",
   "metadata": {},
   "outputs": [],
   "source": [
    "import pandas as pd\n",
    "import matplotlib.pyplot as plt\n",
    "import numpy as np\n",
    "from sklearn.metrics import DetCurveDisplay, RocCurveDisplay, PrecisionRecallDisplay, ConfusionMatrixDisplay"
   ]
  },
  {
   "cell_type": "code",
   "execution_count": 5,
   "id": "558d52a3-654d-4249-b4ad-75576de238e8",
   "metadata": {},
   "outputs": [],
   "source": [
    "def plot_multiclass_pr_from_preds(y_test, y_pred, \n",
    "                        title=\"PR Curve\", labels=None, figsize=(8, 6)):\n",
    "\n",
    "    # structures\n",
    "    precision = dict()\n",
    "    recall = dict()\n",
    "\n",
    "    n_classes = y_pred.shape[1]\n",
    "    assert y_pred.shape[1] >= np.max(y_test)\n",
    "\n",
    "    # calculate dummies once\n",
    "    y_test_dummies = pd.get_dummies(y_test, drop_first=False)\n",
    "    y_test_dummies_vals = y_test_dummies.values\n",
    "    \n",
    "    average_precision = average_precision_score(y_test_dummies_vals, y_pred, average=None)\n",
    "    \n",
    "    for i in range(n_classes):\n",
    "        precision[i], recall[i], _ = precision_recall_curve(y_test_dummies_vals[:, i], y_pred[:, i])\n",
    "        # print(precision[i][-50:], recall[i][-50:])\n",
    "        \n",
    "    # pr for each class\n",
    "    fig, ax = plt.subplots(figsize=figsize)\n",
    "    ax.plot([0, 1], [0.5, 0.5], 'k--')\n",
    "    ax.set_xlim([0.0, 1.05])\n",
    "    ax.set_ylim([0.5, 1.05])\n",
    "    ax.set_xlabel('Recall')\n",
    "    ax.set_ylabel('Precision')\n",
    "    ax.set_title(title)\n",
    "\n",
    "    if labels:\n",
    "        for i, label in zip(range(n_classes), labels):\n",
    "            ax.plot(precision[i], recall[i], label=f'PR curve (AP = {average_precision[i]:.2f}) for {label}')\n",
    "    else:\n",
    "        for i in range(n_classes):\n",
    "            ax.plot(precision[i], recall[i], label=f'PR curve (AP = {average_precision[i]:.2f}) for label {i}')\n",
    "        \n",
    "    ax.legend(loc=\"best\")\n",
    "    ax.grid(alpha=.4)\n",
    "    sns.despine()\n",
    "    plt.show()\n",
    "\n",
    "def plot_multiclass_roc_from_preds(y_test, y_pred,\n",
    "                        title=\"ROC Curve\", labels=None, figsize=(8, 6)):\n",
    "\n",
    "    # structures\n",
    "    fpr = dict()\n",
    "    tpr = dict()\n",
    "    roc_auc = dict()\n",
    "    \n",
    "    n_classes = 3#y_pred.shape[1]\n",
    "    # assert y_pred.shape[1] >= np.max(y_test)\n",
    "    \n",
    "    # calculate dummies once\n",
    "    y_test_dummies = pd.get_dummies(y_test, drop_first=False)\n",
    "    y_test_dummies_vals = y_test_dummies.values\n",
    "    for i in range(n_classes):\n",
    "        fpr[i], tpr[i], _ = roc_curve(y_test_dummies_vals[:, i], y_pred[:, i])\n",
    "        roc_auc[i] = auc(fpr[i], tpr[i])\n",
    "\n",
    "    # roc for each class\n",
    "    fig, ax = plt.subplots(figsize=figsize)\n",
    "    ax.plot([0, 1], [0, 1], 'k--')\n",
    "    ax.set_xlim([0.0, 1.0])\n",
    "    ax.set_ylim([0.0, 1.05])\n",
    "    ax.set_xlabel('False Positive Rate')\n",
    "    ax.set_ylabel('True Positive Rate')\n",
    "    ax.set_title(title)\n",
    "    if labels:\n",
    "        for i, label in zip(range(n_classes), labels):\n",
    "            ax.plot(fpr[i], tpr[i], label=f'ROC curve (area = {roc_auc[i]:.2f}) for {label}')\n",
    "    else:\n",
    "        for i in range(n_classes):\n",
    "            ax.plot(fpr[i], tpr[i], label=f'ROC curve (area = {roc_auc[i]:.2f}) for label {i}')\n",
    "        \n",
    "    ax.legend(loc=\"best\")\n",
    "    ax.grid(alpha=.4)\n",
    "    # sns.despine()\n",
    "    plt.show()\n"
   ]
  },
  {
   "cell_type": "markdown",
   "id": "393bbf84-8a24-4636-bb64-1a1800e76cee",
   "metadata": {},
   "source": [
    "# Compute Metrics based on iScout"
   ]
  },
  {
   "cell_type": "code",
   "execution_count": 12,
   "id": "b4000b71-837e-4f34-8a73-0a1f2fda7fc3",
   "metadata": {},
   "outputs": [],
   "source": [
    "df_docs = pd.read_csv(\"/home/vs428/project/Moore_data/followup_impression_data/dev.csv\")"
   ]
  },
  {
   "cell_type": "code",
   "execution_count": 13,
   "id": "69bef7c5-4f14-408e-8e1b-69546b3b68b1",
   "metadata": {},
   "outputs": [],
   "source": [
    "df_docs = df_docs.drop(\"Unnamed: 0\", axis=1)"
   ]
  },
  {
   "cell_type": "code",
   "execution_count": 18,
   "id": "8d958a0c-f201-47cc-b948-c28b56613f65",
   "metadata": {},
   "outputs": [],
   "source": [
    "with open(\"/home/vs428/Documents/Moore/iScout/final.txt\") as f:\n",
    "    x = f.read().splitlines()"
   ]
  },
  {
   "cell_type": "code",
   "execution_count": 20,
   "id": "68218dcf-46b7-4986-b1ba-66273372e177",
   "metadata": {},
   "outputs": [],
   "source": [
    "iscout_pred = [int(z) for z in x]"
   ]
  },
  {
   "cell_type": "code",
   "execution_count": 24,
   "id": "7e75e0f9-4c5d-44eb-a9ea-b2868d14503e",
   "metadata": {},
   "outputs": [],
   "source": [
    "df_docs.loc[iscout_pred, \"iScout_pred\"] = \"FOLLOW_UP\""
   ]
  },
  {
   "cell_type": "code",
   "execution_count": 28,
   "id": "4e3760f3-22d4-4518-b57e-1857ae4aa123",
   "metadata": {},
   "outputs": [],
   "source": [
    "df_docs['iScout_pred'] = df_docs['iScout_pred'].fillna(\"NO_FOLLOWUP\")"
   ]
  },
  {
   "cell_type": "code",
   "execution_count": 34,
   "id": "48f25c2e-337e-46ab-b2dd-b0fb60e5eb1b",
   "metadata": {},
   "outputs": [],
   "source": [
    "df_docs['label_simple'] = np.where((df_docs['label'] == \"CONDITIONAL_FOLLOWUP\") | (df_docs['label'] == \"HARD_FOLLOWUP\"), \"FOLLOW_UP\", \"NO_FOLLOWUP\")\n"
   ]
  },
  {
   "cell_type": "code",
   "execution_count": 36,
   "id": "b9450cf8-deae-40a9-8c62-4ea349a945e2",
   "metadata": {},
   "outputs": [
    {
     "data": {
      "text/html": [
       "<div>\n",
       "<style scoped>\n",
       "    .dataframe tbody tr th:only-of-type {\n",
       "        vertical-align: middle;\n",
       "    }\n",
       "\n",
       "    .dataframe tbody tr th {\n",
       "        vertical-align: top;\n",
       "    }\n",
       "\n",
       "    .dataframe thead th {\n",
       "        text-align: right;\n",
       "    }\n",
       "</style>\n",
       "<table border=\"1\" class=\"dataframe\">\n",
       "  <thead>\n",
       "    <tr style=\"text-align: right;\">\n",
       "      <th></th>\n",
       "      <th>text</th>\n",
       "      <th>label</th>\n",
       "      <th>iScout_pred</th>\n",
       "      <th>label_simple</th>\n",
       "    </tr>\n",
       "  </thead>\n",
       "  <tbody>\n",
       "    <tr>\n",
       "      <th>0</th>\n",
       "      <td>IMPRESSION: 3.2 cm infrarenal abdominal aortic...</td>\n",
       "      <td>NO_FOLLOWUP</td>\n",
       "      <td>NO_FOLLOWUP</td>\n",
       "      <td>NO_FOLLOWUP</td>\n",
       "    </tr>\n",
       "    <tr>\n",
       "      <th>1</th>\n",
       "      <td>IMPRESSION:  No evidence of pulmonary embolism...</td>\n",
       "      <td>NO_FOLLOWUP</td>\n",
       "      <td>NO_FOLLOWUP</td>\n",
       "      <td>NO_FOLLOWUP</td>\n",
       "    </tr>\n",
       "    <tr>\n",
       "      <th>2</th>\n",
       "      <td>IMPRESSION: No pulmonary embolism.  Emphysema....</td>\n",
       "      <td>CONDITIONAL_FOLLOWUP</td>\n",
       "      <td>NO_FOLLOWUP</td>\n",
       "      <td>FOLLOW_UP</td>\n",
       "    </tr>\n",
       "    <tr>\n",
       "      <th>3</th>\n",
       "      <td>IMPRESSION: No acute traumatic injury in the c...</td>\n",
       "      <td>NO_FOLLOWUP</td>\n",
       "      <td>NO_FOLLOWUP</td>\n",
       "      <td>NO_FOLLOWUP</td>\n",
       "    </tr>\n",
       "    <tr>\n",
       "      <th>4</th>\n",
       "      <td>CTA CHEST (PE) W IV CONTRAST INDICATION: PE su...</td>\n",
       "      <td>NO_FOLLOWUP</td>\n",
       "      <td>NO_FOLLOWUP</td>\n",
       "      <td>NO_FOLLOWUP</td>\n",
       "    </tr>\n",
       "    <tr>\n",
       "      <th>...</th>\n",
       "      <td>...</td>\n",
       "      <td>...</td>\n",
       "      <td>...</td>\n",
       "      <td>...</td>\n",
       "    </tr>\n",
       "    <tr>\n",
       "      <th>133</th>\n",
       "      <td>IMPRESSION:  No evidence of pulmonary embolism...</td>\n",
       "      <td>CONDITIONAL_FOLLOWUP</td>\n",
       "      <td>FOLLOW_UP</td>\n",
       "      <td>FOLLOW_UP</td>\n",
       "    </tr>\n",
       "    <tr>\n",
       "      <th>134</th>\n",
       "      <td>IMPRESSION:  1. No pulmonary embolism or aorti...</td>\n",
       "      <td>NO_FOLLOWUP</td>\n",
       "      <td>FOLLOW_UP</td>\n",
       "      <td>NO_FOLLOWUP</td>\n",
       "    </tr>\n",
       "    <tr>\n",
       "      <th>135</th>\n",
       "      <td>IMPRESSION:  1. No evidence of pulmonary embol...</td>\n",
       "      <td>CONDITIONAL_FOLLOWUP</td>\n",
       "      <td>FOLLOW_UP</td>\n",
       "      <td>FOLLOW_UP</td>\n",
       "    </tr>\n",
       "    <tr>\n",
       "      <th>136</th>\n",
       "      <td>Impression:  No evidence of pulmonary embolism...</td>\n",
       "      <td>HARD_FOLLOWUP</td>\n",
       "      <td>FOLLOW_UP</td>\n",
       "      <td>FOLLOW_UP</td>\n",
       "    </tr>\n",
       "    <tr>\n",
       "      <th>137</th>\n",
       "      <td>IMPRESSION:   Small intraluminal filling defec...</td>\n",
       "      <td>NO_FOLLOWUP</td>\n",
       "      <td>NO_FOLLOWUP</td>\n",
       "      <td>NO_FOLLOWUP</td>\n",
       "    </tr>\n",
       "  </tbody>\n",
       "</table>\n",
       "<p>138 rows × 4 columns</p>\n",
       "</div>"
      ],
      "text/plain": [
       "                                                  text                 label  \\\n",
       "0    IMPRESSION: 3.2 cm infrarenal abdominal aortic...           NO_FOLLOWUP   \n",
       "1    IMPRESSION:  No evidence of pulmonary embolism...           NO_FOLLOWUP   \n",
       "2    IMPRESSION: No pulmonary embolism.  Emphysema....  CONDITIONAL_FOLLOWUP   \n",
       "3    IMPRESSION: No acute traumatic injury in the c...           NO_FOLLOWUP   \n",
       "4    CTA CHEST (PE) W IV CONTRAST INDICATION: PE su...           NO_FOLLOWUP   \n",
       "..                                                 ...                   ...   \n",
       "133  IMPRESSION:  No evidence of pulmonary embolism...  CONDITIONAL_FOLLOWUP   \n",
       "134  IMPRESSION:  1. No pulmonary embolism or aorti...           NO_FOLLOWUP   \n",
       "135  IMPRESSION:  1. No evidence of pulmonary embol...  CONDITIONAL_FOLLOWUP   \n",
       "136  Impression:  No evidence of pulmonary embolism...         HARD_FOLLOWUP   \n",
       "137  IMPRESSION:   Small intraluminal filling defec...           NO_FOLLOWUP   \n",
       "\n",
       "     iScout_pred label_simple  \n",
       "0    NO_FOLLOWUP  NO_FOLLOWUP  \n",
       "1    NO_FOLLOWUP  NO_FOLLOWUP  \n",
       "2    NO_FOLLOWUP    FOLLOW_UP  \n",
       "3    NO_FOLLOWUP  NO_FOLLOWUP  \n",
       "4    NO_FOLLOWUP  NO_FOLLOWUP  \n",
       "..           ...          ...  \n",
       "133    FOLLOW_UP    FOLLOW_UP  \n",
       "134    FOLLOW_UP  NO_FOLLOWUP  \n",
       "135    FOLLOW_UP    FOLLOW_UP  \n",
       "136    FOLLOW_UP    FOLLOW_UP  \n",
       "137  NO_FOLLOWUP  NO_FOLLOWUP  \n",
       "\n",
       "[138 rows x 4 columns]"
      ]
     },
     "execution_count": 36,
     "metadata": {},
     "output_type": "execute_result"
    }
   ],
   "source": [
    "df_docs"
   ]
  },
  {
   "cell_type": "code",
   "execution_count": 48,
   "id": "d59ca020-c60b-4e19-a079-590c29cd6db7",
   "metadata": {},
   "outputs": [
    {
     "data": {
      "text/plain": [
       "Text(0, 0.5, 'True Follow-Up Label (from Ryan)')"
      ]
     },
     "execution_count": 48,
     "metadata": {},
     "output_type": "execute_result"
    },
    {
     "data": {
      "image/png": "[encoded data removed]",
      "text/plain": [
       "<Figure size 800x800 with 2 Axes>"
      ]
     },
     "metadata": {},
     "output_type": "display_data"
    }
   ],
   "source": [
    "fig, ax = plt.subplots(figsize = (8,8))\n",
    "ax.set_title(\"iScout Confusion Matrix\", fontsize=16, fontweight=\"bold\")\n",
    "\n",
    "ConfusionMatrixDisplay.from_predictions(df_docs['label_simple'], df_docs['iScout_pred'], ax=ax)\n",
    "ax.set_xlabel(\"iScout Predictions\", fontsize=13)\n",
    "ax.set_ylabel(\"True Follow-Up Label (from Ryan)\", fontsize=13)"
   ]
  },
  {
   "cell_type": "code",
   "execution_count": 40,
   "id": "b49e0dc5-e92e-4e2b-85cf-94cb05ece02f",
   "metadata": {},
   "outputs": [],
   "source": [
    "# fig, [ax_roc, ax_det, ax_pr] = plt.subplots(1, 3, figsize=(20, 5))\n",
    "\n",
    "# RocCurveDisplay.from_predictions(df_docs['label_simple'], df_docs['iScout_pred'], ax=ax_roc,pos_label=\"FOLLOW_UP\" )# name=name)\n",
    "# DetCurveDisplay.from_predictions(df_docs['label_simple'], df_docs['iScout_pred'], ax=ax_det, pos_label=\"FOLLOW_UP\")#, name=name)\n",
    "# PrecisionRecallDisplay.from_predictions(df_docs['label_simple'], df_docs['iScout_pred'], ax=ax_pr, pos_label=\"FOLLOW_UP\")\n"
   ]
  },
  {
   "cell_type": "code",
   "execution_count": null,
   "id": "42b29770-6698-4947-91c3-804e328dc391",
   "metadata": {},
   "outputs": [],
   "source": []
  }
 ],
 "metadata": {
  "kernelspec": {
   "display_name": "Python 3",
   "language": "python",
   "name": "python3"
  },
  "language_info": {
   "codemirror_mode": {
    "name": "ipython",
    "version": 3
   },
   "file_extension": ".py",
   "mimetype": "text/x-python",
   "name": "python",
   "nbconvert_exporter": "python",
   "pygments_lexer": "ipython3",
   "version": "3.9.13"
  }
 },
 "nbformat": 4,
 "nbformat_minor": 5
}
